{
 "cells": [
  {
   "cell_type": "code",
   "execution_count": 1,
   "id": "98852dbe",
   "metadata": {},
   "outputs": [
    {
     "name": "stdout",
     "output_type": "stream",
     "text": [
      "p\n",
      "y\n",
      "t\n",
      "h\n"
     ]
    }
   ],
   "source": [
    "for letter in \"python\":\n",
    "    if letter ==\"o\":\n",
    "        break\n",
    "    print(letter)"
   ]
  },
  {
   "cell_type": "code",
   "execution_count": 2,
   "id": "3e83718d",
   "metadata": {},
   "outputs": [
    {
     "name": "stdout",
     "output_type": "stream",
     "text": [
      "p\n",
      "y\n",
      "t\n",
      "h\n",
      "o\n"
     ]
    }
   ],
   "source": [
    "for letter in \"python\":\n",
    "    print(letter)\n",
    "    if letter ==\"o\":\n",
    "        break\n",
    "    "
   ]
  },
  {
   "cell_type": "code",
   "execution_count": 3,
   "id": "216c16f6",
   "metadata": {},
   "outputs": [
    {
     "name": "stdout",
     "output_type": "stream",
     "text": [
      "the letter c in the string\n"
     ]
    }
   ],
   "source": [
    "#Found a value\n",
    "for char in \"icecream\":\n",
    "    if char ==\"c\":\n",
    "        print(\"the letter %s in the string\" %char)\n",
    "        break\n",
    "else:\n",
    "    print(\"the letter %s does not exist.\" %char)"
   ]
  },
  {
   "cell_type": "code",
   "execution_count": 4,
   "id": "0dfae9b5",
   "metadata": {},
   "outputs": [
    {
     "name": "stdout",
     "output_type": "stream",
     "text": [
      "0\n",
      "1\n",
      "2\n"
     ]
    }
   ],
   "source": [
    "for i in range(5):\n",
    "    if i==3:\n",
    "        break\n",
    "    print(i)"
   ]
  },
  {
   "cell_type": "code",
   "execution_count": 5,
   "id": "bee72c40",
   "metadata": {},
   "outputs": [
    {
     "name": "stdout",
     "output_type": "stream",
     "text": [
      "0 square  0\n",
      "1 square  1\n",
      "2 square  4\n",
      "3 square  9\n",
      "4 square  16\n",
      "5 square  25\n"
     ]
    }
   ],
   "source": [
    "my_list=range(10)\n",
    "for num in my_list:\n",
    "    if num**2>25:\n",
    "        break\n",
    "    print(num,\"square \", num**2)"
   ]
  },
  {
   "cell_type": "code",
   "execution_count": 6,
   "id": "29d672ed",
   "metadata": {},
   "outputs": [
    {
     "name": "stdout",
     "output_type": "stream",
     "text": [
      "villain got away\n"
     ]
    }
   ],
   "source": [
    "plc=[\"turkey\",\"germany\",\"czhekia\",\"sweden\",\"italy\"]\n",
    "villain=\"mali\"\n",
    "for place in plc:\n",
    "    if place ==villain:\n",
    "        print(\"captured\")\n",
    "        break\n",
    "else:\n",
    "    print(\"villain got away\")"
   ]
  },
  {
   "cell_type": "code",
   "execution_count": null,
   "id": "f2bb1ba2",
   "metadata": {},
   "outputs": [
    {
     "name": "stdout",
     "output_type": "stream",
     "text": [
      "entersecret\n",
      "ypu got it\n"
     ]
    }
   ],
   "source": [
    "for i in range(3):\n",
    "    password=str(input(\"enter\"))\n",
    "    if password==\"secret\":\n",
    "        print(\"ypu got it\")\n",
    "else:\n",
    "    print(\"3 times wrong\")"
   ]
  },
  {
   "cell_type": "code",
   "execution_count": null,
   "id": "3bcf72d4",
   "metadata": {},
   "outputs": [],
   "source": []
  }
 ],
 "metadata": {
  "kernelspec": {
   "display_name": "Python 3 (ipykernel)",
   "language": "python",
   "name": "python3"
  },
  "language_info": {
   "codemirror_mode": {
    "name": "ipython",
    "version": 3
   },
   "file_extension": ".py",
   "mimetype": "text/x-python",
   "name": "python",
   "nbconvert_exporter": "python",
   "pygments_lexer": "ipython3",
   "version": "3.9.12"
  }
 },
 "nbformat": 4,
 "nbformat_minor": 5
}
