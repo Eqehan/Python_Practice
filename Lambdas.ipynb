{
 "cells": [
  {
   "cell_type": "code",
   "execution_count": 1,
   "id": "75162e53",
   "metadata": {},
   "outputs": [],
   "source": [
    "cube_of = lambda x: x*x*x"
   ]
  },
  {
   "cell_type": "code",
   "execution_count": 2,
   "id": "dab44e68",
   "metadata": {},
   "outputs": [
    {
     "data": {
      "text/plain": [
       "125"
      ]
     },
     "execution_count": 2,
     "metadata": {},
     "output_type": "execute_result"
    }
   ],
   "source": [
    "result=cube_of(5)\n",
    "result"
   ]
  },
  {
   "cell_type": "code",
   "execution_count": 3,
   "id": "5927d4de",
   "metadata": {},
   "outputs": [],
   "source": [
    "add = lambda x,y:x+y"
   ]
  },
  {
   "cell_type": "code",
   "execution_count": 4,
   "id": "ea2f39ad",
   "metadata": {},
   "outputs": [
    {
     "name": "stdout",
     "output_type": "stream",
     "text": [
      "8\n"
     ]
    }
   ],
   "source": [
    "print(add(5,3))"
   ]
  },
  {
   "cell_type": "code",
   "execution_count": 5,
   "id": "4e853e3e",
   "metadata": {},
   "outputs": [],
   "source": [
    "def calculate(*args,op=add):\n",
    "    return op(*args)"
   ]
  },
  {
   "cell_type": "code",
   "execution_count": 6,
   "id": "70bdba9d",
   "metadata": {},
   "outputs": [
    {
     "data": {
      "text/plain": [
       "10000"
      ]
     },
     "execution_count": 6,
     "metadata": {},
     "output_type": "execute_result"
    }
   ],
   "source": [
    "calculate(10,4,op=lambda x,y:x**y)"
   ]
  },
  {
   "cell_type": "code",
   "execution_count": 9,
   "id": "d2a4850b",
   "metadata": {},
   "outputs": [
    {
     "ename": "SyntaxError",
     "evalue": "invalid syntax (3294160547.py, line 1)",
     "output_type": "error",
     "traceback": [
      "\u001b[1;36m  Input \u001b[1;32mIn [9]\u001b[1;36m\u001b[0m\n\u001b[1;33m    even_check=lambda x: assert x % 2 == 0\u001b[0m\n\u001b[1;37m                         ^\u001b[0m\n\u001b[1;31mSyntaxError\u001b[0m\u001b[1;31m:\u001b[0m invalid syntax\n"
     ]
    }
   ],
   "source": [
    "even_check=lambda x: assert x % 2 == 0\n",
    "#assert give error when statement is wrong\n",
    "#lambda can not use with another funcs"
   ]
  },
  {
   "cell_type": "code",
   "execution_count": 10,
   "id": "ef704775",
   "metadata": {},
   "outputs": [
    {
     "data": {
      "text/plain": [
       "19"
      ]
     },
     "execution_count": 10,
     "metadata": {},
     "output_type": "execute_result"
    }
   ],
   "source": [
    "(lambda *numbers: sum(numbers))(3,4,5,7)"
   ]
  },
  {
   "cell_type": "code",
   "execution_count": 13,
   "id": "386b7d95",
   "metadata": {},
   "outputs": [],
   "source": [
    "num_list=[1,2,3,5,78,0,56,32,9]"
   ]
  },
  {
   "cell_type": "code",
   "execution_count": 17,
   "id": "08a87807",
   "metadata": {},
   "outputs": [
    {
     "data": {
      "text/plain": [
       "<filter at 0x24fda924fa0>"
      ]
     },
     "execution_count": 17,
     "metadata": {},
     "output_type": "execute_result"
    }
   ],
   "source": [
    "filter(lambda x:x>10,num_list)"
   ]
  },
  {
   "cell_type": "code",
   "execution_count": null,
   "id": "b59be13d",
   "metadata": {},
   "outputs": [],
   "source": []
  }
 ],
 "metadata": {
  "kernelspec": {
   "display_name": "Python 3 (ipykernel)",
   "language": "python",
   "name": "python3"
  },
  "language_info": {
   "codemirror_mode": {
    "name": "ipython",
    "version": 3
   },
   "file_extension": ".py",
   "mimetype": "text/x-python",
   "name": "python",
   "nbconvert_exporter": "python",
   "pygments_lexer": "ipython3",
   "version": "3.9.12"
  }
 },
 "nbformat": 4,
 "nbformat_minor": 5
}
