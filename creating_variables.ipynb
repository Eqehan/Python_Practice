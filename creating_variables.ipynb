{
 "cells": [
  {
   "cell_type": "code",
   "execution_count": 1,
   "id": "33c88023",
   "metadata": {},
   "outputs": [
    {
     "data": {
      "text/plain": [
       "44.98"
      ]
     },
     "execution_count": 1,
     "metadata": {},
     "output_type": "execute_result"
    }
   ],
   "source": [
    "domates = 29.99\n",
    "salatalık=14.99\n",
    "fiyat = domates + salatalık\n",
    "fiyat"
   ]
  },
  {
   "cell_type": "code",
   "execution_count": 2,
   "id": "bb681692",
   "metadata": {},
   "outputs": [
    {
     "name": "stdout",
     "output_type": "stream",
     "text": [
      "44.98\n"
     ]
    }
   ],
   "source": [
    "print(fiyat)"
   ]
  },
  {
   "cell_type": "code",
   "execution_count": 3,
   "id": "b50e8642",
   "metadata": {},
   "outputs": [
    {
     "name": "stdout",
     "output_type": "stream",
     "text": [
      "5\n"
     ]
    }
   ],
   "source": [
    "num_1=2; num_2=3\n",
    "num=num_1+num_2\n",
    "print(num)"
   ]
  },
  {
   "cell_type": "code",
   "execution_count": 4,
   "id": "c77939ed",
   "metadata": {},
   "outputs": [
    {
     "data": {
      "text/plain": [
       "'daylight'"
      ]
     },
     "execution_count": 4,
     "metadata": {},
     "output_type": "execute_result"
    }
   ],
   "source": [
    "\"day\"+\"light\""
   ]
  },
  {
   "cell_type": "code",
   "execution_count": 6,
   "id": "3bdb92cf",
   "metadata": {},
   "outputs": [
    {
     "name": "stdout",
     "output_type": "stream",
     "text": [
      "daylight\n"
     ]
    }
   ],
   "source": [
    "print(\"day\"+\"light\")"
   ]
  },
  {
   "cell_type": "code",
   "execution_count": null,
   "id": "a3bf348a",
   "metadata": {},
   "outputs": [],
   "source": []
  },
  {
   "cell_type": "code",
   "execution_count": null,
   "id": "338c52ca",
   "metadata": {},
   "outputs": [],
   "source": []
  },
  {
   "cell_type": "code",
   "execution_count": null,
   "id": "9f4265d8",
   "metadata": {},
   "outputs": [],
   "source": []
  }
 ],
 "metadata": {
  "kernelspec": {
   "display_name": "Python 3 (ipykernel)",
   "language": "python",
   "name": "python3"
  },
  "language_info": {
   "codemirror_mode": {
    "name": "ipython",
    "version": 3
   },
   "file_extension": ".py",
   "mimetype": "text/x-python",
   "name": "python",
   "nbconvert_exporter": "python",
   "pygments_lexer": "ipython3",
   "version": "3.9.12"
  }
 },
 "nbformat": 4,
 "nbformat_minor": 5
}
