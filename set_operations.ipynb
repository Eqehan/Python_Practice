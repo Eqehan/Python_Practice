{
 "cells": [
  {
   "cell_type": "code",
   "execution_count": 1,
   "id": "f419d6b1",
   "metadata": {},
   "outputs": [],
   "source": [
    "num1={1,2,3,4,5};num2={6,7,8,9,0};num3={4,5,0,11,12}"
   ]
  },
  {
   "cell_type": "code",
   "execution_count": 2,
   "id": "f09f82d2",
   "metadata": {},
   "outputs": [
    {
     "data": {
      "text/plain": [
       "{0, 1, 2, 3, 4, 5, 6, 7, 8, 9}"
      ]
     },
     "execution_count": 2,
     "metadata": {},
     "output_type": "execute_result"
    }
   ],
   "source": [
    "num1.union(num2)\n",
    "#also removes duplicate numbers"
   ]
  },
  {
   "cell_type": "code",
   "execution_count": 4,
   "id": "0cc4075c",
   "metadata": {},
   "outputs": [
    {
     "data": {
      "text/plain": [
       "{0, 1, 2, 3, 4, 5, 6, 7, 8, 9, 11, 12}"
      ]
     },
     "execution_count": 4,
     "metadata": {},
     "output_type": "execute_result"
    }
   ],
   "source": [
    "num=num1.union(num2,num3)\n",
    "num"
   ]
  },
  {
   "cell_type": "code",
   "execution_count": 5,
   "id": "a69808bb",
   "metadata": {},
   "outputs": [
    {
     "data": {
      "text/plain": [
       "{4, 5}"
      ]
     },
     "execution_count": 5,
     "metadata": {},
     "output_type": "execute_result"
    }
   ],
   "source": [
    "num1.intersection(num3)\n",
    "#shows same values at both sets"
   ]
  },
  {
   "cell_type": "code",
   "execution_count": 7,
   "id": "6217fcb3",
   "metadata": {},
   "outputs": [
    {
     "data": {
      "text/plain": [
       "{1, 2, 3, 4, 5}"
      ]
     },
     "execution_count": 7,
     "metadata": {},
     "output_type": "execute_result"
    }
   ],
   "source": [
    "num1.difference(num2)"
   ]
  },
  {
   "cell_type": "code",
   "execution_count": 8,
   "id": "1d577340",
   "metadata": {},
   "outputs": [
    {
     "data": {
      "text/plain": [
       "{1, 2, 3, 4, 5}"
      ]
     },
     "execution_count": 8,
     "metadata": {},
     "output_type": "execute_result"
    }
   ],
   "source": [
    "diff=num1.difference(num2);diff"
   ]
  },
  {
   "cell_type": "code",
   "execution_count": 9,
   "id": "31ae6aa3",
   "metadata": {},
   "outputs": [
    {
     "data": {
      "text/plain": [
       "{4, 5}"
      ]
     },
     "execution_count": 9,
     "metadata": {},
     "output_type": "execute_result"
    }
   ],
   "source": [
    "num1.intersection_update(num3)\n",
    "num1\n",
    "#num1 only sets as intersection values from num3"
   ]
  },
  {
   "cell_type": "code",
   "execution_count": 10,
   "id": "438a7b33",
   "metadata": {},
   "outputs": [
    {
     "data": {
      "text/plain": [
       "{0, 4, 5, 11, 12}"
      ]
     },
     "execution_count": 10,
     "metadata": {},
     "output_type": "execute_result"
    }
   ],
   "source": [
    "num3"
   ]
  },
  {
   "cell_type": "code",
   "execution_count": 11,
   "id": "7b97f2df",
   "metadata": {},
   "outputs": [
    {
     "data": {
      "text/plain": [
       "{4, 5}"
      ]
     },
     "execution_count": 11,
     "metadata": {},
     "output_type": "execute_result"
    }
   ],
   "source": [
    "num1.difference_update(num2);num1"
   ]
  },
  {
   "cell_type": "code",
   "execution_count": 12,
   "id": "0b72e638",
   "metadata": {},
   "outputs": [
    {
     "data": {
      "text/plain": [
       "True"
      ]
     },
     "execution_count": 12,
     "metadata": {},
     "output_type": "execute_result"
    }
   ],
   "source": [
    "{1,2,3}.isdisjoint({4,5,6})\n",
    "#answers to is there any joint between sets"
   ]
  },
  {
   "cell_type": "code",
   "execution_count": 13,
   "id": "d83e4725",
   "metadata": {},
   "outputs": [
    {
     "data": {
      "text/plain": [
       "False"
      ]
     },
     "execution_count": 13,
     "metadata": {},
     "output_type": "execute_result"
    }
   ],
   "source": [
    "{1,2,3}.isdisjoint({1,5,6})"
   ]
  },
  {
   "cell_type": "code",
   "execution_count": 14,
   "id": "0636650f",
   "metadata": {},
   "outputs": [
    {
     "data": {
      "text/plain": [
       "True"
      ]
     },
     "execution_count": 14,
     "metadata": {},
     "output_type": "execute_result"
    }
   ],
   "source": [
    "{10,20,30}.issubset({10,20,30,40})\n",
    "#is it subset of the set?"
   ]
  },
  {
   "cell_type": "code",
   "execution_count": 16,
   "id": "1c195edc",
   "metadata": {},
   "outputs": [
    {
     "data": {
      "text/plain": [
       "True"
      ]
     },
     "execution_count": 16,
     "metadata": {},
     "output_type": "execute_result"
    }
   ],
   "source": [
    "{10,20,30}.issuperset({10,20})\n",
    "#is it super set of set"
   ]
  },
  {
   "cell_type": "code",
   "execution_count": null,
   "id": "dd5ca58f",
   "metadata": {},
   "outputs": [],
   "source": []
  }
 ],
 "metadata": {
  "kernelspec": {
   "display_name": "Python 3 (ipykernel)",
   "language": "python",
   "name": "python3"
  },
  "language_info": {
   "codemirror_mode": {
    "name": "ipython",
    "version": 3
   },
   "file_extension": ".py",
   "mimetype": "text/x-python",
   "name": "python",
   "nbconvert_exporter": "python",
   "pygments_lexer": "ipython3",
   "version": "3.9.12"
  }
 },
 "nbformat": 4,
 "nbformat_minor": 5
}
