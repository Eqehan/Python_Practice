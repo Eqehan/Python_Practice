{
 "cells": [
  {
   "cell_type": "code",
   "execution_count": 1,
   "id": "dca55d04",
   "metadata": {},
   "outputs": [],
   "source": [
    "#once created and not updating like lists"
   ]
  },
  {
   "cell_type": "code",
   "execution_count": 2,
   "id": "2c4b980f",
   "metadata": {},
   "outputs": [
    {
     "data": {
      "text/plain": [
       "(0, 1, 2, 3, 4)"
      ]
     },
     "execution_count": 2,
     "metadata": {},
     "output_type": "execute_result"
    }
   ],
   "source": [
    "imm_tuple_1=(0,1,2,3,4);imm_tuple_1"
   ]
  },
  {
   "cell_type": "code",
   "execution_count": 6,
   "id": "b928ba6c",
   "metadata": {},
   "outputs": [
    {
     "data": {
      "text/plain": [
       "(5, 6, 7, [8, 9])"
      ]
     },
     "execution_count": 6,
     "metadata": {},
     "output_type": "execute_result"
    }
   ],
   "source": [
    "imm_tuple_2=(5,6,7,[8,9]);imm_tuple_2"
   ]
  },
  {
   "cell_type": "code",
   "execution_count": 4,
   "id": "9d7eae85",
   "metadata": {},
   "outputs": [
    {
     "data": {
      "text/plain": [
       "5"
      ]
     },
     "execution_count": 4,
     "metadata": {},
     "output_type": "execute_result"
    }
   ],
   "source": [
    "imm_tuple_2[0]"
   ]
  },
  {
   "cell_type": "code",
   "execution_count": 5,
   "id": "82468e4a",
   "metadata": {},
   "outputs": [
    {
     "ename": "TypeError",
     "evalue": "'tuple' object does not support item assignment",
     "output_type": "error",
     "traceback": [
      "\u001b[1;31m---------------------------------------------------------------------------\u001b[0m",
      "\u001b[1;31mTypeError\u001b[0m                                 Traceback (most recent call last)",
      "Input \u001b[1;32mIn [5]\u001b[0m, in \u001b[0;36m<cell line: 1>\u001b[1;34m()\u001b[0m\n\u001b[1;32m----> 1\u001b[0m imm_tuple_2[\u001b[38;5;241m2\u001b[39m]\u001b[38;5;241m=\u001b[39m\u001b[38;5;241m0\u001b[39m\n",
      "\u001b[1;31mTypeError\u001b[0m: 'tuple' object does not support item assignment"
     ]
    }
   ],
   "source": [
    "imm_tuple_2[2]=0 #tuple is not give any permission"
   ]
  },
  {
   "cell_type": "code",
   "execution_count": 7,
   "id": "fe707645",
   "metadata": {},
   "outputs": [
    {
     "data": {
      "text/plain": [
       "[8, 9]"
      ]
     },
     "execution_count": 7,
     "metadata": {},
     "output_type": "execute_result"
    }
   ],
   "source": [
    "imm_tuple_2[3]"
   ]
  },
  {
   "cell_type": "code",
   "execution_count": 8,
   "id": "bf7a9e45",
   "metadata": {},
   "outputs": [
    {
     "name": "stdout",
     "output_type": "stream",
     "text": [
      "(5, 6, 7, [8, 100])\n"
     ]
    }
   ],
   "source": [
    "imm_tuple_2[3][1]=100; print(imm_tuple_2)\n",
    "#in this case you can change list's values"
   ]
  },
  {
   "cell_type": "code",
   "execution_count": 9,
   "id": "2336627e",
   "metadata": {},
   "outputs": [],
   "source": [
    "my_tuple=(\"p\",\"y\",\"t\",\"h\",\"o\",\"n\")"
   ]
  },
  {
   "cell_type": "code",
   "execution_count": 11,
   "id": "016a2644",
   "metadata": {},
   "outputs": [],
   "source": [
    "tuple_a=(1,2,3,4,5);tuple_b=(\"a\",\"b\",\"c\",\"d\",\"e\")"
   ]
  },
  {
   "cell_type": "code",
   "execution_count": 16,
   "id": "fe8412b7",
   "metadata": {},
   "outputs": [
    {
     "name": "stdout",
     "output_type": "stream",
     "text": [
      "<zip object at 0x000001538FFC2F40>\n"
     ]
    }
   ],
   "source": [
    "zipped = zip(tuple_a,tuple_b);print(zipped)\n",
    "#zip acts like zipper and match values "
   ]
  },
  {
   "cell_type": "code",
   "execution_count": 17,
   "id": "e35c704e",
   "metadata": {},
   "outputs": [
    {
     "name": "stdout",
     "output_type": "stream",
     "text": [
      "((1, 'a'), (2, 'b'), (3, 'c'), (4, 'd'), (5, 'e'))\n"
     ]
    }
   ],
   "source": [
    "result=tuple(zipped); print(result)\n",
    "#tuple func convert zipped to tuple "
   ]
  },
  {
   "cell_type": "code",
   "execution_count": 19,
   "id": "fdce41a5",
   "metadata": {},
   "outputs": [
    {
     "data": {
      "text/plain": [
       "dict"
      ]
     },
     "execution_count": 19,
     "metadata": {},
     "output_type": "execute_result"
    }
   ],
   "source": [
    "my_dict={\"a\":5, \"b\":4,\"c\":3}; type(my_dict)\n",
    "#dictionary type"
   ]
  },
  {
   "cell_type": "code",
   "execution_count": null,
   "id": "867007cb",
   "metadata": {},
   "outputs": [],
   "source": []
  }
 ],
 "metadata": {
  "kernelspec": {
   "display_name": "Python 3 (ipykernel)",
   "language": "python",
   "name": "python3"
  },
  "language_info": {
   "codemirror_mode": {
    "name": "ipython",
    "version": 3
   },
   "file_extension": ".py",
   "mimetype": "text/x-python",
   "name": "python",
   "nbconvert_exporter": "python",
   "pygments_lexer": "ipython3",
   "version": "3.9.12"
  }
 },
 "nbformat": 4,
 "nbformat_minor": 5
}
