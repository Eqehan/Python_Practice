{
 "cells": [
  {
   "cell_type": "code",
   "execution_count": 1,
   "id": "dca5d9d0",
   "metadata": {},
   "outputs": [
    {
     "name": "stdout",
     "output_type": "stream",
     "text": [
      "bursa sehri\n"
     ]
    }
   ],
   "source": [
    "place=\"bursa sehri\";print(place)"
   ]
  },
  {
   "cell_type": "code",
   "execution_count": 2,
   "id": "674fd9a9",
   "metadata": {},
   "outputs": [
    {
     "name": "stdout",
     "output_type": "stream",
     "text": [
      "False\n"
     ]
    }
   ],
   "source": [
    "print(place.startswith(\"r\"))"
   ]
  },
  {
   "cell_type": "code",
   "execution_count": 14,
   "id": "ad1e526f",
   "metadata": {},
   "outputs": [
    {
     "name": "stdout",
     "output_type": "stream",
     "text": [
      "True\n"
     ]
    }
   ],
   "source": [
    "print(place.startswith(\"b\")) #if starts with B"
   ]
  },
  {
   "cell_type": "code",
   "execution_count": 4,
   "id": "29d83e83",
   "metadata": {},
   "outputs": [
    {
     "name": "stdout",
     "output_type": "stream",
     "text": [
      "True\n"
     ]
    }
   ],
   "source": [
    "print(place.endswith(\"i\"))"
   ]
  },
  {
   "cell_type": "code",
   "execution_count": 5,
   "id": "9a63eead",
   "metadata": {},
   "outputs": [
    {
     "data": {
      "text/plain": [
       "2"
      ]
     },
     "execution_count": 5,
     "metadata": {},
     "output_type": "execute_result"
    }
   ],
   "source": [
    "place.count(\"s\")"
   ]
  },
  {
   "cell_type": "code",
   "execution_count": 6,
   "id": "60b3b557",
   "metadata": {},
   "outputs": [
    {
     "data": {
      "text/plain": [
       "'bursa sehri'"
      ]
     },
     "execution_count": 6,
     "metadata": {},
     "output_type": "execute_result"
    }
   ],
   "source": [
    "lower_place=place.lower();lower_place"
   ]
  },
  {
   "cell_type": "code",
   "execution_count": 7,
   "id": "552dded2",
   "metadata": {},
   "outputs": [
    {
     "data": {
      "text/plain": [
       "'BURSA SEHRI'"
      ]
     },
     "execution_count": 7,
     "metadata": {},
     "output_type": "execute_result"
    }
   ],
   "source": [
    "upper_place=place.upper(); upper_place"
   ]
  },
  {
   "cell_type": "code",
   "execution_count": 9,
   "id": "6803202c",
   "metadata": {},
   "outputs": [
    {
     "data": {
      "text/plain": [
       "2"
      ]
     },
     "execution_count": 9,
     "metadata": {},
     "output_type": "execute_result"
    }
   ],
   "source": [
    "upper_place.count(\"R\")"
   ]
  },
  {
   "cell_type": "code",
   "execution_count": 11,
   "id": "6655f70b",
   "metadata": {},
   "outputs": [
    {
     "data": {
      "text/plain": [
       "True"
      ]
     },
     "execution_count": 11,
     "metadata": {},
     "output_type": "execute_result"
    }
   ],
   "source": [
    "lower_place==upper_place"
   ]
  },
  {
   "cell_type": "code",
   "execution_count": 13,
   "id": "705d707d",
   "metadata": {},
   "outputs": [
    {
     "data": {
      "text/plain": [
       "4"
      ]
     },
     "execution_count": 13,
     "metadata": {},
     "output_type": "execute_result"
    }
   ],
   "source": [
    "place.find(\"a\") #index position finder"
   ]
  },
  {
   "cell_type": "code",
   "execution_count": 15,
   "id": "a1b0ca0c",
   "metadata": {},
   "outputs": [
    {
     "data": {
      "text/plain": [
       "['burs', ' sehri']"
      ]
     },
     "execution_count": 15,
     "metadata": {},
     "output_type": "execute_result"
    }
   ],
   "source": [
    "split_place = place.split(\"a\"); split_place"
   ]
  },
  {
   "cell_type": "code",
   "execution_count": 16,
   "id": "eed5f29d",
   "metadata": {},
   "outputs": [
    {
     "data": {
      "text/plain": [
       "['bursa', 'sehri']"
      ]
     },
     "execution_count": 16,
     "metadata": {},
     "output_type": "execute_result"
    }
   ],
   "source": [
    "split_place=place.split(\" \"); split_place #divide words"
   ]
  },
  {
   "cell_type": "code",
   "execution_count": 18,
   "id": "5298dafb",
   "metadata": {},
   "outputs": [
    {
     "data": {
      "text/plain": [
       "2"
      ]
     },
     "execution_count": 18,
     "metadata": {},
     "output_type": "execute_result"
    }
   ],
   "source": [
    "len(split_place) #not letter, counts words"
   ]
  },
  {
   "cell_type": "code",
   "execution_count": 19,
   "id": "7171abe5",
   "metadata": {},
   "outputs": [
    {
     "data": {
      "text/plain": [
       "'bursa,sehri'"
      ]
     },
     "execution_count": 19,
     "metadata": {},
     "output_type": "execute_result"
    }
   ],
   "source": [
    "join_char= \",\" ; join_char.join(split_place)"
   ]
  },
  {
   "cell_type": "code",
   "execution_count": null,
   "id": "2c09b22b",
   "metadata": {},
   "outputs": [],
   "source": []
  }
 ],
 "metadata": {
  "kernelspec": {
   "display_name": "Python 3 (ipykernel)",
   "language": "python",
   "name": "python3"
  },
  "language_info": {
   "codemirror_mode": {
    "name": "ipython",
    "version": 3
   },
   "file_extension": ".py",
   "mimetype": "text/x-python",
   "name": "python",
   "nbconvert_exporter": "python",
   "pygments_lexer": "ipython3",
   "version": "3.9.12"
  }
 },
 "nbformat": 4,
 "nbformat_minor": 5
}
