{
 "cells": [
  {
   "cell_type": "code",
   "execution_count": 4,
   "id": "8af2425b",
   "metadata": {},
   "outputs": [
    {
     "name": "stdout",
     "output_type": "stream",
     "text": [
      "None\n"
     ]
    }
   ],
   "source": [
    "def subtract(num1,num2):\n",
    "    res=num2-num1\n",
    "r= subtract(10,7.7) \n",
    "print(r) #there is no value because its return"
   ]
  },
  {
   "cell_type": "code",
   "execution_count": 5,
   "id": "277724c5",
   "metadata": {},
   "outputs": [
    {
     "data": {
      "text/plain": [
       "NoneType"
      ]
     },
     "execution_count": 5,
     "metadata": {},
     "output_type": "execute_result"
    }
   ],
   "source": [
    "type(r)"
   ]
  },
  {
   "cell_type": "code",
   "execution_count": 6,
   "id": "6a32e253",
   "metadata": {},
   "outputs": [
    {
     "data": {
      "text/plain": [
       "59"
      ]
     },
     "execution_count": 6,
     "metadata": {},
     "output_type": "execute_result"
    }
   ],
   "source": [
    "def subtrc_returns(num1,num2):\n",
    "    result=num1-num2\n",
    "    return result\n",
    "subtrc_returns(91,32)"
   ]
  },
  {
   "cell_type": "code",
   "execution_count": 7,
   "id": "0ab2e1d6",
   "metadata": {},
   "outputs": [
    {
     "name": "stdout",
     "output_type": "stream",
     "text": [
      "The length of the list 3\n"
     ]
    }
   ],
   "source": [
    "def length(some_list):\n",
    "    count=0\n",
    "    for element in some_list:\n",
    "        count+=1\n",
    "    print(\"The length of the list\", count)\n",
    "    return count\n",
    "l=length([100,200,300])"
   ]
  },
  {
   "cell_type": "code",
   "execution_count": 8,
   "id": "029d525f",
   "metadata": {},
   "outputs": [
    {
     "data": {
      "text/plain": [
       "3"
      ]
     },
     "execution_count": 8,
     "metadata": {},
     "output_type": "execute_result"
    }
   ],
   "source": [
    "l"
   ]
  },
  {
   "cell_type": "code",
   "execution_count": 9,
   "id": "210286bb",
   "metadata": {},
   "outputs": [
    {
     "data": {
      "text/plain": [
       "(199, 1)"
      ]
     },
     "execution_count": 9,
     "metadata": {},
     "output_type": "execute_result"
    }
   ],
   "source": [
    "def add_sub(x,y):\n",
    "    add=x+y;sub=x-y\n",
    "    return add,sub\n",
    "add_sub(100,99)"
   ]
  },
  {
   "cell_type": "code",
   "execution_count": 10,
   "id": "ecd5b1b0",
   "metadata": {},
   "outputs": [
    {
     "data": {
      "text/plain": [
       "(9, -1)"
      ]
     },
     "execution_count": 10,
     "metadata": {},
     "output_type": "execute_result"
    }
   ],
   "source": [
    "result = add_sub(4,5)\n",
    "result"
   ]
  },
  {
   "cell_type": "code",
   "execution_count": 13,
   "id": "4d839cc3",
   "metadata": {},
   "outputs": [
    {
     "name": "stdout",
     "output_type": "stream",
     "text": [
      "Add Result= 30\n",
      "Sub Result= -10\n"
     ]
    }
   ],
   "source": [
    "# Seperate return function\n",
    "add_result, sub_result=add_sub(10,20)\n",
    "print(\"Add Result=\",add_result)\n",
    "print(\"Sub Result=\",sub_result)"
   ]
  },
  {
   "cell_type": "code",
   "execution_count": 14,
   "id": "f5bc8e4b",
   "metadata": {},
   "outputs": [
    {
     "data": {
      "text/plain": [
       "6"
      ]
     },
     "execution_count": 14,
     "metadata": {},
     "output_type": "execute_result"
    }
   ],
   "source": [
    "result3, _ = add_sub(1,5)\n",
    "result3\n",
    "#underscore(_) ignore value"
   ]
  },
  {
   "cell_type": "code",
   "execution_count": 18,
   "id": "497e580f",
   "metadata": {},
   "outputs": [
    {
     "data": {
      "text/plain": [
       "'First Capital= S'"
      ]
     },
     "execution_count": 18,
     "metadata": {},
     "output_type": "execute_result"
    }
   ],
   "source": [
    "def find_first_capital(some_string):\n",
    "    capital=None\n",
    "    for ch in some_string:\n",
    "        if ch.upper()==ch and ch!=\" \":\n",
    "            capital=ch\n",
    "            break\n",
    "    if capital is None:\n",
    "            return \"No capital\"\n",
    "    else:\n",
    "            return \"First Capital= \"+capital\n",
    "find_first_capital(\"egehan Sayan\")\n",
    "    "
   ]
  },
  {
   "cell_type": "code",
   "execution_count": 19,
   "id": "522076b6",
   "metadata": {},
   "outputs": [
    {
     "data": {
      "text/plain": [
       "{'name': 'Egehan', 'age': 27, 'occupation': 'Engineer'}"
      ]
     },
     "execution_count": 19,
     "metadata": {},
     "output_type": "execute_result"
    }
   ],
   "source": [
    "# Usage of Dictionary\n",
    "def create_dict(name, age, occupation):\n",
    "    dictionary={\"name\":name, \"age\":age, \"occupation\":occupation}\n",
    "    return dictionary\n",
    "info_dict = create_dict(\"Egehan\",27,\"Engineer\")\n",
    "info_dict"
   ]
  },
  {
   "cell_type": "code",
   "execution_count": 20,
   "id": "e8d40802",
   "metadata": {},
   "outputs": [],
   "source": [
    "# Create of List\n",
    "def generate_list(name, num):\n",
    "    print(\"Generate list\")\n",
    "    return_list=[name for i in range(num)]\n",
    "    return return_list"
   ]
  },
  {
   "cell_type": "code",
   "execution_count": 21,
   "id": "03da0b24",
   "metadata": {},
   "outputs": [
    {
     "name": "stdout",
     "output_type": "stream",
     "text": [
      "Generate list\n"
     ]
    },
    {
     "data": {
      "text/plain": [
       "['Seher', 'Seher', 'Seher']"
      ]
     },
     "execution_count": 21,
     "metadata": {},
     "output_type": "execute_result"
    }
   ],
   "source": [
    "some_list=generate_list(\"Seher\", 3)\n",
    "some_list"
   ]
  },
  {
   "cell_type": "code",
   "execution_count": 22,
   "id": "71d95d76",
   "metadata": {},
   "outputs": [],
   "source": [
    "# CALCULATOR\n",
    "def add(a,b):\n",
    "    return a+b\n",
    "def sub(a,b):\n",
    "    return a-b\n",
    "def mul(a,b):\n",
    "    return a*b\n",
    "def div(a,b):\n",
    "    return a/b\n",
    "\n",
    "def calculator(a,b,op):\n",
    "    if op==\"add\":\n",
    "        return add(a,b)\n",
    "    if op==\"sub\":\n",
    "        return sub(a,b)\n",
    "    if op==\"div\":\n",
    "        return div(a,b)\n",
    "    if op==\"mul\":\n",
    "        return mul(a,b)"
   ]
  },
  {
   "cell_type": "code",
   "execution_count": 24,
   "id": "11c81014",
   "metadata": {},
   "outputs": [
    {
     "data": {
      "text/plain": [
       "40"
      ]
     },
     "execution_count": 24,
     "metadata": {},
     "output_type": "execute_result"
    }
   ],
   "source": [
    "calculator(5,8,\"mul\")"
   ]
  },
  {
   "cell_type": "code",
   "execution_count": null,
   "id": "61a6299b",
   "metadata": {},
   "outputs": [],
   "source": []
  }
 ],
 "metadata": {
  "kernelspec": {
   "display_name": "Python 3 (ipykernel)",
   "language": "python",
   "name": "python3"
  },
  "language_info": {
   "codemirror_mode": {
    "name": "ipython",
    "version": 3
   },
   "file_extension": ".py",
   "mimetype": "text/x-python",
   "name": "python",
   "nbconvert_exporter": "python",
   "pygments_lexer": "ipython3",
   "version": "3.9.12"
  }
 },
 "nbformat": 4,
 "nbformat_minor": 5
}
