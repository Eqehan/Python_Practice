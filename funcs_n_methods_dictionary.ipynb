{
 "cells": [
  {
   "cell_type": "code",
   "execution_count": 1,
   "id": "cb0e30ef",
   "metadata": {},
   "outputs": [
    {
     "data": {
      "text/plain": [
       "{'banana': [1, 2], 'apricot': [3, 4], 'apple': [5, 6]}"
      ]
     },
     "execution_count": 1,
     "metadata": {},
     "output_type": "execute_result"
    }
   ],
   "source": [
    "fruit_cns={\"banana\":[1,2],\n",
    "           \"apricot\":[3,4],\n",
    "           \"apple\":[5,6]};fruit_cns"
   ]
  },
  {
   "cell_type": "code",
   "execution_count": 2,
   "id": "71cd9d1a",
   "metadata": {},
   "outputs": [
    {
     "data": {
      "text/plain": [
       "3"
      ]
     },
     "execution_count": 2,
     "metadata": {},
     "output_type": "execute_result"
    }
   ],
   "source": [
    "len(fruit_cns)"
   ]
  },
  {
   "cell_type": "code",
   "execution_count": 3,
   "id": "1eb58da5",
   "metadata": {},
   "outputs": [
    {
     "data": {
      "text/plain": [
       "3"
      ]
     },
     "execution_count": 3,
     "metadata": {},
     "output_type": "execute_result"
    }
   ],
   "source": [
    "len(fruit_cns.keys())"
   ]
  },
  {
   "cell_type": "code",
   "execution_count": 4,
   "id": "95abe936",
   "metadata": {},
   "outputs": [
    {
     "data": {
      "text/plain": [
       "['apple', 'apricot', 'banana']"
      ]
     },
     "execution_count": 4,
     "metadata": {},
     "output_type": "execute_result"
    }
   ],
   "source": [
    "sorted(fruit_cns)"
   ]
  },
  {
   "cell_type": "code",
   "execution_count": 5,
   "id": "cb587768",
   "metadata": {},
   "outputs": [
    {
     "data": {
      "text/plain": [
       "['banana', 'apricot', 'apple']"
      ]
     },
     "execution_count": 5,
     "metadata": {},
     "output_type": "execute_result"
    }
   ],
   "source": [
    "sorted(fruit_cns,reverse=True)"
   ]
  },
  {
   "cell_type": "code",
   "execution_count": 6,
   "id": "a5628bd4",
   "metadata": {},
   "outputs": [
    {
     "data": {
      "text/plain": [
       "[[1, 2], [3, 4], [5, 6]]"
      ]
     },
     "execution_count": 6,
     "metadata": {},
     "output_type": "execute_result"
    }
   ],
   "source": [
    "sorted(fruit_cns.values())"
   ]
  },
  {
   "cell_type": "code",
   "execution_count": 7,
   "id": "ab2186fe",
   "metadata": {},
   "outputs": [
    {
     "data": {
      "text/plain": [
       "dict_items([('banana', [1, 2]), ('apricot', [3, 4]), ('apple', [5, 6])])"
      ]
     },
     "execution_count": 7,
     "metadata": {},
     "output_type": "execute_result"
    }
   ],
   "source": [
    "fruit_cns.items()"
   ]
  },
  {
   "cell_type": "code",
   "execution_count": 12,
   "id": "28f174c2",
   "metadata": {},
   "outputs": [
    {
     "data": {
      "text/plain": [
       "{'banana': [1, 2], 'apricot': [3, 4], 'apple': [5, 6]}"
      ]
     },
     "execution_count": 12,
     "metadata": {},
     "output_type": "execute_result"
    }
   ],
   "source": [
    "cpy_frt = fruit_cns.copy();cpy_frt"
   ]
  },
  {
   "cell_type": "code",
   "execution_count": 13,
   "id": "17fdf77e",
   "metadata": {},
   "outputs": [
    {
     "data": {
      "text/plain": [
       "[5, 6]"
      ]
     },
     "execution_count": 13,
     "metadata": {},
     "output_type": "execute_result"
    }
   ],
   "source": [
    "cpy_frt.pop(\"apple\")\n",
    "#deleting that key, and show its value"
   ]
  },
  {
   "cell_type": "code",
   "execution_count": 10,
   "id": "e5a0d851",
   "metadata": {},
   "outputs": [
    {
     "data": {
      "text/plain": [
       "{'banana': [1, 2], 'apricot': [3, 4]}"
      ]
     },
     "execution_count": 10,
     "metadata": {},
     "output_type": "execute_result"
    }
   ],
   "source": [
    "cpy_frt"
   ]
  },
  {
   "cell_type": "code",
   "execution_count": 15,
   "id": "a72795b1",
   "metadata": {},
   "outputs": [
    {
     "data": {
      "text/plain": [
       "<function dict.popitem()>"
      ]
     },
     "execution_count": 15,
     "metadata": {},
     "output_type": "execute_result"
    }
   ],
   "source": [
    "cpy_frt.popitem"
   ]
  },
  {
   "cell_type": "code",
   "execution_count": 18,
   "id": "d42363a7",
   "metadata": {},
   "outputs": [],
   "source": [
    "age={\"ege\":26,\"onur\":27}\n",
    "new_age={\"ege\":27,\"ipek\":27}"
   ]
  },
  {
   "cell_type": "code",
   "execution_count": 19,
   "id": "ef3c39d2",
   "metadata": {},
   "outputs": [
    {
     "data": {
      "text/plain": [
       "{'ege': 27, 'onur': 27, 'ipek': 27}"
      ]
     },
     "execution_count": 19,
     "metadata": {},
     "output_type": "execute_result"
    }
   ],
   "source": [
    "age.update(new_age);age\n",
    "#you will update the value at dicts"
   ]
  },
  {
   "cell_type": "code",
   "execution_count": null,
   "id": "19b61b2a",
   "metadata": {},
   "outputs": [],
   "source": []
  }
 ],
 "metadata": {
  "kernelspec": {
   "display_name": "Python 3 (ipykernel)",
   "language": "python",
   "name": "python3"
  },
  "language_info": {
   "codemirror_mode": {
    "name": "ipython",
    "version": 3
   },
   "file_extension": ".py",
   "mimetype": "text/x-python",
   "name": "python",
   "nbconvert_exporter": "python",
   "pygments_lexer": "ipython3",
   "version": "3.9.12"
  }
 },
 "nbformat": 4,
 "nbformat_minor": 5
}
