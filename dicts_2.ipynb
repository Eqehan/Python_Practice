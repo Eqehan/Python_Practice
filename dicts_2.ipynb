{
 "cells": [
  {
   "cell_type": "code",
   "execution_count": 2,
   "id": "691ecb5f",
   "metadata": {},
   "outputs": [
    {
     "data": {
      "text/plain": [
       "{'banana': 15, 'apple': 20, 'apricot': 40}"
      ]
     },
     "execution_count": 2,
     "metadata": {},
     "output_type": "execute_result"
    }
   ],
   "source": [
    "fruit={}; \n",
    "fruit[\"banana\"]=15;fruit[\"apple\"]=20;fruit[\"apricot\"]=40\n",
    "fruit"
   ]
  },
  {
   "cell_type": "code",
   "execution_count": 3,
   "id": "10a1c1a2",
   "metadata": {},
   "outputs": [],
   "source": [
    "fruit[\"avocado\"]=70;fruit[\"orange\"]=8"
   ]
  },
  {
   "cell_type": "code",
   "execution_count": 4,
   "id": "32dcb3a6",
   "metadata": {},
   "outputs": [
    {
     "data": {
      "text/plain": [
       "40"
      ]
     },
     "execution_count": 4,
     "metadata": {},
     "output_type": "execute_result"
    }
   ],
   "source": [
    "fruit[\"apricot\"]"
   ]
  },
  {
   "cell_type": "code",
   "execution_count": 5,
   "id": "7694fe97",
   "metadata": {},
   "outputs": [
    {
     "data": {
      "text/plain": [
       "{'banana': [1, 2], 'apricot': [3, 4], 'apple': [5, 6]}"
      ]
     },
     "execution_count": 5,
     "metadata": {},
     "output_type": "execute_result"
    }
   ],
   "source": [
    "fruit_cns={\"banana\":[1,2],\n",
    "           \"apricot\":[3,4],\n",
    "           \"apple\":[5,6]};fruit_cns"
   ]
  },
  {
   "cell_type": "code",
   "execution_count": 6,
   "id": "662b9e15",
   "metadata": {},
   "outputs": [
    {
     "data": {
      "text/plain": [
       "[1, 2]"
      ]
     },
     "execution_count": 6,
     "metadata": {},
     "output_type": "execute_result"
    }
   ],
   "source": [
    "fruit_cns[\"banana\"]"
   ]
  },
  {
   "cell_type": "code",
   "execution_count": 9,
   "id": "a6613a24",
   "metadata": {},
   "outputs": [
    {
     "data": {
      "text/plain": [
       "2"
      ]
     },
     "execution_count": 9,
     "metadata": {},
     "output_type": "execute_result"
    }
   ],
   "source": [
    "fruit_cns[\"banana\"][1] \n",
    "#first sq brcket = key, second is values"
   ]
  },
  {
   "cell_type": "code",
   "execution_count": 11,
   "id": "ae48f7fd",
   "metadata": {},
   "outputs": [
    {
     "data": {
      "text/plain": [
       "{'banana': {'fri': 70, 'sat': 30}, 'apple': {'wed': 20, 'thu': 60}}"
      ]
     },
     "execution_count": 11,
     "metadata": {},
     "output_type": "execute_result"
    }
   ],
   "source": [
    "#dictionaries will be nested and also contain every type of values\n",
    "fruit_nst={\"banana\":{\"fri\":70,\"sat\":30},\n",
    "          \"apple\":{\"wed\":20,\"thu\":60}\n",
    "          }\n",
    "fruit_nst"
   ]
  },
  {
   "cell_type": "code",
   "execution_count": 12,
   "id": "f274e63b",
   "metadata": {},
   "outputs": [
    {
     "data": {
      "text/plain": [
       "{'wed': 20, 'thu': 60}"
      ]
     },
     "execution_count": 12,
     "metadata": {},
     "output_type": "execute_result"
    }
   ],
   "source": [
    "fruit_nst[\"apple\"]"
   ]
  },
  {
   "cell_type": "code",
   "execution_count": 13,
   "id": "6b93bffa",
   "metadata": {},
   "outputs": [
    {
     "data": {
      "text/plain": [
       "20"
      ]
     },
     "execution_count": 13,
     "metadata": {},
     "output_type": "execute_result"
    }
   ],
   "source": [
    "fruit_nst[\"apple\"][\"wed\"]"
   ]
  },
  {
   "cell_type": "code",
   "execution_count": null,
   "id": "68103444",
   "metadata": {},
   "outputs": [],
   "source": []
  }
 ],
 "metadata": {
  "kernelspec": {
   "display_name": "Python 3 (ipykernel)",
   "language": "python",
   "name": "python3"
  },
  "language_info": {
   "codemirror_mode": {
    "name": "ipython",
    "version": 3
   },
   "file_extension": ".py",
   "mimetype": "text/x-python",
   "name": "python",
   "nbconvert_exporter": "python",
   "pygments_lexer": "ipython3",
   "version": "3.9.12"
  }
 },
 "nbformat": 4,
 "nbformat_minor": 5
}
