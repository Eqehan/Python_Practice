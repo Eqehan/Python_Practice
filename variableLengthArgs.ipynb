{
 "cells": [
  {
   "cell_type": "code",
   "execution_count": 1,
   "id": "b1ec4b49",
   "metadata": {},
   "outputs": [],
   "source": [
    "# Get any number of arguments in function \"Important\"\n",
    "\n",
    "def print_fn(*args):\n",
    "    args_type=type(args)\n",
    "    print(args_type)\n",
    "    print(args)"
   ]
  },
  {
   "cell_type": "code",
   "execution_count": 2,
   "id": "83c859ac",
   "metadata": {},
   "outputs": [
    {
     "name": "stdout",
     "output_type": "stream",
     "text": [
      "<class 'tuple'>\n",
      "()\n"
     ]
    }
   ],
   "source": [
    "print_fn()"
   ]
  },
  {
   "cell_type": "code",
   "execution_count": 3,
   "id": "a3115c0c",
   "metadata": {},
   "outputs": [
    {
     "name": "stdout",
     "output_type": "stream",
     "text": [
      "<class 'tuple'>\n",
      "(10, 'egehan', ['s', 'c'])\n"
     ]
    }
   ],
   "source": [
    "print_fn(10,\"egehan\",[\"s\",\"c\"])"
   ]
  },
  {
   "cell_type": "code",
   "execution_count": 4,
   "id": "19963ae3",
   "metadata": {},
   "outputs": [
    {
     "name": "stdout",
     "output_type": "stream",
     "text": [
      "<class 'tuple'>\n",
      "('egehan', 'onur', 'ibrahim')\n"
     ]
    }
   ],
   "source": [
    "names=[\"egehan\",\"onur\",\"ibrahim\"]\n",
    "print_fn(*names)"
   ]
  },
  {
   "cell_type": "code",
   "execution_count": 5,
   "id": "4a938af1",
   "metadata": {},
   "outputs": [],
   "source": [
    "def std_clg(college, city, *std):\n",
    "    print(\"College:\",college)\n",
    "    print(\"City:\",city)\n",
    "    print(\"Students:\",std)"
   ]
  },
  {
   "cell_type": "code",
   "execution_count": 6,
   "id": "76f97f89",
   "metadata": {},
   "outputs": [
    {
     "name": "stdout",
     "output_type": "stream",
     "text": [
      "College: Columbia\n",
      "City: New York\n",
      "Students: ()\n"
     ]
    }
   ],
   "source": [
    "std_clg(\"Columbia\",\"New York\")"
   ]
  },
  {
   "cell_type": "code",
   "execution_count": 7,
   "id": "a63d7313",
   "metadata": {},
   "outputs": [
    {
     "name": "stdout",
     "output_type": "stream",
     "text": [
      "College: Columbia\n",
      "City: New York\n",
      "Students: ('Bob',)\n"
     ]
    }
   ],
   "source": [
    "std_clg(\"Columbia\",\"New York\",\"Bob\")"
   ]
  },
  {
   "cell_type": "code",
   "execution_count": 8,
   "id": "6ae06a09",
   "metadata": {},
   "outputs": [
    {
     "name": "stdout",
     "output_type": "stream",
     "text": [
      "College: Columbia\n",
      "City: New York\n",
      "Students: ('Egehan', 'Sayan')\n"
     ]
    }
   ],
   "source": [
    "std_clg(\"Columbia\",\"New York\",\"Egehan\",\"Sayan\")"
   ]
  },
  {
   "cell_type": "code",
   "execution_count": 9,
   "id": "de8eb69a",
   "metadata": {},
   "outputs": [],
   "source": [
    "# Extend the argument with asterix as limitless"
   ]
  },
  {
   "cell_type": "code",
   "execution_count": 10,
   "id": "d1d9d59e",
   "metadata": {},
   "outputs": [
    {
     "name": "stdout",
     "output_type": "stream",
     "text": [
      "College: harvard\n",
      "City: bursa\n",
      "Students: ('egehan', 'seher')\n"
     ]
    }
   ],
   "source": [
    "#If try to use like this, you must write other arguments\n",
    "def std_cl(*std, college, city):\n",
    "    print(\"College:\",college)\n",
    "    print(\"City:\",city)\n",
    "    print(\"Students:\",std)\n",
    "    \n",
    "std_cl(\"egehan\",\"seher\",college=\"harvard\",city=\"bursa\")"
   ]
  },
  {
   "cell_type": "code",
   "execution_count": 11,
   "id": "04b860c6",
   "metadata": {},
   "outputs": [],
   "source": [
    "def std(**kwargs):\n",
    "    print(type(kwargs));print(kwargs)\n",
    "#Packs to dictionary, not in tuple like single asterix"
   ]
  },
  {
   "cell_type": "code",
   "execution_count": 12,
   "id": "fefb5167",
   "metadata": {},
   "outputs": [
    {
     "name": "stdout",
     "output_type": "stream",
     "text": [
      "<class 'dict'>\n",
      "{'name': 'egehan', 'age': 27}\n"
     ]
    }
   ],
   "source": [
    "std(name=\"egehan\",age=27)"
   ]
  },
  {
   "cell_type": "code",
   "execution_count": 14,
   "id": "1fef5bdd",
   "metadata": {},
   "outputs": [
    {
     "name": "stdout",
     "output_type": "stream",
     "text": [
      "name egehan\n",
      "age 27\n",
      "school kou\n"
     ]
    }
   ],
   "source": [
    "def stddet(**details):\n",
    "    for key , value in details.items():\n",
    "        print(key,value)\n",
    "        \n",
    "stddet(name=\"egehan\", age=27, school=\"kou\")"
   ]
  },
  {
   "cell_type": "code",
   "execution_count": 17,
   "id": "7d2c5fa9",
   "metadata": {},
   "outputs": [
    {
     "name": "stdout",
     "output_type": "stream",
     "text": [
      "name Egehan\n",
      "age 18\n",
      "college KOU\n"
     ]
    }
   ],
   "source": [
    "detail_dict={\"name\":\"Egehan\",\"age\":18,\"college\":\"KOU\"}\n",
    "\n",
    "stddet(**detail_dict)"
   ]
  },
  {
   "cell_type": "code",
   "execution_count": 18,
   "id": "783ae3c3",
   "metadata": {},
   "outputs": [
    {
     "name": "stdout",
     "output_type": "stream",
     "text": [
      "Name: Egehan\n",
      "Age: 18\n",
      "College: KOU\n"
     ]
    }
   ],
   "source": [
    "def student_det(**details):\n",
    "    if \"name\" in details:\n",
    "        print(\"Name:\",details[\"name\"])\n",
    "    if \"age\" in details:\n",
    "        print(\"Age:\",details[\"age\"])\n",
    "    if \"college\" in details:\n",
    "        print(\"College:\",details[\"college\"])\n",
    "        \n",
    "student_det(**detail_dict)"
   ]
  },
  {
   "cell_type": "code",
   "execution_count": 19,
   "id": "09bf4c2a",
   "metadata": {},
   "outputs": [
    {
     "name": "stdout",
     "output_type": "stream",
     "text": [
      "Name: Egehan\n"
     ]
    }
   ],
   "source": [
    "student_det(name=\"Egehan\")"
   ]
  },
  {
   "cell_type": "code",
   "execution_count": null,
   "id": "5cf6add4",
   "metadata": {},
   "outputs": [],
   "source": []
  }
 ],
 "metadata": {
  "kernelspec": {
   "display_name": "Python 3 (ipykernel)",
   "language": "python",
   "name": "python3"
  },
  "language_info": {
   "codemirror_mode": {
    "name": "ipython",
    "version": 3
   },
   "file_extension": ".py",
   "mimetype": "text/x-python",
   "name": "python",
   "nbconvert_exporter": "python",
   "pygments_lexer": "ipython3",
   "version": "3.9.12"
  }
 },
 "nbformat": 4,
 "nbformat_minor": 5
}
