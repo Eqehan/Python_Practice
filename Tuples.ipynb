{
 "cells": [
  {
   "cell_type": "code",
   "execution_count": 11,
   "id": "1bb8cf6f",
   "metadata": {},
   "outputs": [],
   "source": [
    "#tuples are an ordered collection of elements \n",
    "#you can not change values in tuples"
   ]
  },
  {
   "cell_type": "code",
   "execution_count": 3,
   "id": "4e546e1e",
   "metadata": {},
   "outputs": [
    {
     "data": {
      "text/plain": [
       "()"
      ]
     },
     "execution_count": 3,
     "metadata": {},
     "output_type": "execute_result"
    }
   ],
   "source": [
    "my_tuple=(); my_tuple"
   ]
  },
  {
   "cell_type": "code",
   "execution_count": 4,
   "id": "9953ce4e",
   "metadata": {},
   "outputs": [
    {
     "data": {
      "text/plain": [
       "tuple"
      ]
     },
     "execution_count": 4,
     "metadata": {},
     "output_type": "execute_result"
    }
   ],
   "source": [
    "type(my_tuple)"
   ]
  },
  {
   "cell_type": "code",
   "execution_count": 5,
   "id": "8a1c1f8b",
   "metadata": {},
   "outputs": [
    {
     "name": "stdout",
     "output_type": "stream",
     "text": [
      "<class 'tuple'>\n"
     ]
    }
   ],
   "source": [
    "print(type(my_tuple))"
   ]
  },
  {
   "cell_type": "code",
   "execution_count": 6,
   "id": "19bc11d7",
   "metadata": {},
   "outputs": [
    {
     "name": "stdout",
     "output_type": "stream",
     "text": [
      "(1, 2, 3)\n"
     ]
    }
   ],
   "source": [
    "int_tuple=(1,2,3); print(int_tuple)"
   ]
  },
  {
   "cell_type": "code",
   "execution_count": 7,
   "id": "31f45e40",
   "metadata": {},
   "outputs": [
    {
     "name": "stdout",
     "output_type": "stream",
     "text": [
      "('hello', 'there')\n"
     ]
    }
   ],
   "source": [
    "str_tuple=(\"hello\",\"there\");print(str_tuple)"
   ]
  },
  {
   "cell_type": "code",
   "execution_count": 8,
   "id": "bf5764e3",
   "metadata": {},
   "outputs": [
    {
     "name": "stdout",
     "output_type": "stream",
     "text": [
      "(1, 2, 3, 'hello', 'there')\n"
     ]
    }
   ],
   "source": [
    "combined_tuple=int_tuple+str_tuple; print(combined_tuple)"
   ]
  },
  {
   "cell_type": "code",
   "execution_count": 10,
   "id": "3ae42002",
   "metadata": {},
   "outputs": [
    {
     "name": "stdout",
     "output_type": "stream",
     "text": [
      "('hello', 'there', 'hello', 'there', 'hello', 'there')\n"
     ]
    }
   ],
   "source": [
    "print(str_tuple*3)"
   ]
  },
  {
   "cell_type": "code",
   "execution_count": 12,
   "id": "85609248",
   "metadata": {},
   "outputs": [
    {
     "name": "stdout",
     "output_type": "stream",
     "text": [
      "(1, 2, 3, (4, 5, 6))\n"
     ]
    }
   ],
   "source": [
    "nested_tuple=(1,2,3,(4,5,6));print(nested_tuple)"
   ]
  },
  {
   "cell_type": "code",
   "execution_count": 22,
   "id": "38bee18c",
   "metadata": {},
   "outputs": [
    {
     "data": {
      "text/plain": [
       "('egehan', 1, 2, [8, 6, 4], (5, 7, 9))"
      ]
     },
     "execution_count": 22,
     "metadata": {},
     "output_type": "execute_result"
    }
   ],
   "source": [
    "mixed_tuple=(\"egehan\", 1,2,[8,6,4],(5,7,9))\n",
    "mixed_tuple\n",
    "#tuples can include lists inside"
   ]
  },
  {
   "cell_type": "code",
   "execution_count": 16,
   "id": "101b8159",
   "metadata": {},
   "outputs": [
    {
     "name": "stdout",
     "output_type": "stream",
     "text": [
      "e\n"
     ]
    }
   ],
   "source": [
    "my_tuple=(\"s\",\"e\",\"h\",\"e\",\"r\")\n",
    "print(my_tuple[3])"
   ]
  },
  {
   "cell_type": "code",
   "execution_count": 24,
   "id": "9815cfeb",
   "metadata": {},
   "outputs": [
    {
     "name": "stdout",
     "output_type": "stream",
     "text": [
      "4\n"
     ]
    }
   ],
   "source": [
    "print(mixed_tuple[3][2]) #3=element, 2=lists element"
   ]
  },
  {
   "cell_type": "code",
   "execution_count": 26,
   "id": "52b10f26",
   "metadata": {},
   "outputs": [
    {
     "name": "stdout",
     "output_type": "stream",
     "text": [
      "1\n"
     ]
    }
   ],
   "source": [
    "print(my_tuple.index(\"e\"))"
   ]
  },
  {
   "cell_type": "code",
   "execution_count": 28,
   "id": "76d86aba",
   "metadata": {},
   "outputs": [
    {
     "name": "stdout",
     "output_type": "stream",
     "text": [
      "True\n"
     ]
    }
   ],
   "source": [
    "print(\"e\" in my_tuple)"
   ]
  },
  {
   "cell_type": "code",
   "execution_count": 29,
   "id": "dcb6aa9a",
   "metadata": {},
   "outputs": [
    {
     "name": "stdout",
     "output_type": "stream",
     "text": [
      "True\n"
     ]
    }
   ],
   "source": [
    "print(\"o\"not in my_tuple)"
   ]
  },
  {
   "cell_type": "code",
   "execution_count": 30,
   "id": "55ad3f54",
   "metadata": {},
   "outputs": [
    {
     "data": {
      "text/plain": [
       "6"
      ]
     },
     "execution_count": 30,
     "metadata": {},
     "output_type": "execute_result"
    }
   ],
   "source": [
    "sum(int_tuple)"
   ]
  },
  {
   "cell_type": "code",
   "execution_count": 31,
   "id": "5c51bec3",
   "metadata": {},
   "outputs": [
    {
     "data": {
      "text/plain": [
       "[1, 2, 3]"
      ]
     },
     "execution_count": 31,
     "metadata": {},
     "output_type": "execute_result"
    }
   ],
   "source": [
    "list(int_tuple)"
   ]
  },
  {
   "cell_type": "code",
   "execution_count": 32,
   "id": "0fa94fc3",
   "metadata": {},
   "outputs": [
    {
     "data": {
      "text/plain": [
       "{1, 2, 3}"
      ]
     },
     "execution_count": 32,
     "metadata": {},
     "output_type": "execute_result"
    }
   ],
   "source": [
    "set(int_tuple)"
   ]
  },
  {
   "cell_type": "code",
   "execution_count": null,
   "id": "306c76e4",
   "metadata": {},
   "outputs": [],
   "source": []
  }
 ],
 "metadata": {
  "kernelspec": {
   "display_name": "Python 3 (ipykernel)",
   "language": "python",
   "name": "python3"
  },
  "language_info": {
   "codemirror_mode": {
    "name": "ipython",
    "version": 3
   },
   "file_extension": ".py",
   "mimetype": "text/x-python",
   "name": "python",
   "nbconvert_exporter": "python",
   "pygments_lexer": "ipython3",
   "version": "3.9.12"
  }
 },
 "nbformat": 4,
 "nbformat_minor": 5
}
