{
 "cells": [
  {
   "cell_type": "code",
   "execution_count": 1,
   "id": "9e21666c",
   "metadata": {},
   "outputs": [
    {
     "name": "stdout",
     "output_type": "stream",
     "text": [
      "enter the salary= 8800\n",
      "enter the expenses= 3700\n",
      "net saving=  5100\n"
     ]
    }
   ],
   "source": [
    "# Calculate net saving\n",
    "salary= int(input(\"enter the salary= \"))\n",
    "exp=int(input(\"enter the expenses= \"))\n",
    "savings= salary-exp\n",
    "print(\"net saving= \", savings)"
   ]
  },
  {
   "cell_type": "code",
   "execution_count": 2,
   "id": "08f2da4f",
   "metadata": {},
   "outputs": [
    {
     "name": "stdout",
     "output_type": "stream",
     "text": [
      "number= 39\n",
      "39 + 393939 + 393978\n"
     ]
    }
   ],
   "source": [
    "num=int(input(\"number= \"))\n",
    "temp1=str(num);temp2= temp1+temp1;temp3=temp1+temp1+temp1\n",
    "total= num + int(temp3)\n",
    "print(temp1, \"+\", temp3, \"+\", total)"
   ]
  },
  {
   "cell_type": "code",
   "execution_count": 3,
   "id": "252abd89",
   "metadata": {},
   "outputs": [
    {
     "name": "stdout",
     "output_type": "stream",
     "text": [
      "type principle: 100\n",
      "write time: 20\n",
      "rate: 40\n",
      "the simple interest is:  800.0\n"
     ]
    }
   ],
   "source": [
    "prnc=float(input(\"type principle: \"))\n",
    "time=int(input(\"write time: \"))\n",
    "rate=float(input(\"rate: \"))\n",
    "clc= (prnc*time*rate)/100\n",
    "print(\"the simple interest is: \", clc)"
   ]
  },
  {
   "cell_type": "code",
   "execution_count": 4,
   "id": "a21a13ff",
   "metadata": {},
   "outputs": [
    {
     "name": "stdout",
     "output_type": "stream",
     "text": [
      "before:  ['toyota', 'opel', 'ford']\n",
      "after:  ['toyota', 'ford', 'opel']\n"
     ]
    }
   ],
   "source": [
    "#if try to change index of values, you must copy to third one\n",
    "#or you can try swap \n",
    "cars=[\"toyota\",\"opel\",\"ford\"]\n",
    "print(\"before: \",cars)\n",
    "car1=1;car2=2\n",
    "cars[car1],cars[car2]=cars[car2],cars[car1]  #swap\n",
    "print(\"after: \",cars)"
   ]
  },
  {
   "cell_type": "code",
   "execution_count": 5,
   "id": "32237d0f",
   "metadata": {},
   "outputs": [
    {
     "name": "stdout",
     "output_type": "stream",
     "text": [
      "there are 2 duplicate\n"
     ]
    }
   ],
   "source": [
    "# Duplicate check\n",
    "bars=[\"toyota\",\"opel\",\"ford\",\"ford\",\"fiat\",\"opel\"]\n",
    "len_bars=len(bars)\n",
    "len_set_bars=len(set(bars))\n",
    "if len_bars==len_set_bars:\n",
    "    print(\"no duplicate\")\n",
    "else:\n",
    "    print(\"there are {} duplicate\".format(len_bars-len_set_bars))"
   ]
  },
  {
   "cell_type": "code",
   "execution_count": 8,
   "id": "62910584",
   "metadata": {},
   "outputs": [
    {
     "name": "stdout",
     "output_type": "stream",
     "text": [
      "enter some comma seperated numbers: 1,2,45,6,8\n",
      "list:  ['1', '2', '45', '6', '8']\n",
      "tuple  ('1', '2', '45', '6', '8')\n"
     ]
    }
   ],
   "source": [
    "# Seperate input values with comma\n",
    "value= input(\"enter some comma seperated numbers: \")\n",
    "list_value= value.split(\",\")\n",
    "tuple_value= tuple(list_value)\n",
    "print(\"list: \", list_value)\n",
    "print(\"tuple \",tuple_value)"
   ]
  },
  {
   "cell_type": "code",
   "execution_count": 10,
   "id": "93f5f4f8",
   "metadata": {},
   "outputs": [
    {
     "name": "stdout",
     "output_type": "stream",
     "text": [
      "Enter sentence with comma: egehan,sayan,bursa\n",
      "['egehan', 'sayan', 'bursa']\n",
      "['bursa', 'egehan', 'sayan']\n"
     ]
    }
   ],
   "source": [
    "# Seperate and set alphabetically words by comma\n",
    "lst_words=input(\"Enter sentence with comma: \")\n",
    "words=lst_words.split(\",\")\n",
    "new_lst_wrd=sorted(words)\n",
    "print(words)\n",
    "print(new_lst_wrd)"
   ]
  },
  {
   "cell_type": "code",
   "execution_count": 11,
   "id": "80f8f8b7",
   "metadata": {},
   "outputs": [
    {
     "name": "stdout",
     "output_type": "stream",
     "text": [
      "first word: ericcson\n",
      "second word: egehan\n",
      "\n",
      " common chars:  ['e', 'n']\n"
     ]
    }
   ],
   "source": [
    "# Compare for same letters between two words\n",
    "str1=input(\"first word: \")\n",
    "str2=input(\"second word: \")\n",
    "set1=set(str1)\n",
    "set2=set(str2)\n",
    "common_char=set1.intersection(set2)\n",
    "print(\"\\n common chars: \", list(common_char))"
   ]
  },
  {
   "cell_type": "code",
   "execution_count": 12,
   "id": "4cf1b8f4",
   "metadata": {},
   "outputs": [
    {
     "name": "stdout",
     "output_type": "stream",
     "text": [
      "before slicing= [10, 11, 12, 13, 14, 15]\n",
      "First half: [10, 11, 12]\n"
     ]
    }
   ],
   "source": [
    "# Slicing of list from half\n",
    "list_num=[10,11,12,13,14,15]\n",
    "len_lst=len(list_num)\n",
    "print(\"before slicing= %s\" %list_num)\n",
    "half=int(len_lst/2)\n",
    "list_num1=list_num[:half]\n",
    "list_num2=list_num[half:]\n",
    "print(\"First half: %s\" %list_num1)"
   ]
  },
  {
   "cell_type": "code",
   "execution_count": 13,
   "id": "0a448dd4",
   "metadata": {},
   "outputs": [
    {
     "name": "stdout",
     "output_type": "stream",
     "text": [
      "Enter a number= 35\n",
      "It is Positive\n"
     ]
    }
   ],
   "source": [
    "# Check Negativity or Positivity of input\n",
    "num=float(input(\"Enter a number= \"))\n",
    "if num>=0:\n",
    "    if num==0:\n",
    "        print(\"It is Zero\")\n",
    "    else:\n",
    "        print(\"It is Positive\")\n",
    "else: \n",
    "    print(\"Negative number.\")"
   ]
  },
  {
   "cell_type": "code",
   "execution_count": 14,
   "id": "e753c4b8",
   "metadata": {},
   "outputs": [
    {
     "name": "stdout",
     "output_type": "stream",
     "text": [
      "It is an complex number\n"
     ]
    }
   ],
   "source": [
    "# Check the type of value with if-else\n",
    "var=1+2j\n",
    "if (type(var)==complex):\n",
    "    print(\"It is an complex number\")\n",
    "else:\n",
    "    print(\"it is not complex\")"
   ]
  },
  {
   "cell_type": "code",
   "execution_count": 16,
   "id": "6128049c",
   "metadata": {},
   "outputs": [
    {
     "name": "stdout",
     "output_type": "stream",
     "text": [
      "Enter a number: 16\n",
      "16 is even.\n"
     ]
    }
   ],
   "source": [
    "# Check the value if even or odd\n",
    "num=int(input(\"Enter a number: \"))\n",
    "if (num%2)==0:\n",
    "    print(\"%d is even.\"%num)\n",
    "else:\n",
    "    print(\"%d is odd\"%num)"
   ]
  },
  {
   "cell_type": "code",
   "execution_count": 17,
   "id": "576882cc",
   "metadata": {},
   "outputs": [
    {
     "name": "stdout",
     "output_type": "stream",
     "text": [
      "Write first number: 35\n",
      "Operator: /\n",
      "Write second number: 5\n",
      "Div=  7.0\n"
     ]
    }
   ],
   "source": [
    "# Calculator (for just 2 values)\n",
    "num1=float(input(\"Write first number: \"))\n",
    "op=input(\"Operator: \")\n",
    "num2=float(input(\"Write second number: \"))\n",
    "if op==\"+\":\n",
    "    print(\"Add= \", num1+num2)\n",
    "elif op==\"-\":\n",
    "    print(\"Subs= \",num1-num2)\n",
    "elif op==\"*\":\n",
    "    print(\"Multiple= \", num1*num2)\n",
    "elif op==\"/\":\n",
    "    print(\"Div= \",num1/num2)\n",
    "else:\n",
    "    print(\"This is not an operator\")"
   ]
  },
  {
   "cell_type": "code",
   "execution_count": 19,
   "id": "6b6f73a7",
   "metadata": {},
   "outputs": [
    {
     "name": "stdout",
     "output_type": "stream",
     "text": [
      "enter a letter: a\n",
      "a Yes it is vowel.\n"
     ]
    }
   ],
   "source": [
    "# Vowel letter finder \n",
    "let=input(\"enter a letter: \")\n",
    "let=let.lower()\n",
    "if let in(\"a\",\"e\",\"i\",\"o\",\"u\"):\n",
    "    print(\"%s Yes it is vowel.\" %let)\n",
    "else: \n",
    "    print(\"It is consonant.\")"
   ]
  },
  {
   "cell_type": "code",
   "execution_count": 20,
   "id": "93fe7649",
   "metadata": {},
   "outputs": [
    {
     "name": "stdout",
     "output_type": "stream",
     "text": [
      "Enter: abba\n",
      "It's palindrome\n"
     ]
    }
   ],
   "source": [
    "# Check for Palindrome Words\n",
    "str_value= input(\"Enter: \")\n",
    "rev_str= str_value[::-1]\n",
    "if(str_value==rev_str):\n",
    "    print(\"It's palindrome\")\n",
    "else:\n",
    "    print(\"Not palnidrome.\")"
   ]
  },
  {
   "cell_type": "code",
   "execution_count": 21,
   "id": "f16d509f",
   "metadata": {},
   "outputs": [
    {
     "name": "stdout",
     "output_type": "stream",
     "text": [
      "Student's Score= 51\n",
      "C\n"
     ]
    }
   ],
   "source": [
    "# Exam grades\n",
    "score=int(input(\"Student's Score= \"))\n",
    "if score>=90:\n",
    "    print(\"A\")\n",
    "elif score>=80:\n",
    "    print(\"B\")\n",
    "elif score>=50:\n",
    "    print(\"C\")\n",
    "else:\n",
    "    print(\"Fail\")"
   ]
  },
  {
   "cell_type": "code",
   "execution_count": null,
   "id": "41a744e9",
   "metadata": {},
   "outputs": [],
   "source": []
  }
 ],
 "metadata": {
  "kernelspec": {
   "display_name": "Python 3 (ipykernel)",
   "language": "python",
   "name": "python3"
  },
  "language_info": {
   "codemirror_mode": {
    "name": "ipython",
    "version": 3
   },
   "file_extension": ".py",
   "mimetype": "text/x-python",
   "name": "python",
   "nbconvert_exporter": "python",
   "pygments_lexer": "ipython3",
   "version": "3.9.12"
  }
 },
 "nbformat": 4,
 "nbformat_minor": 5
}
