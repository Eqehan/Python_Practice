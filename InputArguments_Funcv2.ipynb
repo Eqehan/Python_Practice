{
 "cells": [
  {
   "cell_type": "code",
   "execution_count": 1,
   "id": "35cc7d28",
   "metadata": {},
   "outputs": [
    {
     "name": "stdout",
     "output_type": "stream",
     "text": [
      "Egehan Sayan\n",
      "0531 422 1011\n",
      "Integration Engineer @Ericsson\n"
     ]
    }
   ],
   "source": [
    "def my_intro():\n",
    "    print(\"Egehan Sayan\")\n",
    "    print(\"0531 422 1011\")\n",
    "    print(\"Integration Engineer @Ericsson\")\n",
    "my_intro()"
   ]
  },
  {
   "cell_type": "code",
   "execution_count": 2,
   "id": "b9961ec8",
   "metadata": {},
   "outputs": [],
   "source": [
    "def my_intro(name):\n",
    "    print(\"My name is\",name)\n",
    "    print(\"0531 422 1011\")"
   ]
  },
  {
   "cell_type": "code",
   "execution_count": 3,
   "id": "8dcbd1f5",
   "metadata": {},
   "outputs": [
    {
     "name": "stdout",
     "output_type": "stream",
     "text": [
      "My name is Egehan\n",
      "0531 422 1011\n"
     ]
    }
   ],
   "source": [
    "my_intro(\"Egehan\")"
   ]
  },
  {
   "cell_type": "code",
   "execution_count": 4,
   "id": "d3582cc5",
   "metadata": {},
   "outputs": [
    {
     "name": "stdout",
     "output_type": "stream",
     "text": [
      "My name is egehan\n",
      "I'm living in  bursa\n"
     ]
    }
   ],
   "source": [
    "def gen_intro(name,city):\n",
    "    print(\"My name is\",name)\n",
    "    print(\"I'm living in \",city)\n",
    "gen_intro(\"egehan\",\"bursa\")"
   ]
  },
  {
   "cell_type": "code",
   "execution_count": 5,
   "id": "3ff50f49",
   "metadata": {},
   "outputs": [
    {
     "name": "stdout",
     "output_type": "stream",
     "text": [
      "the square of 9 is 81\n"
     ]
    }
   ],
   "source": [
    "def square(x):\n",
    "    print(\"the square of\",x,\"is\",x*x)\n",
    "square(9)"
   ]
  },
  {
   "cell_type": "code",
   "execution_count": 6,
   "id": "dd41dd11",
   "metadata": {},
   "outputs": [
    {
     "name": "stdout",
     "output_type": "stream",
     "text": [
      "the square of 2 is 4\n"
     ]
    }
   ],
   "source": [
    "num=2\n",
    "square(num)"
   ]
  },
  {
   "cell_type": "code",
   "execution_count": 8,
   "id": "1206fe98",
   "metadata": {},
   "outputs": [
    {
     "name": "stdout",
     "output_type": "stream",
     "text": [
      "My total savings:  2600\n"
     ]
    }
   ],
   "source": [
    "salary=8600;expense=6000\n",
    "def my_savings(a,b):\n",
    "    print(\"My total savings: \",a-b)\n",
    "my_savings(salary,expense)"
   ]
  },
  {
   "cell_type": "code",
   "execution_count": null,
   "id": "0f25b896",
   "metadata": {},
   "outputs": [],
   "source": [
    "# my_savings() is wrong, you must define at least 2 variables"
   ]
  },
  {
   "cell_type": "code",
   "execution_count": 9,
   "id": "0a79067b",
   "metadata": {},
   "outputs": [
    {
     "name": "stdout",
     "output_type": "stream",
     "text": [
      "ericsson\n",
      "ericsson\n",
      "ericsson\n"
     ]
    }
   ],
   "source": [
    "def print_many(string,times):\n",
    "    for i in range(times):\n",
    "        print(string)\n",
    "print_many(\"ericsson\",3)"
   ]
  },
  {
   "cell_type": "code",
   "execution_count": 10,
   "id": "ff1a4ceb",
   "metadata": {},
   "outputs": [
    {
     "name": "stdout",
     "output_type": "stream",
     "text": [
      "ericsson\n",
      "ericsson\n",
      "ericsson\n"
     ]
    }
   ],
   "source": [
    "def print_many_with_DOC(string,times):\n",
    "    \"\"\"This function has documentation.\n",
    "    It will write given string many times which is given by input\"\"\"\n",
    "    for i in range(times):\n",
    "        print(string)\n",
    "print_many_with_DOC(\"ericsson\",3)"
   ]
  },
  {
   "cell_type": "code",
   "execution_count": 11,
   "id": "0a373120",
   "metadata": {},
   "outputs": [
    {
     "data": {
      "text/plain": [
       "'This function has documentation.\\n    It will write given string many times which is given by input'"
      ]
     },
     "execution_count": 11,
     "metadata": {},
     "output_type": "execute_result"
    }
   ],
   "source": [
    "print_many_with_DOC.__doc__"
   ]
  },
  {
   "cell_type": "code",
   "execution_count": 12,
   "id": "65996036",
   "metadata": {},
   "outputs": [
    {
     "name": "stdout",
     "output_type": "stream",
     "text": [
      "This function has documentation.\n",
      "    It will write given string many times which is given by input\n"
     ]
    }
   ],
   "source": [
    "print(print_many_with_DOC.__doc__)"
   ]
  },
  {
   "cell_type": "code",
   "execution_count": 13,
   "id": "0dc04d94",
   "metadata": {},
   "outputs": [
    {
     "name": "stdout",
     "output_type": "stream",
     "text": [
      "Enter a:9\n",
      "Enter b:1\n",
      "a is greater\n"
     ]
    }
   ],
   "source": [
    "def print_higher(a,b):\n",
    "    if a>b:\n",
    "        print(\"a is greater\")\n",
    "    else:\n",
    "        print(\"b is greater\")\n",
    "a=int(input(\"Enter a:\"));b=int(input(\"Enter b:\"))\n",
    "print_higher(a,b)"
   ]
  },
  {
   "cell_type": "code",
   "execution_count": 14,
   "id": "4de78837",
   "metadata": {},
   "outputs": [
    {
     "name": "stdout",
     "output_type": "stream",
     "text": [
      "Multiplication result is=  22.799999999999997\n"
     ]
    }
   ],
   "source": [
    "def multi(num1,num2,num3):\n",
    "    print(\"Multiplication result is= \",num1*num2*num3)\n",
    "multi(1,3.8,6)"
   ]
  },
  {
   "cell_type": "code",
   "execution_count": 15,
   "id": "9a1f4cc0",
   "metadata": {},
   "outputs": [
    {
     "name": "stdout",
     "output_type": "stream",
     "text": [
      "The length of the list 8\n"
     ]
    }
   ],
   "source": [
    "def length(some_list):\n",
    "    count=0\n",
    "    for element in some_list:\n",
    "        count+=1\n",
    "    print(\"The length of the list\", count)\n",
    "a_list=[1,2,3,5,67,8,0,3]\n",
    "length(a_list)"
   ]
  },
  {
   "cell_type": "code",
   "execution_count": 16,
   "id": "bf35d809",
   "metadata": {},
   "outputs": [
    {
     "name": "stdout",
     "output_type": "stream",
     "text": [
      "The length of the list 4\n"
     ]
    }
   ],
   "source": [
    "length([\"ege\",\"onur\",\"okan\",\"efe\"])"
   ]
  },
  {
   "cell_type": "code",
   "execution_count": null,
   "id": "ab80b024",
   "metadata": {},
   "outputs": [],
   "source": [
    "# difference between default \"len\" function and our length function\n",
    "#is. len is define a value, but our length is a return value\n",
    "# return value does not storing"
   ]
  }
 ],
 "metadata": {
  "kernelspec": {
   "display_name": "Python 3 (ipykernel)",
   "language": "python",
   "name": "python3"
  },
  "language_info": {
   "codemirror_mode": {
    "name": "ipython",
    "version": 3
   },
   "file_extension": ".py",
   "mimetype": "text/x-python",
   "name": "python",
   "nbconvert_exporter": "python",
   "pygments_lexer": "ipython3",
   "version": "3.9.12"
  }
 },
 "nbformat": 4,
 "nbformat_minor": 5
}
