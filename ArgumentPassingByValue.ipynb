{
 "cells": [
  {
   "cell_type": "code",
   "execution_count": 1,
   "id": "ff15d6a0",
   "metadata": {},
   "outputs": [],
   "source": [
    "salary=8600\n",
    "expense=6000\n",
    "name=\"Egehan\"\n",
    "interest_rate=0.04"
   ]
  },
  {
   "cell_type": "code",
   "execution_count": 3,
   "id": "ceb1390b",
   "metadata": {},
   "outputs": [
    {
     "name": "stdout",
     "output_type": "stream",
     "text": [
      "Account owner: Egehan\n",
      "Savings: 2600\n",
      "Interest rate= 0.04\n"
     ]
    }
   ],
   "source": [
    "def print_save():\n",
    "    print(\"Account owner:\",name)\n",
    "    save=salary-expense\n",
    "    print(\"Savings:\",save)\n",
    "    print(\"Interest rate=\",interest_rate)\n",
    "    \n",
    "print_save()"
   ]
  },
  {
   "cell_type": "code",
   "execution_count": 4,
   "id": "f289a6a7",
   "metadata": {},
   "outputs": [
    {
     "name": "stdout",
     "output_type": "stream",
     "text": [
      "Account owner: Julie\n",
      "Savings: 8000\n",
      "Interest rate= 0.03\n"
     ]
    }
   ],
   "source": [
    "def print_save(name,salary,expense,interest_rate):\n",
    "    print(\"Account owner:\",name)\n",
    "    save=salary-expense\n",
    "    print(\"Savings:\",save)\n",
    "    print(\"Interest rate=\",interest_rate)\n",
    "    \n",
    "print_save(\"Julie\",10000,2000,0.03)"
   ]
  },
  {
   "cell_type": "code",
   "execution_count": 5,
   "id": "d23ed683",
   "metadata": {},
   "outputs": [],
   "source": [
    "fruit=[\"Elma\",\"Muz\",\"Karpuz\"]"
   ]
  },
  {
   "cell_type": "code",
   "execution_count": 6,
   "id": "eb0b6463",
   "metadata": {},
   "outputs": [
    {
     "name": "stdout",
     "output_type": "stream",
     "text": [
      "Inside the func: ['Kivi', 'Cilek']\n",
      "\n",
      "Outside the function:  ['Elma', 'Muz', 'Karpuz']\n"
     ]
    }
   ],
   "source": [
    "def change_list(fruit):\n",
    "    fruit=[\"Kivi\",\"Cilek\"]\n",
    "    print(\"Inside the func:\",fruit)\n",
    "    \n",
    "change_list(fruit)\n",
    "print()\n",
    "print(\"Outside the function: \",fruit)"
   ]
  },
  {
   "cell_type": "code",
   "execution_count": 7,
   "id": "5b26c584",
   "metadata": {},
   "outputs": [
    {
     "data": {
      "text/plain": [
       "['Elma', 'Muz', 'Karpuz']"
      ]
     },
     "execution_count": 7,
     "metadata": {},
     "output_type": "execute_result"
    }
   ],
   "source": [
    "fruit"
   ]
  },
  {
   "cell_type": "code",
   "execution_count": null,
   "id": "4f864138",
   "metadata": {},
   "outputs": [],
   "source": []
  }
 ],
 "metadata": {
  "kernelspec": {
   "display_name": "Python 3 (ipykernel)",
   "language": "python",
   "name": "python3"
  },
  "language_info": {
   "codemirror_mode": {
    "name": "ipython",
    "version": 3
   },
   "file_extension": ".py",
   "mimetype": "text/x-python",
   "name": "python",
   "nbconvert_exporter": "python",
   "pygments_lexer": "ipython3",
   "version": "3.9.12"
  }
 },
 "nbformat": 4,
 "nbformat_minor": 5
}
