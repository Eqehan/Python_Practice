{
 "cells": [
  {
   "cell_type": "code",
   "execution_count": 2,
   "id": "bf098ab3",
   "metadata": {},
   "outputs": [],
   "source": [
    "empty_list = []"
   ]
  },
  {
   "cell_type": "code",
   "execution_count": 3,
   "id": "fc08b293",
   "metadata": {},
   "outputs": [
    {
     "data": {
      "text/plain": [
       "[]"
      ]
     },
     "execution_count": 3,
     "metadata": {},
     "output_type": "execute_result"
    }
   ],
   "source": [
    "empty_list"
   ]
  },
  {
   "cell_type": "code",
   "execution_count": 4,
   "id": "0270b052",
   "metadata": {},
   "outputs": [
    {
     "data": {
      "text/plain": [
       "['honda', 'toyota', 'togg']"
      ]
     },
     "execution_count": 4,
     "metadata": {},
     "output_type": "execute_result"
    }
   ],
   "source": [
    "list_str = [\"honda\",\"toyota\",\"togg\"]\n",
    "list_str"
   ]
  },
  {
   "cell_type": "code",
   "execution_count": 6,
   "id": "54d1a6c6",
   "metadata": {},
   "outputs": [
    {
     "data": {
      "text/plain": [
       "list"
      ]
     },
     "execution_count": 6,
     "metadata": {},
     "output_type": "execute_result"
    }
   ],
   "source": [
    "type(list_str)"
   ]
  },
  {
   "cell_type": "code",
   "execution_count": 9,
   "id": "6dc1030f",
   "metadata": {},
   "outputs": [
    {
     "data": {
      "text/plain": [
       "[2, 5, 8, 1, 9]"
      ]
     },
     "execution_count": 9,
     "metadata": {},
     "output_type": "execute_result"
    }
   ],
   "source": [
    "list_int=[2,5,8,1,9]\n",
    "list_int"
   ]
  },
  {
   "cell_type": "code",
   "execution_count": 10,
   "id": "5f89aee4",
   "metadata": {},
   "outputs": [
    {
     "data": {
      "text/plain": [
       "[2.3, 5.8]"
      ]
     },
     "execution_count": 10,
     "metadata": {},
     "output_type": "execute_result"
    }
   ],
   "source": [
    "list_float=[2.3, 5.8]\n",
    "list_float"
   ]
  },
  {
   "cell_type": "code",
   "execution_count": 13,
   "id": "8c2a1aae",
   "metadata": {},
   "outputs": [
    {
     "data": {
      "text/plain": [
       "[True, False]"
      ]
     },
     "execution_count": 13,
     "metadata": {},
     "output_type": "execute_result"
    }
   ],
   "source": [
    "list_bool=[True,False]\n",
    "list_bool"
   ]
  },
  {
   "cell_type": "code",
   "execution_count": 14,
   "id": "3f852e46",
   "metadata": {},
   "outputs": [
    {
     "name": "stdout",
     "output_type": "stream",
     "text": [
      "['nissan', 3, True, 8.1]\n"
     ]
    }
   ],
   "source": [
    "mixed_list=[\"nissan\", 3, True, 8.1]\n",
    "print(mixed_list)"
   ]
  },
  {
   "cell_type": "code",
   "execution_count": 16,
   "id": "c7e07e07",
   "metadata": {},
   "outputs": [
    {
     "name": "stdout",
     "output_type": "stream",
     "text": [
      "nissan\n"
     ]
    }
   ],
   "source": [
    "print(mixed_list[0])"
   ]
  },
  {
   "cell_type": "code",
   "execution_count": 18,
   "id": "b06ecc5e",
   "metadata": {},
   "outputs": [
    {
     "name": "stdout",
     "output_type": "stream",
     "text": [
      "car at the index 2=  honda\n"
     ]
    }
   ],
   "source": [
    "cars=[\"toyoya\",\"ferrari\",\"honda\",\"volswagen\"]\n",
    "print(\"car at the index 2= \", cars[2])"
   ]
  },
  {
   "cell_type": "code",
   "execution_count": 21,
   "id": "46c4237b",
   "metadata": {},
   "outputs": [
    {
     "name": "stdout",
     "output_type": "stream",
     "text": [
      "important volswagen\n"
     ]
    }
   ],
   "source": [
    "print(\"important \" + cars[-1])"
   ]
  },
  {
   "cell_type": "code",
   "execution_count": 22,
   "id": "149d5aa7",
   "metadata": {},
   "outputs": [
    {
     "name": "stdout",
     "output_type": "stream",
     "text": [
      "hyundai\n"
     ]
    }
   ],
   "source": [
    "cars[2]=\"hyundai\"\n",
    "print(cars[2])"
   ]
  },
  {
   "cell_type": "code",
   "execution_count": null,
   "id": "241e5d84",
   "metadata": {},
   "outputs": [],
   "source": []
  }
 ],
 "metadata": {
  "kernelspec": {
   "display_name": "Python 3 (ipykernel)",
   "language": "python",
   "name": "python3"
  },
  "language_info": {
   "codemirror_mode": {
    "name": "ipython",
    "version": 3
   },
   "file_extension": ".py",
   "mimetype": "text/x-python",
   "name": "python",
   "nbconvert_exporter": "python",
   "pygments_lexer": "ipython3",
   "version": "3.9.12"
  }
 },
 "nbformat": 4,
 "nbformat_minor": 5
}
