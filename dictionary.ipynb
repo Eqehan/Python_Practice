{
 "cells": [
  {
   "cell_type": "code",
   "execution_count": 1,
   "id": "6fea60a1",
   "metadata": {},
   "outputs": [],
   "source": [
    "empty_dic=()"
   ]
  },
  {
   "cell_type": "code",
   "execution_count": 2,
   "id": "d135524a",
   "metadata": {},
   "outputs": [
    {
     "data": {
      "text/plain": [
       "()"
      ]
     },
     "execution_count": 2,
     "metadata": {},
     "output_type": "execute_result"
    }
   ],
   "source": [
    "empty_dic"
   ]
  },
  {
   "cell_type": "code",
   "execution_count": 1,
   "id": "db803ce0",
   "metadata": {},
   "outputs": [
    {
     "data": {
      "text/plain": [
       "{'ege': 'corvette', 'ibo': 'kron', 'onur': 'umit'}"
      ]
     },
     "execution_count": 1,
     "metadata": {},
     "output_type": "execute_result"
    }
   ],
   "source": [
    "owners={\"ege\":\"corvette\",\n",
    "       \"ibo\":\"kron\",\n",
    "       \"onur\":\"umit\"}\n",
    "owners"
   ]
  },
  {
   "cell_type": "code",
   "execution_count": 3,
   "id": "66adb2cb",
   "metadata": {},
   "outputs": [
    {
     "data": {
      "text/plain": [
       "'corvette'"
      ]
     },
     "execution_count": 3,
     "metadata": {},
     "output_type": "execute_result"
    }
   ],
   "source": [
    "owners[\"ege\"] #connects with other element"
   ]
  },
  {
   "cell_type": "code",
   "execution_count": 7,
   "id": "05e6377f",
   "metadata": {},
   "outputs": [
    {
     "data": {
      "text/plain": [
       "{1: 3, 45: 65, 31: 2}"
      ]
     },
     "execution_count": 7,
     "metadata": {},
     "output_type": "execute_result"
    }
   ],
   "source": [
    "int_dict={1:3,45:65,31:2};int_dict"
   ]
  },
  {
   "cell_type": "code",
   "execution_count": 10,
   "id": "9a9bbfb4",
   "metadata": {},
   "outputs": [
    {
     "data": {
      "text/plain": [
       "3"
      ]
     },
     "execution_count": 10,
     "metadata": {},
     "output_type": "execute_result"
    }
   ],
   "source": [
    "int_dict[1] #keys must be unique"
   ]
  },
  {
   "cell_type": "code",
   "execution_count": 13,
   "id": "3f7be98c",
   "metadata": {},
   "outputs": [
    {
     "data": {
      "text/plain": [
       "{'henry': 1990, 'samuel': 1071, 'ingrid': 1919}"
      ]
     },
     "execution_count": 13,
     "metadata": {},
     "output_type": "execute_result"
    }
   ],
   "source": [
    "student={\"henry\":1990,\n",
    "        \"samuel\":1071,\n",
    "        \"ingrid\":1919};student"
   ]
  },
  {
   "cell_type": "code",
   "execution_count": 15,
   "id": "a2a4785b",
   "metadata": {},
   "outputs": [
    {
     "data": {
      "text/plain": [
       "dict_keys(['henry', 'samuel', 'ingrid'])"
      ]
     },
     "execution_count": 15,
     "metadata": {},
     "output_type": "execute_result"
    }
   ],
   "source": [
    "student.keys() #shows keys in dictionary"
   ]
  },
  {
   "cell_type": "code",
   "execution_count": 17,
   "id": "c17f64e4",
   "metadata": {},
   "outputs": [
    {
     "data": {
      "text/plain": [
       "True"
      ]
     },
     "execution_count": 17,
     "metadata": {},
     "output_type": "execute_result"
    }
   ],
   "source": [
    "\"samuel\" in student.keys()"
   ]
  },
  {
   "cell_type": "code",
   "execution_count": 18,
   "id": "031a8491",
   "metadata": {},
   "outputs": [
    {
     "data": {
      "text/plain": [
       "dict_values([1990, 1071, 1919])"
      ]
     },
     "execution_count": 18,
     "metadata": {},
     "output_type": "execute_result"
    }
   ],
   "source": [
    "student.values()"
   ]
  },
  {
   "cell_type": "code",
   "execution_count": 19,
   "id": "a02cb16f",
   "metadata": {},
   "outputs": [
    {
     "data": {
      "text/plain": [
       "{'sahibi': 'egehan', 'modeli': 'corvette', 'yıl': '2007', 'fiyati': 109}"
      ]
     },
     "execution_count": 19,
     "metadata": {},
     "output_type": "execute_result"
    }
   ],
   "source": [
    "bisiklet={\"sahibi\":\"egehan\",\n",
    "         \"modeli\":\"corvette\",\n",
    "         \"yıl\":\"2007\",\n",
    "         \"fiyati\":109}; bisiklet"
   ]
  },
  {
   "cell_type": "code",
   "execution_count": 21,
   "id": "ebbaa286",
   "metadata": {},
   "outputs": [
    {
     "data": {
      "text/plain": [
       "{'sahibi': 'egehan',\n",
       " 'modeli': 'corvette',\n",
       " 'yıl': '2007',\n",
       " 'fiyati': 109,\n",
       " 'renk': 'sarı'}"
      ]
     },
     "execution_count": 21,
     "metadata": {},
     "output_type": "execute_result"
    }
   ],
   "source": [
    "bisiklet[\"renk\"]=\"sarı\";bisiklet #can add new value"
   ]
  },
  {
   "cell_type": "code",
   "execution_count": 22,
   "id": "7007d941",
   "metadata": {},
   "outputs": [
    {
     "data": {
      "text/plain": [
       "{'sahibi': 'egehan',\n",
       " 'modeli': 'corvette',\n",
       " 'yıl': '2007',\n",
       " 'fiyati': 107,\n",
       " 'renk': 'sarı'}"
      ]
     },
     "execution_count": 22,
     "metadata": {},
     "output_type": "execute_result"
    }
   ],
   "source": [
    "bisiklet[\"fiyati\"]=107;bisiklet #updated"
   ]
  },
  {
   "cell_type": "code",
   "execution_count": 24,
   "id": "d973ba38",
   "metadata": {},
   "outputs": [
    {
     "data": {
      "text/plain": [
       "'corvette'"
      ]
     },
     "execution_count": 24,
     "metadata": {},
     "output_type": "execute_result"
    }
   ],
   "source": [
    "bisiklet.get(\"modeli\")"
   ]
  },
  {
   "cell_type": "code",
   "execution_count": 27,
   "id": "a4cb8cb8",
   "metadata": {},
   "outputs": [
    {
     "ename": "KeyError",
     "evalue": "'yıl'",
     "output_type": "error",
     "traceback": [
      "\u001b[1;31m---------------------------------------------------------------------------\u001b[0m",
      "\u001b[1;31mKeyError\u001b[0m                                  Traceback (most recent call last)",
      "Input \u001b[1;32mIn [27]\u001b[0m, in \u001b[0;36m<cell line: 1>\u001b[1;34m()\u001b[0m\n\u001b[1;32m----> 1\u001b[0m \u001b[38;5;28;01mdel\u001b[39;00m bisiklet[\u001b[38;5;124m\"\u001b[39m\u001b[38;5;124myıl\u001b[39m\u001b[38;5;124m\"\u001b[39m];bisiklet\n",
      "\u001b[1;31mKeyError\u001b[0m: 'yıl'"
     ]
    }
   ],
   "source": [
    "del bisiklet[\"yıl\"];bisiklet"
   ]
  },
  {
   "cell_type": "code",
   "execution_count": null,
   "id": "38bcf541",
   "metadata": {},
   "outputs": [],
   "source": []
  }
 ],
 "metadata": {
  "kernelspec": {
   "display_name": "Python 3 (ipykernel)",
   "language": "python",
   "name": "python3"
  },
  "language_info": {
   "codemirror_mode": {
    "name": "ipython",
    "version": 3
   },
   "file_extension": ".py",
   "mimetype": "text/x-python",
   "name": "python",
   "nbconvert_exporter": "python",
   "pygments_lexer": "ipython3",
   "version": "3.9.12"
  }
 },
 "nbformat": 4,
 "nbformat_minor": 5
}
