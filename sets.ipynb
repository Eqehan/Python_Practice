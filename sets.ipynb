{
 "cells": [
  {
   "cell_type": "code",
   "execution_count": 1,
   "id": "eb4e9147",
   "metadata": {},
   "outputs": [],
   "source": [
    "#sets has no duplicate or similar.\n",
    "#every set elements must be unique"
   ]
  },
  {
   "cell_type": "code",
   "execution_count": 2,
   "id": "91e8af04",
   "metadata": {},
   "outputs": [
    {
     "data": {
      "text/plain": [
       "{'elma', 'gül', 'muz', 'olivie'}"
      ]
     },
     "execution_count": 2,
     "metadata": {},
     "output_type": "execute_result"
    }
   ],
   "source": [
    "set_str={\"elma\",\"muz\",\"olivie\",\"gül\"}\n",
    "set_str"
   ]
  },
  {
   "cell_type": "code",
   "execution_count": 3,
   "id": "f4623e58",
   "metadata": {},
   "outputs": [
    {
     "name": "stdout",
     "output_type": "stream",
     "text": [
      "{'muz', 'elma', 'gül', 'olivie'}\n"
     ]
    }
   ],
   "source": [
    "print(set_str)"
   ]
  },
  {
   "cell_type": "code",
   "execution_count": 4,
   "id": "4634676c",
   "metadata": {},
   "outputs": [
    {
     "name": "stdout",
     "output_type": "stream",
     "text": [
      "<class 'set'>\n"
     ]
    }
   ],
   "source": [
    "empty_set=set()\n",
    "print(type(empty_set))"
   ]
  },
  {
   "cell_type": "code",
   "execution_count": 7,
   "id": "f08745e1",
   "metadata": {},
   "outputs": [
    {
     "data": {
      "text/plain": [
       "{(4, 5, 6), 1, 'ege'}"
      ]
     },
     "execution_count": 7,
     "metadata": {},
     "output_type": "execute_result"
    }
   ],
   "source": [
    "mixed_set={1,\"ege\",True,(4,5,6)}\n",
    "mixed_set"
   ]
  },
  {
   "cell_type": "code",
   "execution_count": 8,
   "id": "10f80bae",
   "metadata": {},
   "outputs": [
    {
     "data": {
      "text/plain": [
       "{1, 3, 4, 5, 6, 7, 8, 'a'}"
      ]
     },
     "execution_count": 8,
     "metadata": {},
     "output_type": "execute_result"
    }
   ],
   "source": [
    "set_1={1,3,4,5,6,7,8,8,\"a\"}\n",
    "set_1\n",
    "#eliminate duplivate numbers"
   ]
  },
  {
   "cell_type": "code",
   "execution_count": 10,
   "id": "422fb534",
   "metadata": {},
   "outputs": [
    {
     "data": {
      "text/plain": [
       "{1, 11, 3, 4, 5, 6, 7, 8, 'a'}"
      ]
     },
     "execution_count": 10,
     "metadata": {},
     "output_type": "execute_result"
    }
   ],
   "source": [
    "set_1.add(11)\n",
    "set_1"
   ]
  },
  {
   "cell_type": "code",
   "execution_count": 17,
   "id": "e87f910d",
   "metadata": {},
   "outputs": [
    {
     "data": {
      "text/plain": [
       "{1, 11, 4, 5, 6, 7, 8, 'a'}"
      ]
     },
     "execution_count": 17,
     "metadata": {},
     "output_type": "execute_result"
    }
   ],
   "source": [
    "set_1.remove(3)"
   ]
  },
  {
   "cell_type": "code",
   "execution_count": 19,
   "id": "bd10a20c",
   "metadata": {},
   "outputs": [
    {
     "data": {
      "text/plain": [
       "{1, 4, 5, 6, 7, 8, 'a'}"
      ]
     },
     "execution_count": 19,
     "metadata": {},
     "output_type": "execute_result"
    }
   ],
   "source": [
    "set_1.discard(11)\n",
    "set_1"
   ]
  },
  {
   "cell_type": "code",
   "execution_count": null,
   "id": "0e0480a8",
   "metadata": {},
   "outputs": [],
   "source": [
    "set_1"
   ]
  }
 ],
 "metadata": {
  "kernelspec": {
   "display_name": "Python 3 (ipykernel)",
   "language": "python",
   "name": "python3"
  },
  "language_info": {
   "codemirror_mode": {
    "name": "ipython",
    "version": 3
   },
   "file_extension": ".py",
   "mimetype": "text/x-python",
   "name": "python",
   "nbconvert_exporter": "python",
   "pygments_lexer": "ipython3",
   "version": "3.9.12"
  }
 },
 "nbformat": 4,
 "nbformat_minor": 5
}
