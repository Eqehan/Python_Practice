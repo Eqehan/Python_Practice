{
 "cells": [
  {
   "cell_type": "code",
   "execution_count": 1,
   "id": "a65e34a2",
   "metadata": {},
   "outputs": [
    {
     "data": {
      "text/plain": [
       "('elma', 'muz', 'kiraz')"
      ]
     },
     "execution_count": 1,
     "metadata": {},
     "output_type": "execute_result"
    }
   ],
   "source": [
    "fruits=(\"elma\",\"muz\",\"kiraz\");fruits"
   ]
  },
  {
   "cell_type": "code",
   "execution_count": 2,
   "id": "a35b08b4",
   "metadata": {},
   "outputs": [
    {
     "name": "stdout",
     "output_type": "stream",
     "text": [
      "new= ('elma', 'muz', 'kiraz')\n"
     ]
    }
   ],
   "source": [
    "new_frt=fruits        #refer same memory\n",
    "print(\"new=\",new_frt)"
   ]
  },
  {
   "cell_type": "code",
   "execution_count": 3,
   "id": "27d3b97a",
   "metadata": {},
   "outputs": [],
   "source": [
    "import copy"
   ]
  },
  {
   "cell_type": "code",
   "execution_count": 4,
   "id": "c23477c5",
   "metadata": {},
   "outputs": [
    {
     "data": {
      "text/plain": [
       "('honda', 'suzuki', ['kawasaki', 'ducati'])"
      ]
     },
     "execution_count": 4,
     "metadata": {},
     "output_type": "execute_result"
    }
   ],
   "source": [
    "bikes=(\"honda\",\"suzuki\",[\"kawasaki\",\"ducati\"])\n",
    "bikes"
   ]
  },
  {
   "cell_type": "code",
   "execution_count": 5,
   "id": "b947505c",
   "metadata": {},
   "outputs": [
    {
     "name": "stdout",
     "output_type": "stream",
     "text": [
      "bikesss ('honda', 'suzuki', ['kawasaki', 'ducati'])\n"
     ]
    }
   ],
   "source": [
    "new_bikes=copy.copy(bikes)\n",
    "print(\"bikesss\", new_bikes)"
   ]
  },
  {
   "cell_type": "code",
   "execution_count": 6,
   "id": "27998460",
   "metadata": {},
   "outputs": [
    {
     "data": {
      "text/plain": [
       "'kawasaki'"
      ]
     },
     "execution_count": 6,
     "metadata": {},
     "output_type": "execute_result"
    }
   ],
   "source": [
    "new_bikes[2][0]"
   ]
  },
  {
   "cell_type": "code",
   "execution_count": 7,
   "id": "67f10c93",
   "metadata": {},
   "outputs": [
    {
     "name": "stdout",
     "output_type": "stream",
     "text": [
      "('honda', 'suzuki', ['kawasaki', 'dodge'])\n"
     ]
    }
   ],
   "source": [
    "new_bikes[2][1]=\"dodge\"     #shallow copy changed both\n",
    "print(bikes)"
   ]
  },
  {
   "cell_type": "code",
   "execution_count": 8,
   "id": "981debde",
   "metadata": {},
   "outputs": [
    {
     "name": "stdout",
     "output_type": "stream",
     "text": [
      "('honda', 'suzuki', ['kawasaki', 'dodge'])\n"
     ]
    }
   ],
   "source": [
    "new_bikes=copy.deepcopy(bikes)\n",
    "print(new_bikes)"
   ]
  },
  {
   "cell_type": "code",
   "execution_count": 10,
   "id": "bfd719dc",
   "metadata": {},
   "outputs": [
    {
     "name": "stdout",
     "output_type": "stream",
     "text": [
      "('honda', 'suzuki', ['kawasaki', 'dodge'])\n",
      "('honda', 'suzuki', ['kawasaki', 'harley'])\n"
     ]
    }
   ],
   "source": [
    "new_bikes[2][1]=\"harley\"   #deepcopy covers the original\n",
    "print(bikes)\n",
    "print(new_bikes)"
   ]
  },
  {
   "cell_type": "code",
   "execution_count": null,
   "id": "7df21972",
   "metadata": {},
   "outputs": [],
   "source": []
  }
 ],
 "metadata": {
  "kernelspec": {
   "display_name": "Python 3 (ipykernel)",
   "language": "python",
   "name": "python3"
  },
  "language_info": {
   "codemirror_mode": {
    "name": "ipython",
    "version": 3
   },
   "file_extension": ".py",
   "mimetype": "text/x-python",
   "name": "python",
   "nbconvert_exporter": "python",
   "pygments_lexer": "ipython3",
   "version": "3.9.12"
  }
 },
 "nbformat": 4,
 "nbformat_minor": 5
}
