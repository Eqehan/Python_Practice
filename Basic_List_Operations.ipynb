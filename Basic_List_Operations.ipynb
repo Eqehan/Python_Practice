{
 "cells": [
  {
   "cell_type": "code",
   "execution_count": 1,
   "id": "fc8cd84a",
   "metadata": {},
   "outputs": [
    {
     "data": {
      "text/plain": [
       "['toyota', 'fiat', 'honda', 'ford']"
      ]
     },
     "execution_count": 1,
     "metadata": {},
     "output_type": "execute_result"
    }
   ],
   "source": [
    "cars=[\"toyota\",\"fiat\",\"honda\",\"ford\"]\n",
    "cars"
   ]
  },
  {
   "cell_type": "code",
   "execution_count": 3,
   "id": "8164b992",
   "metadata": {},
   "outputs": [
    {
     "data": {
      "text/plain": [
       "['toyota', 'fiat', 'honda', 'ford', 'htundai', 'hyundai']"
      ]
     },
     "execution_count": 3,
     "metadata": {},
     "output_type": "execute_result"
    }
   ],
   "source": [
    "cars.append(\"hyundai\")\n",
    "cars"
   ]
  },
  {
   "cell_type": "code",
   "execution_count": 5,
   "id": "6e8d6191",
   "metadata": {},
   "outputs": [
    {
     "data": {
      "text/plain": [
       "['toyota', 'fiat', 'honda', 'ford', 'nissan', 'hyundai']"
      ]
     },
     "execution_count": 5,
     "metadata": {},
     "output_type": "execute_result"
    }
   ],
   "source": [
    "cars[4]=\"nissan\"\n",
    "cars"
   ]
  },
  {
   "cell_type": "code",
   "execution_count": 7,
   "id": "3139510c",
   "metadata": {},
   "outputs": [
    {
     "data": {
      "text/plain": [
       "['toyota', 'fiat', 'honda', 'ford', 'nissan', 'hyundai', 'subaru', 'subaru']"
      ]
     },
     "execution_count": 7,
     "metadata": {},
     "output_type": "execute_result"
    }
   ],
   "source": [
    "cars.insert(6,\"subaru\")\n",
    "cars"
   ]
  },
  {
   "cell_type": "code",
   "execution_count": 8,
   "id": "bcf07944",
   "metadata": {},
   "outputs": [
    {
     "data": {
      "text/plain": [
       "8"
      ]
     },
     "execution_count": 8,
     "metadata": {},
     "output_type": "execute_result"
    }
   ],
   "source": [
    "len(cars)"
   ]
  },
  {
   "cell_type": "code",
   "execution_count": 10,
   "id": "150c13f6",
   "metadata": {},
   "outputs": [
    {
     "data": {
      "text/plain": [
       "['toyota',\n",
       " 'fiat',\n",
       " 'honda',\n",
       " 'ford',\n",
       " 'nissan',\n",
       " 'hyundai',\n",
       " 'subaru',\n",
       " 'subaru',\n",
       " 'kia',\n",
       " 'chevrolet']"
      ]
     },
     "execution_count": 10,
     "metadata": {},
     "output_type": "execute_result"
    }
   ],
   "source": [
    "cars.extend([\"kia\",\"chevrolet\"])\n",
    "cars"
   ]
  },
  {
   "cell_type": "code",
   "execution_count": 12,
   "id": "ec5fe481",
   "metadata": {},
   "outputs": [
    {
     "name": "stdout",
     "output_type": "stream",
     "text": [
      "['toyota', 'fiat', 'honda', 'ford', 'nissan', 'hyundai', 'subaru', 'subaru', 'kia', 'chevrolet', 'camry', 'civic']\n"
     ]
    }
   ],
   "source": [
    "cars2=[\"camry\",\"civic\"]\n",
    "complete_cars=cars+cars2\n",
    "print(complete_cars)\n"
   ]
  },
  {
   "cell_type": "code",
   "execution_count": 13,
   "id": "e869fbb0",
   "metadata": {},
   "outputs": [
    {
     "data": {
      "text/plain": [
       "10"
      ]
     },
     "execution_count": 13,
     "metadata": {},
     "output_type": "execute_result"
    }
   ],
   "source": [
    "complete_cars.index(\"camry\")"
   ]
  },
  {
   "cell_type": "code",
   "execution_count": null,
   "id": "d684c980",
   "metadata": {},
   "outputs": [],
   "source": []
  }
 ],
 "metadata": {
  "kernelspec": {
   "display_name": "Python 3 (ipykernel)",
   "language": "python",
   "name": "python3"
  },
  "language_info": {
   "codemirror_mode": {
    "name": "ipython",
    "version": 3
   },
   "file_extension": ".py",
   "mimetype": "text/x-python",
   "name": "python",
   "nbconvert_exporter": "python",
   "pygments_lexer": "ipython3",
   "version": "3.9.12"
  }
 },
 "nbformat": 4,
 "nbformat_minor": 5
}
