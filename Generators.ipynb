{
 "cells": [
  {
   "cell_type": "code",
   "execution_count": null,
   "id": "1103e72a",
   "metadata": {},
   "outputs": [],
   "source": [
    "#Iterator= Any object that responds to the built-in next() function\n",
    "#Generator= A function that is simple way to create iterators over sequance"
   ]
  },
  {
   "cell_type": "code",
   "execution_count": 1,
   "id": "d5486c06",
   "metadata": {},
   "outputs": [],
   "source": [
    "def generator():\n",
    "    print(\"one\");yield 1\n",
    "    print(\"two\");yield 2\n",
    "    print(\"three\");yield 3\n",
    "    print(\"four\");yield 4\n",
    "#the function remember, where it stops lastly"
   ]
  },
  {
   "cell_type": "code",
   "execution_count": 4,
   "id": "7f2f07f7",
   "metadata": {},
   "outputs": [
    {
     "name": "stdout",
     "output_type": "stream",
     "text": [
      "one\n"
     ]
    },
    {
     "data": {
      "text/plain": [
       "1"
      ]
     },
     "execution_count": 4,
     "metadata": {},
     "output_type": "execute_result"
    }
   ],
   "source": [
    "g=generator()\n",
    "next(g)"
   ]
  },
  {
   "cell_type": "code",
   "execution_count": 5,
   "id": "f1f37f94",
   "metadata": {},
   "outputs": [
    {
     "name": "stdout",
     "output_type": "stream",
     "text": [
      "two\n"
     ]
    },
    {
     "data": {
      "text/plain": [
       "2"
      ]
     },
     "execution_count": 5,
     "metadata": {},
     "output_type": "execute_result"
    }
   ],
   "source": [
    "next(g)"
   ]
  },
  {
   "cell_type": "code",
   "execution_count": 8,
   "id": "a27c4afb",
   "metadata": {},
   "outputs": [],
   "source": [
    "def generate_even_numbers(limit):\n",
    "    for i in range(0,limit,2):\n",
    "        yield i"
   ]
  },
  {
   "cell_type": "code",
   "execution_count": 9,
   "id": "aea3eb1e",
   "metadata": {},
   "outputs": [],
   "source": [
    "g= generate_even_numbers(7)"
   ]
  },
  {
   "cell_type": "code",
   "execution_count": 10,
   "id": "996d5d50",
   "metadata": {},
   "outputs": [
    {
     "data": {
      "text/plain": [
       "0"
      ]
     },
     "execution_count": 10,
     "metadata": {},
     "output_type": "execute_result"
    }
   ],
   "source": [
    "next(g)"
   ]
  },
  {
   "cell_type": "code",
   "execution_count": 11,
   "id": "d9dab412",
   "metadata": {},
   "outputs": [],
   "source": [
    "l=list(g)"
   ]
  },
  {
   "cell_type": "code",
   "execution_count": 12,
   "id": "7da488bc",
   "metadata": {},
   "outputs": [
    {
     "name": "stdout",
     "output_type": "stream",
     "text": [
      "[2, 4, 6]\n"
     ]
    }
   ],
   "source": [
    "print(l)"
   ]
  },
  {
   "cell_type": "code",
   "execution_count": null,
   "id": "7e470bc5",
   "metadata": {},
   "outputs": [],
   "source": []
  }
 ],
 "metadata": {
  "kernelspec": {
   "display_name": "Python 3 (ipykernel)",
   "language": "python",
   "name": "python3"
  },
  "language_info": {
   "codemirror_mode": {
    "name": "ipython",
    "version": 3
   },
   "file_extension": ".py",
   "mimetype": "text/x-python",
   "name": "python",
   "nbconvert_exporter": "python",
   "pygments_lexer": "ipython3",
   "version": "3.9.12"
  }
 },
 "nbformat": 4,
 "nbformat_minor": 5
}
