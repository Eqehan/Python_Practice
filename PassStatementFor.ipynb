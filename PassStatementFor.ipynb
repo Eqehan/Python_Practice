{
 "cells": [
  {
   "cell_type": "code",
   "execution_count": 1,
   "id": "d7f043f8",
   "metadata": {
    "scrolled": true
   },
   "outputs": [
    {
     "name": "stdout",
     "output_type": "stream",
     "text": [
      "s\n",
      "t\n",
      "r\n",
      "i\n",
      "n\n",
      "g\n"
     ]
    }
   ],
   "source": [
    "for letter in \"string\":\n",
    "    if letter ==\"r\":\n",
    "        pass\n",
    "    print(letter)"
   ]
  },
  {
   "cell_type": "code",
   "execution_count": 3,
   "id": "f0dcaf66",
   "metadata": {},
   "outputs": [
    {
     "name": "stdout",
     "output_type": "stream",
     "text": [
      "current letter:  s\n",
      "current letter:  t\n",
      "this is pass block\n",
      "current letter:  i\n",
      "current letter:  n\n",
      "current letter:  g\n",
      "out of the loop\n"
     ]
    }
   ],
   "source": [
    "for letter in \"string\":\n",
    "    if letter ==\"r\":\n",
    "        pass\n",
    "        print(\"this is pass block\")\n",
    "    else:\n",
    "        print(\"current letter: \", letter)\n",
    "print(\"out of the loop\")"
   ]
  },
  {
   "cell_type": "code",
   "execution_count": 4,
   "id": "988364be",
   "metadata": {},
   "outputs": [
    {
     "name": "stdout",
     "output_type": "stream",
     "text": [
      "1\n",
      "3\n",
      "5\n",
      "7\n",
      "9\n"
     ]
    }
   ],
   "source": [
    "for i in range(10):\n",
    "    if (i%2==0):\n",
    "        pass\n",
    "    else:\n",
    "        print(i)"
   ]
  },
  {
   "cell_type": "code",
   "execution_count": 6,
   "id": "0f5a9edd",
   "metadata": {},
   "outputs": [
    {
     "name": "stdout",
     "output_type": "stream",
     "text": [
      "Input a string: egehan 1995\n",
      "Digits=  4\n",
      "Letters=  6\n"
     ]
    }
   ],
   "source": [
    "# Check how many letter or Digit at string\n",
    "my_str = input(\"Input a string: \")\n",
    "dgt=0; ltr=0\n",
    "for i in my_str:\n",
    "    if i.isdigit():\n",
    "        dgt=dgt+1\n",
    "    elif i.isalpha():\n",
    "        ltr=ltr+1\n",
    "    else:\n",
    "        pass\n",
    "print(\"Digits= \", dgt)\n",
    "print(\"Letters= \", ltr)"
   ]
  },
  {
   "cell_type": "code",
   "execution_count": null,
   "id": "82794285",
   "metadata": {},
   "outputs": [],
   "source": []
  }
 ],
 "metadata": {
  "kernelspec": {
   "display_name": "Python 3 (ipykernel)",
   "language": "python",
   "name": "python3"
  },
  "language_info": {
   "codemirror_mode": {
    "name": "ipython",
    "version": 3
   },
   "file_extension": ".py",
   "mimetype": "text/x-python",
   "name": "python",
   "nbconvert_exporter": "python",
   "pygments_lexer": "ipython3",
   "version": "3.9.12"
  }
 },
 "nbformat": 4,
 "nbformat_minor": 5
}
