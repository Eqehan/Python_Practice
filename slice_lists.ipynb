{
 "cells": [
  {
   "cell_type": "code",
   "execution_count": 7,
   "id": "7dc505e3",
   "metadata": {},
   "outputs": [
    {
     "data": {
      "text/plain": [
       "['honda', 'toyota', 'kia', 'fiat', 'ford', 'opel']"
      ]
     },
     "execution_count": 7,
     "metadata": {},
     "output_type": "execute_result"
    }
   ],
   "source": [
    "car_list=[\"honda\",\"toyota\",\"kia\",\"fiat\",\"ford\",\"opel\"];car_list"
   ]
  },
  {
   "cell_type": "code",
   "execution_count": 2,
   "id": "14a3cdd8",
   "metadata": {},
   "outputs": [
    {
     "data": {
      "text/plain": [
       "6"
      ]
     },
     "execution_count": 2,
     "metadata": {},
     "output_type": "execute_result"
    }
   ],
   "source": [
    "len(car_list)"
   ]
  },
  {
   "cell_type": "code",
   "execution_count": 3,
   "id": "248cdc9b",
   "metadata": {},
   "outputs": [
    {
     "data": {
      "text/plain": [
       "'fiat'"
      ]
     },
     "execution_count": 3,
     "metadata": {},
     "output_type": "execute_result"
    }
   ],
   "source": [
    "car_list[3]"
   ]
  },
  {
   "cell_type": "code",
   "execution_count": 4,
   "id": "68cad68f",
   "metadata": {},
   "outputs": [
    {
     "data": {
      "text/plain": [
       "'opel'"
      ]
     },
     "execution_count": 4,
     "metadata": {},
     "output_type": "execute_result"
    }
   ],
   "source": [
    "car_list[-1] #minus sents value from last"
   ]
  },
  {
   "cell_type": "code",
   "execution_count": 5,
   "id": "cba73f4f",
   "metadata": {},
   "outputs": [
    {
     "data": {
      "text/plain": [
       "['honda', 'toyota', 'kia']"
      ]
     },
     "execution_count": 5,
     "metadata": {},
     "output_type": "execute_result"
    }
   ],
   "source": [
    "car_list[0:3]"
   ]
  },
  {
   "cell_type": "code",
   "execution_count": 6,
   "id": "a23a7e2b",
   "metadata": {},
   "outputs": [
    {
     "data": {
      "text/plain": [
       "['honda', 'toyota', 'kia', 'fiat', 'ford', 'opel']"
      ]
     },
     "execution_count": 6,
     "metadata": {},
     "output_type": "execute_result"
    }
   ],
   "source": [
    "car_list[0:6]"
   ]
  },
  {
   "cell_type": "code",
   "execution_count": 9,
   "id": "2e7fcd32",
   "metadata": {},
   "outputs": [
    {
     "data": {
      "text/plain": [
       "['fiat', 'ford']"
      ]
     },
     "execution_count": 9,
     "metadata": {},
     "output_type": "execute_result"
    }
   ],
   "source": [
    "car_list[3:5] #values between 3 to 5"
   ]
  },
  {
   "cell_type": "code",
   "execution_count": 10,
   "id": "e80b43b6",
   "metadata": {},
   "outputs": [
    {
     "data": {
      "text/plain": [
       "['toyota', 'fiat', 'opel']"
      ]
     },
     "execution_count": 10,
     "metadata": {},
     "output_type": "execute_result"
    }
   ],
   "source": [
    "car_list[1:6:2] #step size"
   ]
  },
  {
   "cell_type": "code",
   "execution_count": 11,
   "id": "66859f72",
   "metadata": {},
   "outputs": [
    {
     "data": {
      "text/plain": [
       "['honda', 'kia', 'ford']"
      ]
     },
     "execution_count": 11,
     "metadata": {},
     "output_type": "execute_result"
    }
   ],
   "source": [
    "car_list[::2]"
   ]
  },
  {
   "cell_type": "code",
   "execution_count": 13,
   "id": "432067d9",
   "metadata": {},
   "outputs": [
    {
     "data": {
      "text/plain": [
       "['opel', 'ford', 'fiat', 'kia', 'toyota', 'honda']"
      ]
     },
     "execution_count": 13,
     "metadata": {},
     "output_type": "execute_result"
    }
   ],
   "source": [
    "car_list[::-1] #end to start"
   ]
  },
  {
   "cell_type": "code",
   "execution_count": 14,
   "id": "276ab6ac",
   "metadata": {},
   "outputs": [
    {
     "data": {
      "text/plain": [
       "['fiat', 'kia', 'toyota']"
      ]
     },
     "execution_count": 14,
     "metadata": {},
     "output_type": "execute_result"
    }
   ],
   "source": [
    "car_list[3:0:-1]"
   ]
  },
  {
   "cell_type": "code",
   "execution_count": 15,
   "id": "cc749374",
   "metadata": {},
   "outputs": [
    {
     "data": {
      "text/plain": [
       "['honda', 'toyota', 'kia', 'fiat', 'porsche', 'dodge', 'opel']"
      ]
     },
     "execution_count": 15,
     "metadata": {},
     "output_type": "execute_result"
    }
   ],
   "source": [
    "car_list[4:-1]=['porsche','dodge']; car_list"
   ]
  },
  {
   "cell_type": "code",
   "execution_count": 17,
   "id": "24a2cef2",
   "metadata": {},
   "outputs": [
    {
     "data": {
      "text/plain": [
       "True"
      ]
     },
     "execution_count": 17,
     "metadata": {},
     "output_type": "execute_result"
    }
   ],
   "source": [
    "\"toyota\" in car_list"
   ]
  },
  {
   "cell_type": "code",
   "execution_count": 18,
   "id": "5a5a755d",
   "metadata": {},
   "outputs": [
    {
     "data": {
      "text/plain": [
       "'opel'"
      ]
     },
     "execution_count": 18,
     "metadata": {},
     "output_type": "execute_result"
    }
   ],
   "source": [
    "car_list.pop(-1)"
   ]
  },
  {
   "cell_type": "code",
   "execution_count": null,
   "id": "7b460612",
   "metadata": {},
   "outputs": [],
   "source": []
  }
 ],
 "metadata": {
  "kernelspec": {
   "display_name": "Python 3 (ipykernel)",
   "language": "python",
   "name": "python3"
  },
  "language_info": {
   "codemirror_mode": {
    "name": "ipython",
    "version": 3
   },
   "file_extension": ".py",
   "mimetype": "text/x-python",
   "name": "python",
   "nbconvert_exporter": "python",
   "pygments_lexer": "ipython3",
   "version": "3.9.12"
  }
 },
 "nbformat": 4,
 "nbformat_minor": 5
}
