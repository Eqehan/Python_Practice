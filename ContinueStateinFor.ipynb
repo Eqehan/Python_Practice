{
 "cells": [
  {
   "cell_type": "code",
   "execution_count": 1,
   "id": "b1f05776",
   "metadata": {},
   "outputs": [
    {
     "name": "stdout",
     "output_type": "stream",
     "text": [
      "s\n",
      "t\n",
      "r\n",
      "n\n",
      "g\n",
      "the End...\n"
     ]
    }
   ],
   "source": [
    "for letter in \"string\":\n",
    "    if letter ==\"i\":\n",
    "        continue\n",
    "    print(letter)\n",
    "print(\"the End...\")"
   ]
  },
  {
   "cell_type": "code",
   "execution_count": 2,
   "id": "64f06477",
   "metadata": {},
   "outputs": [
    {
     "name": "stdout",
     "output_type": "stream",
     "text": [
      "t\n",
      "u\n",
      "d\n",
      "n\n",
      "t\n"
     ]
    }
   ],
   "source": [
    "my_str=\"students\"\n",
    "for letter in my_str:\n",
    "    if(letter==\"e\" or letter==\"s\"):\n",
    "        continue\n",
    "    else:\n",
    "        print(letter)"
   ]
  },
  {
   "cell_type": "code",
   "execution_count": 5,
   "id": "cb910e70",
   "metadata": {},
   "outputs": [
    {
     "name": "stdout",
     "output_type": "stream",
     "text": [
      "Is 2 even number \n",
      "yes\n",
      "Is 4 even number \n",
      "yes\n",
      "Is 6 even number \n",
      "yes\n",
      "Is 8 even number \n",
      "yes\n"
     ]
    }
   ],
   "source": [
    "#check for even or odd\n",
    "for i in range(1,10):\n",
    "    if i%2 ==0:\n",
    "        print(\"Is %i even number \" %i)\n",
    "    else:\n",
    "        continue\n",
    "    print(\"yes\")"
   ]
  },
  {
   "cell_type": "code",
   "execution_count": 6,
   "id": "d0e17558",
   "metadata": {},
   "outputs": [
    {
     "name": "stdout",
     "output_type": "stream",
     "text": [
      "nis month has  4 queue\n",
      "mys month has  5 queue\n"
     ]
    }
   ],
   "source": [
    "num=[1,2,3,4,5]\n",
    "mnt=[\"oca\",\"sub\",\"mar\",\"nis\",\"mys\"]\n",
    "new_dct=dict()\n",
    "\n",
    "for i,j in zip(mnt,num):\n",
    "    new_dct.update({i:j})\n",
    "            #zip to an dict and add to memory at eah loop\n",
    "    if new_dct[i] <4:\n",
    "        continue\n",
    "    else:\n",
    "        print(i,\"month has \", new_dct[i], \"queue\")"
   ]
  },
  {
   "cell_type": "code",
   "execution_count": null,
   "id": "16818478",
   "metadata": {},
   "outputs": [],
   "source": []
  }
 ],
 "metadata": {
  "kernelspec": {
   "display_name": "Python 3 (ipykernel)",
   "language": "python",
   "name": "python3"
  },
  "language_info": {
   "codemirror_mode": {
    "name": "ipython",
    "version": 3
   },
   "file_extension": ".py",
   "mimetype": "text/x-python",
   "name": "python",
   "nbconvert_exporter": "python",
   "pygments_lexer": "ipython3",
   "version": "3.9.12"
  }
 },
 "nbformat": 4,
 "nbformat_minor": 5
}
