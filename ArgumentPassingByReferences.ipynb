{
 "cells": [
  {
   "cell_type": "code",
   "execution_count": 1,
   "id": "e1e270b5",
   "metadata": {},
   "outputs": [],
   "source": [
    "#Global lists can change at inside of func.\n",
    "#Because just one memory location for lists(in and out)\n",
    "#You can also append another value to both inside the func\n",
    "\n",
    "fruits_list=[\"Muz\",\"Karpuz\",\"Çilek\"]"
   ]
  },
  {
   "cell_type": "code",
   "execution_count": 4,
   "id": "fde8cb85",
   "metadata": {},
   "outputs": [
    {
     "name": "stdout",
     "output_type": "stream",
     "text": [
      "Inside the function ['Kiwi', 'Karpuz', 'Çilek']\n",
      "\n",
      "Outside the function: ['Kiwi', 'Karpuz', 'Çilek']\n"
     ]
    }
   ],
   "source": [
    "def chng(fruits_list):\n",
    "    fruits_list[0]=\"Kiwi\"\n",
    "    print(\"Inside the function\", fruits_list)\n",
    "chng(fruits_list)\n",
    "print(\"\\nOutside the function:\", fruits_list)"
   ]
  },
  {
   "cell_type": "code",
   "execution_count": 5,
   "id": "37717cf0",
   "metadata": {},
   "outputs": [],
   "source": [
    "cars={\"camry\":120,\"accord\":110,\"cayenne\":250}"
   ]
  },
  {
   "cell_type": "code",
   "execution_count": null,
   "id": "ed656033",
   "metadata": {},
   "outputs": [],
   "source": [
    "#you can also change dictionaries values like lists\n"
   ]
  }
 ],
 "metadata": {
  "kernelspec": {
   "display_name": "Python 3 (ipykernel)",
   "language": "python",
   "name": "python3"
  },
  "language_info": {
   "codemirror_mode": {
    "name": "ipython",
    "version": 3
   },
   "file_extension": ".py",
   "mimetype": "text/x-python",
   "name": "python",
   "nbconvert_exporter": "python",
   "pygments_lexer": "ipython3",
   "version": "3.9.12"
  }
 },
 "nbformat": 4,
 "nbformat_minor": 5
}
