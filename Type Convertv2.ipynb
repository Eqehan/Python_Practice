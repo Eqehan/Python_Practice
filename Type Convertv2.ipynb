{
 "cells": [
  {
   "cell_type": "code",
   "execution_count": null,
   "id": "96fc908e",
   "metadata": {},
   "outputs": [],
   "source": [
    "#for calculating values, always convert to int or float\n",
    "#and use same type for all values"
   ]
  },
  {
   "cell_type": "code",
   "execution_count": 1,
   "id": "07c73fad",
   "metadata": {},
   "outputs": [
    {
     "data": {
      "text/plain": [
       "['p', 'y', 't', 'h', 'o', 'n', ' ', 'w', 'o', 'r', 'l', 'd']"
      ]
     },
     "execution_count": 1,
     "metadata": {},
     "output_type": "execute_result"
    }
   ],
   "source": [
    "value_str=\"python world\"\n",
    "value_list=list(value_str)\n",
    "value_list"
   ]
  },
  {
   "cell_type": "code",
   "execution_count": 2,
   "id": "c04c8119",
   "metadata": {},
   "outputs": [
    {
     "data": {
      "text/plain": [
       "tuple"
      ]
     },
     "execution_count": 2,
     "metadata": {},
     "output_type": "execute_result"
    }
   ],
   "source": [
    "value_tuple = tuple(value_str)\n",
    "type(value_tuple)"
   ]
  },
  {
   "cell_type": "code",
   "execution_count": 3,
   "id": "121d5931",
   "metadata": {},
   "outputs": [
    {
     "name": "stdout",
     "output_type": "stream",
     "text": [
      "['apple', 'orange', 'cherry']\n"
     ]
    }
   ],
   "source": [
    "my_list=[\"apple\",\"orange\",\"cherry\"]\n",
    "print(my_list)"
   ]
  },
  {
   "cell_type": "code",
   "execution_count": 4,
   "id": "d4cbddcb",
   "metadata": {},
   "outputs": [
    {
     "name": "stdout",
     "output_type": "stream",
     "text": [
      "('apple', 'orange', 'cherry')\n"
     ]
    }
   ],
   "source": [
    "my_tuple=tuple(my_list)\n",
    "print(my_tuple)"
   ]
  },
  {
   "cell_type": "code",
   "execution_count": 5,
   "id": "fdbbaa65",
   "metadata": {},
   "outputs": [
    {
     "name": "stdout",
     "output_type": "stream",
     "text": [
      "(['egehan', 50], ['ibo', 25])\n"
     ]
    },
    {
     "data": {
      "text/plain": [
       "('egehan', 50)"
      ]
     },
     "execution_count": 5,
     "metadata": {},
     "output_type": "execute_result"
    }
   ],
   "source": [
    "#if convert nested lists tuple, you must index for inner list\n",
    "ages=[[\"egehan\",50],[\"ibo\",25]]\n",
    "age_tuple=tuple(ages)\n",
    "print(age_tuple)\n",
    "age_tuple=tuple(ages[0])\n",
    "age_tuple"
   ]
  },
  {
   "cell_type": "code",
   "execution_count": 6,
   "id": "7d103b0e",
   "metadata": {},
   "outputs": [
    {
     "data": {
      "text/plain": [
       "{'egehan': 50, 'nesat': 30}"
      ]
     },
     "execution_count": 6,
     "metadata": {},
     "output_type": "execute_result"
    }
   ],
   "source": [
    "#converting from tuple to dict, \n",
    "#you must use \"()\" for each element\n",
    "age_tup=((\"egehan\",50),(\"nesat\",30))\n",
    "dict(age_tup)"
   ]
  },
  {
   "cell_type": "code",
   "execution_count": 7,
   "id": "53625fb5",
   "metadata": {},
   "outputs": [
    {
     "data": {
      "text/plain": [
       "{'egehan': 50, 'ibo': 25}"
      ]
     },
     "execution_count": 7,
     "metadata": {},
     "output_type": "execute_result"
    }
   ],
   "source": [
    "age_dict=dict(ages)\n",
    "age_dict"
   ]
  },
  {
   "cell_type": "code",
   "execution_count": null,
   "id": "552314e6",
   "metadata": {},
   "outputs": [],
   "source": []
  }
 ],
 "metadata": {
  "kernelspec": {
   "display_name": "Python 3 (ipykernel)",
   "language": "python",
   "name": "python3"
  },
  "language_info": {
   "codemirror_mode": {
    "name": "ipython",
    "version": 3
   },
   "file_extension": ".py",
   "mimetype": "text/x-python",
   "name": "python",
   "nbconvert_exporter": "python",
   "pygments_lexer": "ipython3",
   "version": "3.9.12"
  }
 },
 "nbformat": 4,
 "nbformat_minor": 5
}
