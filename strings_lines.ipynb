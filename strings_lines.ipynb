{
 "cells": [
  {
   "cell_type": "code",
   "execution_count": 1,
   "id": "811dcace",
   "metadata": {},
   "outputs": [
    {
     "name": "stdout",
     "output_type": "stream",
     "text": [
      "single line string\n"
     ]
    }
   ],
   "source": [
    "print(\"single line string\")"
   ]
  },
  {
   "cell_type": "code",
   "execution_count": 2,
   "id": "2850595c",
   "metadata": {},
   "outputs": [
    {
     "name": "stdout",
     "output_type": "stream",
     "text": [
      "multiple line string\n"
     ]
    }
   ],
   "source": [
    "print(\"multiple line string\")"
   ]
  },
  {
   "cell_type": "code",
   "execution_count": 6,
   "id": "ae8a16d3",
   "metadata": {},
   "outputs": [
    {
     "name": "stdout",
     "output_type": "stream",
     "text": [
      "python is awesome\n"
     ]
    }
   ],
   "source": [
    "print(\"python \"+\"is \"+\"awesome\")"
   ]
  },
  {
   "cell_type": "code",
   "execution_count": 5,
   "id": "4c5fd981",
   "metadata": {},
   "outputs": [
    {
     "name": "stdout",
     "output_type": "stream",
     "text": [
      "python python python \n"
     ]
    }
   ],
   "source": [
    "print (\"python \"*3)"
   ]
  },
  {
   "cell_type": "code",
   "execution_count": 7,
   "id": "6f054d88",
   "metadata": {},
   "outputs": [
    {
     "name": "stdout",
     "output_type": "stream",
     "text": [
      "hamburger\n",
      "your fav meal is hamburger\n"
     ]
    }
   ],
   "source": [
    "question= \"what is your favourite meal?\"\n",
    "answer = input()\n",
    "print(\"your fav meal is\", answer)"
   ]
  },
  {
   "cell_type": "code",
   "execution_count": 8,
   "id": "4b7407d7",
   "metadata": {},
   "outputs": [
    {
     "name": "stdout",
     "output_type": "stream",
     "text": [
      " i'm learning pyhton, use double quotes in this situation\n"
     ]
    }
   ],
   "source": [
    "print(\" i'm learning pyhton, use double quotes in this situation\")"
   ]
  },
  {
   "cell_type": "code",
   "execution_count": 9,
   "id": "029d70fa",
   "metadata": {},
   "outputs": [
    {
     "name": "stdout",
     "output_type": "stream",
     "text": [
      "if sentence contain \"double quotes\", than use single quoutes\n"
     ]
    }
   ],
   "source": [
    "print('if sentence contain \"double quotes\", than use single quoutes')"
   ]
  },
  {
   "cell_type": "code",
   "execution_count": 10,
   "id": "d196ee8f",
   "metadata": {},
   "outputs": [
    {
     "name": "stdout",
     "output_type": "stream",
     "text": [
      " if sentence contains single quote, you'll use backslash\n"
     ]
    }
   ],
   "source": [
    "print(' if sentence contains single quote, you\\'ll use backslash')"
   ]
  },
  {
   "cell_type": "code",
   "execution_count": 12,
   "id": "19f886cb",
   "metadata": {},
   "outputs": [
    {
     "name": "stdout",
     "output_type": "stream",
     "text": [
      "egehan sayan \n",
      "ericsson\n"
     ]
    }
   ],
   "source": [
    "print(\"egehan sayan \\nericsson\")"
   ]
  },
  {
   "cell_type": "code",
   "execution_count": 13,
   "id": "34a5ca2e",
   "metadata": {},
   "outputs": [
    {
     "name": "stdout",
     "output_type": "stream",
     "text": [
      "egehan sayan\n",
      "ericsson\n"
     ]
    }
   ],
   "source": [
    "print(\"\"\"egehan sayan\n",
    "ericsson\"\"\")"
   ]
  },
  {
   "cell_type": "code",
   "execution_count": 16,
   "id": "bd9d894b",
   "metadata": {},
   "outputs": [
    {
     "name": "stdout",
     "output_type": "stream",
     "text": [
      "dogs barks !\n"
     ]
    }
   ],
   "source": [
    "my_var =\"barks\"\n",
    "print(\"dogs \"+ my_var+\" !\")"
   ]
  },
  {
   "cell_type": "code",
   "execution_count": 18,
   "id": "d23b0003",
   "metadata": {},
   "outputs": [
    {
     "name": "stdout",
     "output_type": "stream",
     "text": [
      " *IMPORTANT* dogs are barks !\n"
     ]
    }
   ],
   "source": [
    "print(f' *IMPORTANT* dogs are {my_var} !')"
   ]
  },
  {
   "cell_type": "code",
   "execution_count": 22,
   "id": "8cf2195c",
   "metadata": {},
   "outputs": [
    {
     "name": "stdout",
     "output_type": "stream",
     "text": [
      "a dog barks\n"
     ]
    }
   ],
   "source": [
    "print(\"a dog {}\" .format(my_var))"
   ]
  },
  {
   "cell_type": "code",
   "execution_count": 23,
   "id": "bac34a23",
   "metadata": {},
   "outputs": [
    {
     "name": "stdout",
     "output_type": "stream",
     "text": [
      "egehan sayan \t ericsson\n"
     ]
    }
   ],
   "source": [
    "print(\"egehan sayan \\t ericsson\")"
   ]
  },
  {
   "cell_type": "code",
   "execution_count": null,
   "id": "5a33656f",
   "metadata": {},
   "outputs": [],
   "source": []
  }
 ],
 "metadata": {
  "kernelspec": {
   "display_name": "Python 3 (ipykernel)",
   "language": "python",
   "name": "python3"
  },
  "language_info": {
   "codemirror_mode": {
    "name": "ipython",
    "version": 3
   },
   "file_extension": ".py",
   "mimetype": "text/x-python",
   "name": "python",
   "nbconvert_exporter": "python",
   "pygments_lexer": "ipython3",
   "version": "3.9.12"
  }
 },
 "nbformat": 4,
 "nbformat_minor": 5
}
