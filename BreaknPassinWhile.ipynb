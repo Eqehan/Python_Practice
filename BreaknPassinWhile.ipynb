{
 "cells": [
  {
   "cell_type": "code",
   "execution_count": 1,
   "id": "0fac350b",
   "metadata": {},
   "outputs": [
    {
     "name": "stdout",
     "output_type": "stream",
     "text": [
      "20\n"
     ]
    }
   ],
   "source": [
    "#it will terminate all loop \n",
    "num=20\n",
    "while num<25:\n",
    "    print(num)\n",
    "    break"
   ]
  },
  {
   "cell_type": "code",
   "execution_count": 2,
   "id": "a22c28e2",
   "metadata": {},
   "outputs": [
    {
     "name": "stdout",
     "output_type": "stream",
     "text": [
      "10\n",
      "20\n",
      "30\n",
      "40\n",
      "50\n",
      "out of the loop\n"
     ]
    }
   ],
   "source": [
    "num =10\n",
    "while num in range(10,100):\n",
    "    print(num)\n",
    "    if num==50:\n",
    "        break\n",
    "    num=num+10\n",
    "print(\"out of the loop\")"
   ]
  },
  {
   "cell_type": "code",
   "execution_count": 3,
   "id": "5320b4ba",
   "metadata": {},
   "outputs": [
    {
     "name": "stdout",
     "output_type": "stream",
     "text": [
      "Enter a number:88\n",
      "Enter a number:69\n",
      "We are out of loop 69\n"
     ]
    }
   ],
   "source": [
    "#run and get data from input until break \n",
    "num =10\n",
    "while True:\n",
    "    num=int(input(\"Enter a number:\"))\n",
    "    if num%3==0:\n",
    "        break\n",
    "print(\"We are out of loop\", num)"
   ]
  },
  {
   "cell_type": "code",
   "execution_count": 4,
   "id": "2d4461b2",
   "metadata": {},
   "outputs": [
    {
     "name": "stdout",
     "output_type": "stream",
     "text": [
      "N\n",
      "e\n",
      "w\n",
      " \n",
      "Y\n",
      "o\n",
      "r\n",
      "k\n",
      " \n"
     ]
    }
   ],
   "source": [
    "place=\"New York City\"\n",
    "place_len=len(place)\n",
    "index=0\n",
    "while index in range(place_len):\n",
    "    print(place[index])\n",
    "    index+=1\n",
    "    if place[index]==\"C\":\n",
    "        break"
   ]
  },
  {
   "cell_type": "code",
   "execution_count": 7,
   "id": "b0f27414",
   "metadata": {},
   "outputs": [
    {
     "name": "stdout",
     "output_type": "stream",
     "text": [
      "Enter an integer: 9\n",
      "Prime numbers up to 9\n",
      "2\n",
      "3\n",
      "5\n",
      "7\n"
     ]
    }
   ],
   "source": [
    "# Calculate the Prime Numbers\n",
    "max_num=int(input(\"Enter an integer: \"))\n",
    "num=2\n",
    "print(\"Prime numbers up to %i\" %max_num)\n",
    "while num < max_num+1:\n",
    "    isPrime=True\n",
    "    count=2\n",
    "    while count<num:\n",
    "        if num %count==0:\n",
    "            isPrime=False\n",
    "            break\n",
    "        count+=1\n",
    "    if isPrime:\n",
    "        print(num)\n",
    "    num+=1"
   ]
  },
  {
   "cell_type": "code",
   "execution_count": 8,
   "id": "affcf361",
   "metadata": {},
   "outputs": [
    {
     "name": "stdout",
     "output_type": "stream",
     "text": [
      "Current value is:  10\n",
      "Current value is:  9\n",
      "Current value is:  8\n",
      "Current value is:  7\n",
      "Current value is:  6\n",
      "Current value is:  5\n",
      "This is a pass block\n",
      "Current value is:  4\n",
      "Current value is:  3\n",
      "Current value is:  2\n",
      "Current value is:  1\n",
      "Good Bye!\n"
     ]
    }
   ],
   "source": [
    "num_value=10\n",
    "while num_value>0:\n",
    "    print(\"Current value is: \",num_value)\n",
    "    if num_value==5:\n",
    "        pass\n",
    "        print(\"This is a pass block\")\n",
    "    num_value-=1\n",
    "print(\"Good Bye!\")"
   ]
  },
  {
   "cell_type": "code",
   "execution_count": 9,
   "id": "370f53f5",
   "metadata": {},
   "outputs": [
    {
     "name": "stdout",
     "output_type": "stream",
     "text": [
      "Enter a number: 10\n",
      "Current Value is:  10\n",
      "Current Value is:  9\n",
      "Current Value is:  8\n",
      "Current Value is:  4\n",
      "Current Value is:  3\n",
      "Current Value is:  2\n",
      "Current Value is:  1\n",
      "Good Bye!\n"
     ]
    }
   ],
   "source": [
    "# PASS keyword in execution\n",
    "num_val=int(input(\"Enter a number: \"))\n",
    "while num_val>0:\n",
    "    if num_val <8 and num_val >4:\n",
    "        pass\n",
    "    else:\n",
    "        print(\"Current Value is: \", num_val)\n",
    "    num_val-=1\n",
    "else:\n",
    "    print(\"Good Bye!\")"
   ]
  },
  {
   "cell_type": "code",
   "execution_count": null,
   "id": "76353a8c",
   "metadata": {},
   "outputs": [],
   "source": []
  }
 ],
 "metadata": {
  "kernelspec": {
   "display_name": "Python 3 (ipykernel)",
   "language": "python",
   "name": "python3"
  },
  "language_info": {
   "codemirror_mode": {
    "name": "ipython",
    "version": 3
   },
   "file_extension": ".py",
   "mimetype": "text/x-python",
   "name": "python",
   "nbconvert_exporter": "python",
   "pygments_lexer": "ipython3",
   "version": "3.9.12"
  }
 },
 "nbformat": 4,
 "nbformat_minor": 5
}
