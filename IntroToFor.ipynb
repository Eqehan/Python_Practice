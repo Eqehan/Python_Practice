{
 "cells": [
  {
   "cell_type": "code",
   "execution_count": 1,
   "id": "f76489d5",
   "metadata": {},
   "outputs": [
    {
     "name": "stdout",
     "output_type": "stream",
     "text": [
      "h\n",
      "e\n",
      "l\n",
      "l\n",
      "o\n"
     ]
    }
   ],
   "source": [
    "for letter in [\"h\",\"e\",\"l\",\"l\",\"o\"]:\n",
    "    print(letter)"
   ]
  },
  {
   "cell_type": "code",
   "execution_count": 2,
   "id": "be1179f8",
   "metadata": {},
   "outputs": [
    {
     "name": "stdout",
     "output_type": "stream",
     "text": [
      "H\n",
      "E\n",
      "L\n",
      "L\n",
      "O\n"
     ]
    }
   ],
   "source": [
    "#python understand your sentence as a list array\n",
    "for letter in \"HELLO\":\n",
    "    print(letter)"
   ]
  },
  {
   "cell_type": "code",
   "execution_count": 3,
   "id": "0ef714b1",
   "metadata": {},
   "outputs": [
    {
     "name": "stdout",
     "output_type": "stream",
     "text": [
      "h\n",
      "e\n",
      "l\n",
      "l\n",
      "o\n",
      " \n",
      "w\n",
      "o\n",
      "r\n",
      "l\n",
      "d\n",
      "!\n"
     ]
    }
   ],
   "source": [
    "my_str=\"hello world!\"\n",
    "for char in my_str:\n",
    "    print(char)"
   ]
  },
  {
   "cell_type": "code",
   "execution_count": 4,
   "id": "1924f301",
   "metadata": {},
   "outputs": [
    {
     "name": "stdout",
     "output_type": "stream",
     "text": [
      "ger\n",
      "tr\n",
      "nl\n"
     ]
    }
   ],
   "source": [
    "for country in \"ger\",\"tr\",\"nl\":\n",
    "    print(country)"
   ]
  },
  {
   "cell_type": "code",
   "execution_count": 6,
   "id": "9f4df40b",
   "metadata": {},
   "outputs": [
    {
     "name": "stdout",
     "output_type": "stream",
     "text": [
      "its a  pug\n",
      "its a  doberman\n",
      "its a  ret\n"
     ]
    }
   ],
   "source": [
    "dogs=(\"pug\",\"doberman\",\"ret\")\n",
    "for dog in dogs:\n",
    "    print(\"its a \", dog)"
   ]
  },
  {
   "cell_type": "code",
   "execution_count": 8,
   "id": "f7651927",
   "metadata": {},
   "outputs": [
    {
     "name": "stdout",
     "output_type": "stream",
     "text": [
      "the dog at index 0 is a pug and it is 20\n",
      "the dog at index 1 is a doberman and it is 35\n",
      "the dog at index 2 is a ret and it is 50\n"
     ]
    }
   ],
   "source": [
    "dog_w=((\"pug\",20),\n",
    "      (\"doberman\",35),\n",
    "      (\"ret\",50))\n",
    "for i,(dog,w) in enumerate(dog_w):\n",
    "    print(\"the dog at index %d is a %s and it is %s\" %(i, dog, w))"
   ]
  },
  {
   "cell_type": "code",
   "execution_count": 11,
   "id": "2c281f04",
   "metadata": {},
   "outputs": [
    {
     "name": "stdout",
     "output_type": "stream",
     "text": [
      "pug\n",
      "doberman\n",
      "ret\n"
     ]
    }
   ],
   "source": [
    "std_w={\"pug\":20,\n",
    "      \"doberman\":35,\n",
    "      \"ret\":50}\n",
    "for std in std_w:\n",
    "    print(std)"
   ]
  },
  {
   "cell_type": "code",
   "execution_count": 12,
   "id": "3057b933",
   "metadata": {
    "scrolled": true
   },
   "outputs": [
    {
     "name": "stdout",
     "output_type": "stream",
     "text": [
      "20\n",
      "35\n",
      "50\n"
     ]
    }
   ],
   "source": [
    "for score in std_w.values():\n",
    "    print(score)"
   ]
  },
  {
   "cell_type": "code",
   "execution_count": 14,
   "id": "9ab0ddbc",
   "metadata": {
    "scrolled": true
   },
   "outputs": [
    {
     "name": "stdout",
     "output_type": "stream",
     "text": [
      "key  pug : 20\n",
      "key  doberman : 35\n",
      "key  ret : 50\n"
     ]
    }
   ],
   "source": [
    "for key in std_w:\n",
    "    print(\"key \",key,\":\",std_w[key])"
   ]
  },
  {
   "cell_type": "code",
   "execution_count": 15,
   "id": "3b1c387a",
   "metadata": {
    "scrolled": true
   },
   "outputs": [
    {
     "name": "stdout",
     "output_type": "stream",
     "text": [
      "student:  pug : \t score:  20\n",
      "student:  doberman : \t score:  35\n",
      "student:  ret : \t score:  50\n"
     ]
    }
   ],
   "source": [
    "for student,score in std_w.items():\n",
    "    print(\"student: \",student,\": \\t score: \",score)"
   ]
  },
  {
   "cell_type": "code",
   "execution_count": 1,
   "id": "7a9f14b8",
   "metadata": {},
   "outputs": [
    {
     "name": "stdout",
     "output_type": "stream",
     "text": [
      "square of 2 is 4\n",
      "square of 4 is 16\n",
      "square of 6 is 36\n",
      "square of 8 is 64\n",
      "square of 0 is 0\n"
     ]
    }
   ],
   "source": [
    "num= [2,4,6,8,0]\n",
    "sq=0\n",
    "for val in num:\n",
    "    sq=val**2\n",
    "    print(\"square of\",val,\"is\",sq)"
   ]
  },
  {
   "cell_type": "code",
   "execution_count": 2,
   "id": "074b2cf7",
   "metadata": {},
   "outputs": [
    {
     "name": "stdout",
     "output_type": "stream",
     "text": [
      "enteregehansayan\n",
      "11\n"
     ]
    }
   ],
   "source": [
    "string=input(\"enter\")\n",
    "cnt=0\n",
    "for i in string:\n",
    "    cnt = cnt+1\n",
    "print(cnt)"
   ]
  },
  {
   "cell_type": "code",
   "execution_count": 3,
   "id": "e0d66c3c",
   "metadata": {},
   "outputs": [
    {
     "name": "stdout",
     "output_type": "stream",
     "text": [
      "nuber dividable to 3 [2, 4, 6, 8, 0]\n",
      "nuber dividable to 3 [2, 4, 6, 8, 0]\n"
     ]
    }
   ],
   "source": [
    "num= [2,4,6,8,0]\n",
    "for nm in num:\n",
    "    if nm%3==0:\n",
    "        print(\"nuber dividable to 3\", num)"
   ]
  },
  {
   "cell_type": "code",
   "execution_count": 5,
   "id": "023aac38",
   "metadata": {},
   "outputs": [
    {
     "name": "stdout",
     "output_type": "stream",
     "text": [
      "2000  leap year\n",
      "1994  not leap year\n",
      "1996  leap year\n",
      "1998  not leap year\n",
      "1990  not leap year\n"
     ]
    }
   ],
   "source": [
    "num= [2000,1994,1996,1998,1990]\n",
    "for year in num:\n",
    "    if year % 4 ==0:\n",
    "        print(year, \" leap year\")\n",
    "    else:\n",
    "        print(year, \" not leap year\")"
   ]
  },
  {
   "cell_type": "code",
   "execution_count": 6,
   "id": "bb963831",
   "metadata": {},
   "outputs": [
    {
     "name": "stdout",
     "output_type": "stream",
     "text": [
      "red pen\n",
      "red marker\n",
      "red pc\n",
      "orange pen\n",
      "orange marker\n",
      "orange pc\n",
      "blue pen\n",
      "blue marker\n",
      "blue pc\n"
     ]
    }
   ],
   "source": [
    "colors=[\"red\",\"orange\",\"blue\"]\n",
    "objects=[\"pen\",\"marker\",\"pc\"]\n",
    "for color in colors:\n",
    "    for obj in objects:\n",
    "        print(color, obj)"
   ]
  },
  {
   "cell_type": "code",
   "execution_count": null,
   "id": "a524067b",
   "metadata": {},
   "outputs": [],
   "source": []
  }
 ],
 "metadata": {
  "kernelspec": {
   "display_name": "Python 3 (ipykernel)",
   "language": "python",
   "name": "python3"
  },
  "language_info": {
   "codemirror_mode": {
    "name": "ipython",
    "version": 3
   },
   "file_extension": ".py",
   "mimetype": "text/x-python",
   "name": "python",
   "nbconvert_exporter": "python",
   "pygments_lexer": "ipython3",
   "version": "3.9.12"
  }
 },
 "nbformat": 4,
 "nbformat_minor": 5
}
