{
 "cells": [
  {
   "cell_type": "code",
   "execution_count": 1,
   "id": "7bbe7b8f",
   "metadata": {},
   "outputs": [],
   "source": [
    "# Global Variables\n",
    "country=\"USA\"\n",
    "city=\"Seattle\""
   ]
  },
  {
   "cell_type": "code",
   "execution_count": 2,
   "id": "6e41e3ae",
   "metadata": {},
   "outputs": [],
   "source": [
    "def some_fn():\n",
    "    print(\"Country: \",country)\n",
    "    print(\"City: \",city)\n",
    "# global values defined at another section"
   ]
  },
  {
   "cell_type": "code",
   "execution_count": 3,
   "id": "9cc37891",
   "metadata": {},
   "outputs": [
    {
     "name": "stdout",
     "output_type": "stream",
     "text": [
      "Country:  USA\n",
      "City:  Seattle\n"
     ]
    }
   ],
   "source": [
    "some_fn()"
   ]
  },
  {
   "cell_type": "code",
   "execution_count": 4,
   "id": "6a7d7b86",
   "metadata": {},
   "outputs": [
    {
     "name": "stdout",
     "output_type": "stream",
     "text": [
      "Country:  Turkey\n",
      "City:  Bursa\n"
     ]
    }
   ],
   "source": [
    "# Local Variables\n",
    "def some_fn():\n",
    "    country=\"Turkey\"\n",
    "    city=\"Bursa\"\n",
    "    print(\"Country: \",country)\n",
    "    print(\"City: \",city)\n",
    "some_fn()"
   ]
  },
  {
   "cell_type": "code",
   "execution_count": 5,
   "id": "e5967d05",
   "metadata": {},
   "outputs": [
    {
     "data": {
      "text/plain": [
       "('USA', 'Seattle')"
      ]
     },
     "execution_count": 5,
     "metadata": {},
     "output_type": "execute_result"
    }
   ],
   "source": [
    "country, city #outside of func, globals is working"
   ]
  },
  {
   "cell_type": "code",
   "execution_count": 6,
   "id": "f8ac2504",
   "metadata": {},
   "outputs": [
    {
     "name": "stdout",
     "output_type": "stream",
     "text": [
      "Country:  Germany\n",
      "City:  Bonn\n"
     ]
    }
   ],
   "source": [
    "def some_fn(country, city):\n",
    "    print(\"Country: \",country)\n",
    "    print(\"City: \",city)\n",
    "some_fn(\"Germany\",\"Bonn\")\n",
    "# Act like local variable"
   ]
  },
  {
   "cell_type": "code",
   "execution_count": 8,
   "id": "09dafdaf",
   "metadata": {},
   "outputs": [
    {
     "name": "stdout",
     "output_type": "stream",
     "text": [
      "Country:  USA\n",
      "City:  Seattle-Bursa-Bursa\n"
     ]
    }
   ],
   "source": [
    "# If want to change Global Variable, you must declare as global at func\n",
    "def some_fn():\n",
    "    global city\n",
    "    city = city + \"-Bursa\"\n",
    "    print(\"Country: \",country)\n",
    "    print(\"City: \",city)\n",
    "some_fn()"
   ]
  },
  {
   "cell_type": "code",
   "execution_count": null,
   "id": "375f9dbc",
   "metadata": {},
   "outputs": [],
   "source": []
  },
  {
   "cell_type": "code",
   "execution_count": null,
   "id": "4f954588",
   "metadata": {},
   "outputs": [],
   "source": []
  },
  {
   "cell_type": "code",
   "execution_count": null,
   "id": "ceecb992",
   "metadata": {},
   "outputs": [],
   "source": []
  }
 ],
 "metadata": {
  "kernelspec": {
   "display_name": "Python 3 (ipykernel)",
   "language": "python",
   "name": "python3"
  },
  "language_info": {
   "codemirror_mode": {
    "name": "ipython",
    "version": 3
   },
   "file_extension": ".py",
   "mimetype": "text/x-python",
   "name": "python",
   "nbconvert_exporter": "python",
   "pygments_lexer": "ipython3",
   "version": "3.9.12"
  }
 },
 "nbformat": 4,
 "nbformat_minor": 5
}
