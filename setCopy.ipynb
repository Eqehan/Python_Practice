{
 "cells": [
  {
   "cell_type": "code",
   "execution_count": 1,
   "id": "d0ccbb4d",
   "metadata": {},
   "outputs": [
    {
     "name": "stdout",
     "output_type": "stream",
     "text": [
      "original {'sql', 'c++', 'php', 'python'}\n",
      "modified {'sql', 'c++', 'php', 'python'}\n"
     ]
    }
   ],
   "source": [
    "set_1={\"c++\",\"php\",\"python\"}\n",
    "set_2=set_1         #refer same memory\n",
    "set_2.add(\"sql\")\n",
    "print(\"original\", set_1)\n",
    "print(\"modified\", set_2)"
   ]
  },
  {
   "cell_type": "code",
   "execution_count": 2,
   "id": "2ffc4be1",
   "metadata": {},
   "outputs": [
    {
     "data": {
      "text/plain": [
       "'sql'"
      ]
     },
     "execution_count": 2,
     "metadata": {},
     "output_type": "execute_result"
    }
   ],
   "source": [
    "set_2.pop()"
   ]
  },
  {
   "cell_type": "code",
   "execution_count": null,
   "id": "48c94f84",
   "metadata": {},
   "outputs": [],
   "source": [
    "set_2[2]    # will not shown, SETs is not indexed "
   ]
  },
  {
   "cell_type": "code",
   "execution_count": 3,
   "id": "5a598535",
   "metadata": {},
   "outputs": [],
   "source": [
    "#SETs can not contain nested lists"
   ]
  },
  {
   "cell_type": "code",
   "execution_count": 4,
   "id": "c2b8957b",
   "metadata": {},
   "outputs": [],
   "source": [
    "import copy"
   ]
  },
  {
   "cell_type": "code",
   "execution_count": null,
   "id": "d4fd1d59",
   "metadata": {},
   "outputs": [],
   "source": []
  }
 ],
 "metadata": {
  "kernelspec": {
   "display_name": "Python 3 (ipykernel)",
   "language": "python",
   "name": "python3"
  },
  "language_info": {
   "codemirror_mode": {
    "name": "ipython",
    "version": 3
   },
   "file_extension": ".py",
   "mimetype": "text/x-python",
   "name": "python",
   "nbconvert_exporter": "python",
   "pygments_lexer": "ipython3",
   "version": "3.9.12"
  }
 },
 "nbformat": 4,
 "nbformat_minor": 5
}
