{
 "cells": [
  {
   "cell_type": "code",
   "execution_count": 1,
   "id": "b04b4493",
   "metadata": {},
   "outputs": [],
   "source": [
    "cars=[\"hyundai\",\"toyota\",\"kia\",\"honda\"]"
   ]
  },
  {
   "cell_type": "code",
   "execution_count": 3,
   "id": "43a37cae",
   "metadata": {},
   "outputs": [
    {
     "data": {
      "text/plain": [
       "['hyundai', 'toyota', 'kia', 'honda', 'ford', 'fiat', 'ford', 'fiat']"
      ]
     },
     "execution_count": 3,
     "metadata": {},
     "output_type": "execute_result"
    }
   ],
   "source": [
    "cars+=[\"ford\",\"fiat\"]\n",
    "cars"
   ]
  },
  {
   "cell_type": "code",
   "execution_count": 4,
   "id": "7941a167",
   "metadata": {},
   "outputs": [
    {
     "data": {
      "text/plain": [
       "['fiat', 'fiat', 'ford', 'ford', 'honda', 'hyundai', 'kia', 'toyota']"
      ]
     },
     "execution_count": 4,
     "metadata": {},
     "output_type": "execute_result"
    }
   ],
   "source": [
    "cars.sort()\n",
    "cars"
   ]
  },
  {
   "cell_type": "code",
   "execution_count": 5,
   "id": "e143f5ee",
   "metadata": {},
   "outputs": [
    {
     "data": {
      "text/plain": [
       "['toyota', 'kia', 'hyundai', 'honda', 'ford', 'ford', 'fiat', 'fiat']"
      ]
     },
     "execution_count": 5,
     "metadata": {},
     "output_type": "execute_result"
    }
   ],
   "source": [
    "cars.reverse()\n",
    "cars"
   ]
  },
  {
   "cell_type": "code",
   "execution_count": 6,
   "id": "91a5d05f",
   "metadata": {},
   "outputs": [
    {
     "data": {
      "text/plain": [
       "['toyota', 'kia', 'hyundai', 'honda', 'ford', 'ford', 'fiat']"
      ]
     },
     "execution_count": 6,
     "metadata": {},
     "output_type": "execute_result"
    }
   ],
   "source": [
    "cars.pop()\n",
    "cars"
   ]
  },
  {
   "cell_type": "code",
   "execution_count": 7,
   "id": "ce9a7f51",
   "metadata": {},
   "outputs": [
    {
     "data": {
      "text/plain": [
       "['toyota', 'kia', 'hyundai', 'honda', 'ford', 'ford', 'fiat', 'fiat']"
      ]
     },
     "execution_count": 7,
     "metadata": {},
     "output_type": "execute_result"
    }
   ],
   "source": [
    "cars.append(\"fiat\");cars"
   ]
  },
  {
   "cell_type": "code",
   "execution_count": 9,
   "id": "ccfec4c0",
   "metadata": {},
   "outputs": [
    {
     "data": {
      "text/plain": [
       "1"
      ]
     },
     "execution_count": 9,
     "metadata": {},
     "output_type": "execute_result"
    }
   ],
   "source": [
    "cars.count(\"honda\")"
   ]
  },
  {
   "cell_type": "code",
   "execution_count": 11,
   "id": "f2ca77f0",
   "metadata": {},
   "outputs": [
    {
     "data": {
      "text/plain": [
       "{'fiat', 'ford', 'honda', 'hyundai', 'kia', 'toyota'}"
      ]
     },
     "execution_count": 11,
     "metadata": {},
     "output_type": "execute_result"
    }
   ],
   "source": [
    "set(cars)"
   ]
  },
  {
   "cell_type": "code",
   "execution_count": 17,
   "id": "ab1926c9",
   "metadata": {},
   "outputs": [
    {
     "data": {
      "text/plain": [
       "[]"
      ]
     },
     "execution_count": 17,
     "metadata": {},
     "output_type": "execute_result"
    }
   ],
   "source": [
    "cars.clear(); cars"
   ]
  },
  {
   "cell_type": "code",
   "execution_count": 18,
   "id": "7844d0a0",
   "metadata": {},
   "outputs": [],
   "source": [
    "cars=[\"opel\",\"bugatti\",\"honda\"]"
   ]
  },
  {
   "cell_type": "code",
   "execution_count": 20,
   "id": "23604d38",
   "metadata": {},
   "outputs": [
    {
     "data": {
      "text/plain": [
       "['opel', 'bugatti', 'honda']"
      ]
     },
     "execution_count": 20,
     "metadata": {},
     "output_type": "execute_result"
    }
   ],
   "source": [
    "new_cars=cars.copy()\n",
    "new_cars"
   ]
  },
  {
   "cell_type": "code",
   "execution_count": 22,
   "id": "67ca4e9d",
   "metadata": {},
   "outputs": [],
   "source": [
    "del new_cars"
   ]
  },
  {
   "cell_type": "code",
   "execution_count": 23,
   "id": "90cb20f8",
   "metadata": {},
   "outputs": [
    {
     "data": {
      "text/plain": [
       "['bugatti', 'honda']"
      ]
     },
     "execution_count": 23,
     "metadata": {},
     "output_type": "execute_result"
    }
   ],
   "source": [
    "cars.remove(\"opel\")\n",
    "cars"
   ]
  },
  {
   "cell_type": "code",
   "execution_count": null,
   "id": "6c5d3b5c",
   "metadata": {},
   "outputs": [],
   "source": []
  }
 ],
 "metadata": {
  "kernelspec": {
   "display_name": "Python 3 (ipykernel)",
   "language": "python",
   "name": "python3"
  },
  "language_info": {
   "codemirror_mode": {
    "name": "ipython",
    "version": 3
   },
   "file_extension": ".py",
   "mimetype": "text/x-python",
   "name": "python",
   "nbconvert_exporter": "python",
   "pygments_lexer": "ipython3",
   "version": "3.9.12"
  }
 },
 "nbformat": 4,
 "nbformat_minor": 5
}
