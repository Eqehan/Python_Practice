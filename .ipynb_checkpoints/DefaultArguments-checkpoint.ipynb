{
 "cells": [
  {
   "cell_type": "code",
   "execution_count": 1,
   "id": "68918d8c",
   "metadata": {},
   "outputs": [],
   "source": [
    "def std_dtl(name,sch,mat,phy,enroll):\n",
    "    total=mat+phy\n",
    "    print(\"name:\",name)\n",
    "    print(\"school:\",sch,\"enrolled:\",enroll)\n",
    "    print(\"total:\",total)"
   ]
  },
  {
   "cell_type": "code",
   "execution_count": 2,
   "id": "5e57f14f",
   "metadata": {},
   "outputs": [
    {
     "name": "stdout",
     "output_type": "stream",
     "text": [
      "name: egehan\n",
      "school: kou enrolled: False\n",
      "total: 190\n"
     ]
    }
   ],
   "source": [
    "std_dtl(\"egehan\",\"kou\",mat=100,phy=90,enroll=False)\n",
    "# Equal To\n",
    "# std_dtl(\"egehan\",\"kou\",100, 90,True)"
   ]
  },
  {
   "cell_type": "code",
   "execution_count": 4,
   "id": "6c2bf3d0",
   "metadata": {},
   "outputs": [
    {
     "name": "stdout",
     "output_type": "stream",
     "text": [
      "name: egehan\n",
      "school: harvard enrolled: True\n",
      "total: 140\n"
     ]
    }
   ],
   "source": [
    "def std(name,sch,mat=50,phy=90,enroll=True):\n",
    "    total=mat+phy\n",
    "    print(\"name:\",name)\n",
    "    print(\"school:\",sch,\"enrolled:\",enroll)\n",
    "    print(\"total:\",total)\n",
    "    # Define default values\n",
    "std(\"egehan\",\"harvard\")"
   ]
  },
  {
   "cell_type": "code",
   "execution_count": null,
   "id": "1f7e728c",
   "metadata": {},
   "outputs": [],
   "source": []
  }
 ],
 "metadata": {
  "kernelspec": {
   "display_name": "Python 3 (ipykernel)",
   "language": "python",
   "name": "python3"
  },
  "language_info": {
   "codemirror_mode": {
    "name": "ipython",
    "version": 3
   },
   "file_extension": ".py",
   "mimetype": "text/x-python",
   "name": "python",
   "nbconvert_exporter": "python",
   "pygments_lexer": "ipython3",
   "version": "3.9.12"
  }
 },
 "nbformat": 4,
 "nbformat_minor": 5
}
