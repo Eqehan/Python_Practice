{
 "cells": [
  {
   "cell_type": "code",
   "execution_count": 1,
   "id": "6faad7d3",
   "metadata": {},
   "outputs": [],
   "source": [
    "def add(a,b):\n",
    "    return a+b\n",
    "def sub(a,b):\n",
    "    return a-b\n",
    "def mul(a,b):\n",
    "    return a*b\n",
    "def div(a,b):\n",
    "    return a/b"
   ]
  },
  {
   "cell_type": "code",
   "execution_count": 2,
   "id": "b24d11fc",
   "metadata": {},
   "outputs": [],
   "source": [
    "def get_func(operator=\"+\"):\n",
    "    if operator ==\"+\":\n",
    "        return add\n",
    "    if operator ==\"-\":\n",
    "        return sub\n",
    "    if operator ==\"*\":\n",
    "        return mul\n",
    "    if operator ==\"/\":\n",
    "        return div"
   ]
  },
  {
   "cell_type": "code",
   "execution_count": 3,
   "id": "0340358b",
   "metadata": {},
   "outputs": [
    {
     "data": {
      "text/plain": [
       "<function __main__.add(a, b)>"
      ]
     },
     "execution_count": 3,
     "metadata": {},
     "output_type": "execute_result"
    }
   ],
   "source": [
    "func=get_func()\n",
    "func"
   ]
  },
  {
   "cell_type": "code",
   "execution_count": 4,
   "id": "97676b77",
   "metadata": {},
   "outputs": [
    {
     "data": {
      "text/plain": [
       "251"
      ]
     },
     "execution_count": 4,
     "metadata": {},
     "output_type": "execute_result"
    }
   ],
   "source": [
    "func(3,248)"
   ]
  },
  {
   "cell_type": "code",
   "execution_count": 5,
   "id": "9f9d1e10",
   "metadata": {},
   "outputs": [
    {
     "data": {
      "text/plain": [
       "20"
      ]
     },
     "execution_count": 5,
     "metadata": {},
     "output_type": "execute_result"
    }
   ],
   "source": [
    "func=get_func(\"*\")\n",
    "func(2,10)"
   ]
  },
  {
   "cell_type": "code",
   "execution_count": 6,
   "id": "57760b59",
   "metadata": {},
   "outputs": [],
   "source": [
    "calc_dict={\"+\":add,\"-\":sub,\"*\":mul,\"/\":div}"
   ]
  },
  {
   "cell_type": "code",
   "execution_count": 7,
   "id": "6316403f",
   "metadata": {},
   "outputs": [
    {
     "data": {
      "text/plain": [
       "16.666666666666668"
      ]
     },
     "execution_count": 7,
     "metadata": {},
     "output_type": "execute_result"
    }
   ],
   "source": [
    "func=calc_dict[\"/\"]\n",
    "func(100,6)"
   ]
  },
  {
   "cell_type": "code",
   "execution_count": 8,
   "id": "962851e5",
   "metadata": {},
   "outputs": [
    {
     "data": {
      "text/plain": [
       "600"
      ]
     },
     "execution_count": 8,
     "metadata": {},
     "output_type": "execute_result"
    }
   ],
   "source": [
    "calc_dict[\"*\"](300,2)"
   ]
  },
  {
   "cell_type": "code",
   "execution_count": null,
   "id": "d9a9f95c",
   "metadata": {},
   "outputs": [],
   "source": []
  }
 ],
 "metadata": {
  "kernelspec": {
   "display_name": "Python 3 (ipykernel)",
   "language": "python",
   "name": "python3"
  },
  "language_info": {
   "codemirror_mode": {
    "name": "ipython",
    "version": 3
   },
   "file_extension": ".py",
   "mimetype": "text/x-python",
   "name": "python",
   "nbconvert_exporter": "python",
   "pygments_lexer": "ipython3",
   "version": "3.9.12"
  }
 },
 "nbformat": 4,
 "nbformat_minor": 5
}
