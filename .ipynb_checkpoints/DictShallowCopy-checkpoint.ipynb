{
 "cells": [
  {
   "cell_type": "code",
   "execution_count": 1,
   "id": "cb3ddaf5",
   "metadata": {},
   "outputs": [
    {
     "data": {
      "text/plain": [
       "{'jan': 1, 'feb': 2, 'march': 3}"
      ]
     },
     "execution_count": 1,
     "metadata": {},
     "output_type": "execute_result"
    }
   ],
   "source": [
    "monts={\"jan\":1, \"feb\":2, \"march\":3}\n",
    "monts"
   ]
  },
  {
   "cell_type": "code",
   "execution_count": 2,
   "id": "dcfc491d",
   "metadata": {},
   "outputs": [
    {
     "data": {
      "text/plain": [
       "{'jan': 1, 'feb': 2, 'march': 3}"
      ]
     },
     "execution_count": 2,
     "metadata": {},
     "output_type": "execute_result"
    }
   ],
   "source": [
    "new_mnt=monts\n",
    "new_mnt"
   ]
  },
  {
   "cell_type": "code",
   "execution_count": 3,
   "id": "6246ef7a",
   "metadata": {},
   "outputs": [
    {
     "data": {
      "text/plain": [
       "2"
      ]
     },
     "execution_count": 3,
     "metadata": {},
     "output_type": "execute_result"
    }
   ],
   "source": [
    "new_mnt[\"feb\"]"
   ]
  },
  {
   "cell_type": "code",
   "execution_count": 6,
   "id": "df067b71",
   "metadata": {},
   "outputs": [
    {
     "name": "stdout",
     "output_type": "stream",
     "text": [
      "{'jan': 1, 'feb': 'FEB', 'march': 3}\n",
      "{'jan': 1, 'feb': 'FEB', 'march': 3}\n"
     ]
    }
   ],
   "source": [
    "new_mnt[\"feb\"]=\"FEB\"    #shallow\n",
    "print(new_mnt)\n",
    "print(monts)"
   ]
  },
  {
   "cell_type": "code",
   "execution_count": 7,
   "id": "18b74bef",
   "metadata": {},
   "outputs": [],
   "source": [
    "import copy"
   ]
  },
  {
   "cell_type": "code",
   "execution_count": 8,
   "id": "811645c0",
   "metadata": {},
   "outputs": [
    {
     "data": {
      "text/plain": [
       "{'can': 1, 'seb': 2, 'mers': 3}"
      ]
     },
     "execution_count": 8,
     "metadata": {},
     "output_type": "execute_result"
    }
   ],
   "source": [
    "emp ={\"can\":1, \"seb\":2, \"mers\":3}\n",
    "emp"
   ]
  },
  {
   "cell_type": "code",
   "execution_count": 9,
   "id": "beb80c3b",
   "metadata": {},
   "outputs": [
    {
     "data": {
      "text/plain": [
       "{'can': 1, 'seb': 2, 'mers': 3}"
      ]
     },
     "execution_count": 9,
     "metadata": {},
     "output_type": "execute_result"
    }
   ],
   "source": [
    "emp_cpy= copy.copy(emp)\n",
    "emp_cpy"
   ]
  },
  {
   "cell_type": "code",
   "execution_count": 10,
   "id": "ed7e27ec",
   "metadata": {},
   "outputs": [
    {
     "name": "stdout",
     "output_type": "stream",
     "text": [
      "{'can': 1, 'seb': 2, 'mers': 3}\n",
      "{'can': 300, 'seb': 2, 'mers': 3}\n"
     ]
    }
   ],
   "source": [
    "emp_cpy[\"can\"]=300   #copy func. created deepcpy\n",
    "print(emp)\n",
    "print(emp_cpy)"
   ]
  },
  {
   "cell_type": "code",
   "execution_count": 11,
   "id": "8bab206b",
   "metadata": {},
   "outputs": [
    {
     "data": {
      "text/plain": [
       "{'qwer': 1, 'asdf': 2, 'zxcs': [6, 7, 8, 9.0]}"
      ]
     },
     "execution_count": 11,
     "metadata": {},
     "output_type": "execute_result"
    }
   ],
   "source": [
    "dicct={\"qwer\":1, \"asdf\":2, \"zxcs\":[6,7,8,9.0]}\n",
    "dicct"
   ]
  },
  {
   "cell_type": "code",
   "execution_count": 12,
   "id": "404ae895",
   "metadata": {},
   "outputs": [],
   "source": [
    "new_dct = copy.copy(dicct)"
   ]
  },
  {
   "cell_type": "code",
   "execution_count": 13,
   "id": "4f8a48d6",
   "metadata": {},
   "outputs": [
    {
     "name": "stdout",
     "output_type": "stream",
     "text": [
      "{'qwer': 1, 'asdf': 2, 'zxcs': [6, 7, 'EIGHT', 9.0]}\n",
      "{'qwer': 1, 'asdf': 2, 'zxcs': [6, 7, 'EIGHT', 9.0]}\n"
     ]
    }
   ],
   "source": [
    "new_dct[\"zxcs\"][2]=\"EIGHT\"\n",
    "print(new_dct)\n",
    "print(dicct)"
   ]
  },
  {
   "cell_type": "code",
   "execution_count": 17,
   "id": "a26997db",
   "metadata": {},
   "outputs": [],
   "source": [
    "#nested elements of lists or dicts is not shallow,\n",
    "#deeply changes to memory"
   ]
  },
  {
   "cell_type": "code",
   "execution_count": null,
   "id": "a9df1596",
   "metadata": {},
   "outputs": [],
   "source": []
  }
 ],
 "metadata": {
  "kernelspec": {
   "display_name": "Python 3 (ipykernel)",
   "language": "python",
   "name": "python3"
  },
  "language_info": {
   "codemirror_mode": {
    "name": "ipython",
    "version": 3
   },
   "file_extension": ".py",
   "mimetype": "text/x-python",
   "name": "python",
   "nbconvert_exporter": "python",
   "pygments_lexer": "ipython3",
   "version": "3.9.12"
  }
 },
 "nbformat": 4,
 "nbformat_minor": 5
}
