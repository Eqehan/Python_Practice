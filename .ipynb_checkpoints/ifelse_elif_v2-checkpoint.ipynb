{
 "cells": [
  {
   "cell_type": "code",
   "execution_count": 1,
   "id": "063f77de",
   "metadata": {},
   "outputs": [
    {
     "name": "stdout",
     "output_type": "stream",
     "text": [
      "so expensive\n"
     ]
    }
   ],
   "source": [
    "price=20000\n",
    "if price<6000:\n",
    "    print(\"it's cheap\")\n",
    "elif price>=6000 and price<10000:\n",
    "    print(\"it's moderately\")\n",
    "elif price>=10000 and price<15000:\n",
    "    print(\"it's little bit expensive\")\n",
    "else:                 #or you can use just >20000 elif\n",
    "    print(\"so expensive\")"
   ]
  },
  {
   "cell_type": "code",
   "execution_count": 2,
   "id": "5e8a3e62",
   "metadata": {},
   "outputs": [
    {
     "name": "stdout",
     "output_type": "stream",
     "text": [
      "x is smaller\n",
      "x<y but x > or = to z\n"
     ]
    }
   ],
   "source": [
    "# NESTED IF-ELSE\n",
    "x=20; y=30;z=15\n",
    "if x<y:\n",
    "    print(\"x is smaller\")\n",
    "    if x<z:\n",
    "        print(\"x is smaller than z and y\")\n",
    "    else:\n",
    "        print(\"x<y but x > or = to z\")"
   ]
  },
  {
   "cell_type": "code",
   "execution_count": null,
   "id": "0b6f5353",
   "metadata": {},
   "outputs": [],
   "source": []
  }
 ],
 "metadata": {
  "kernelspec": {
   "display_name": "Python 3 (ipykernel)",
   "language": "python",
   "name": "python3"
  },
  "language_info": {
   "codemirror_mode": {
    "name": "ipython",
    "version": 3
   },
   "file_extension": ".py",
   "mimetype": "text/x-python",
   "name": "python",
   "nbconvert_exporter": "python",
   "pygments_lexer": "ipython3",
   "version": "3.9.12"
  }
 },
 "nbformat": 4,
 "nbformat_minor": 5
}
