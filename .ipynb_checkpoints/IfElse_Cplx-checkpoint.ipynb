{
 "cells": [
  {
   "cell_type": "code",
   "execution_count": 2,
   "id": "46bf09fb",
   "metadata": {},
   "outputs": [
    {
     "name": "stdout",
     "output_type": "stream",
     "text": [
      "Yes, it contains grape\n"
     ]
    }
   ],
   "source": [
    "fruit=[\"orange\",\"apple\",\"banana\",\"grape\"]\n",
    "\n",
    "if \"grape\" in fruit:\n",
    "    print(\"Yes, it contains grape\")\n",
    "else:\n",
    "    print(\"There is no Grape\")"
   ]
  },
  {
   "cell_type": "code",
   "execution_count": 4,
   "id": "66ab908e",
   "metadata": {},
   "outputs": [
    {
     "name": "stdout",
     "output_type": "stream",
     "text": [
      "Orange in list\n"
     ]
    }
   ],
   "source": [
    "if \"strawberry\" in fruit:\n",
    "    print(\"Yes, it contains stw\")\n",
    "elif \"orange\" in fruit:\n",
    "    print(\"Orange in list\")\n",
    "else:\n",
    "    print(\"There is no orange or strawberry\")"
   ]
  },
  {
   "cell_type": "code",
   "execution_count": 6,
   "id": "0b3f53d4",
   "metadata": {},
   "outputs": [
    {
     "name": "stdout",
     "output_type": "stream",
     "text": [
      "False\n"
     ]
    }
   ],
   "source": [
    "if fruit[1]==\"orange\":\n",
    "    print(\"True\")\n",
    "else:\n",
    "    print(\"False\")\n",
    "#because its index is [0]"
   ]
  },
  {
   "cell_type": "code",
   "execution_count": 8,
   "id": "8cd6747a",
   "metadata": {},
   "outputs": [
    {
     "name": "stdout",
     "output_type": "stream",
     "text": [
      "Yes, grape at index 4 and changed to cherry\n",
      "['orange', 'apple', 'banana', 'cherry']\n"
     ]
    }
   ],
   "source": [
    "if fruit[3]==\"grape\":\n",
    "    print(\"Yes, grape at index 4 and changed to cherry\")\n",
    "    fruit[3]=\"cherry\"\n",
    "    print(fruit)\n",
    "else:\n",
    "    print(\"There is no Grape at index 3\")"
   ]
  },
  {
   "cell_type": "code",
   "execution_count": 1,
   "id": "69316bc9",
   "metadata": {},
   "outputs": [
    {
     "name": "stdout",
     "output_type": "stream",
     "text": [
      "Yes, it contains japan\n"
     ]
    }
   ],
   "source": [
    "#check multiple from same list\n",
    "\n",
    "cars=[\"honda\",\"toyota\",\"bentley\",\"fiat\"]\n",
    "if \"honda\" and \"toyota\" in cars:\n",
    "    print(\"Yes, it contains japan\")\n",
    "else:\n",
    "    print(\"There is no japan\")"
   ]
  },
  {
   "cell_type": "code",
   "execution_count": 4,
   "id": "5eac6bb1",
   "metadata": {},
   "outputs": [
    {
     "name": "stdout",
     "output_type": "stream",
     "text": [
      "yes they contains\n"
     ]
    }
   ],
   "source": [
    "# check form different lists\n",
    "\n",
    "fruit=[\"orange\",\"apple\",\"banana\",\"grape\"]\n",
    "if \"honda\" in cars and \"grape\" in fruit:\n",
    "    print(\"yes they contains\")\n",
    "else:\n",
    "    print(\"not\")"
   ]
  },
  {
   "cell_type": "code",
   "execution_count": 6,
   "id": "2c42c804",
   "metadata": {},
   "outputs": [
    {
     "name": "stdout",
     "output_type": "stream",
     "text": [
      "yes egehan at the dict\n"
     ]
    }
   ],
   "source": [
    "#if block at dictionaries \n",
    "\n",
    "salary={\"lisa\":2000,\n",
    "       \"egehan\":3000,\n",
    "       }\n",
    "if \"egehan\" in salary:\n",
    "    print(\"yes egehan at the dict\")"
   ]
  },
  {
   "cell_type": "code",
   "execution_count": 10,
   "id": "242af81f",
   "metadata": {},
   "outputs": [
    {
     "name": "stdout",
     "output_type": "stream",
     "text": [
      "Egehan's wage is higher than Lisa: 3000\n"
     ]
    }
   ],
   "source": [
    "#check between two Dict values IMPORTANT\n",
    "\n",
    "if salary[\"egehan\"] > salary[\"lisa\"]:\n",
    "    print(\"Egehan's wage is higher than Lisa:\", salary[\"egehan\"])\n",
    "else:\n",
    "    print(\"Lisa is gaining more.\")"
   ]
  },
  {
   "cell_type": "code",
   "execution_count": 13,
   "id": "817fed86",
   "metadata": {},
   "outputs": [],
   "source": [
    "#If block at the Nested Lists\n",
    "\n",
    "detay=[[\"ege\",\"ayse\",\"nesat\",\"ece\"],\n",
    "       [35,40,45], \n",
    "       [128,256,512]]"
   ]
  },
  {
   "cell_type": "code",
   "execution_count": 14,
   "id": "3cbdaf4b",
   "metadata": {},
   "outputs": [
    {
     "name": "stdout",
     "output_type": "stream",
     "text": [
      "last chance\n"
     ]
    }
   ],
   "source": [
    "max_sal = max(detay[2]) #find the max value at \"detay\"\n",
    "if (detay[2][1]==max_sal):\n",
    "    if(detay[1][1] > 30):\n",
    "        print(detay[0][1])\n",
    "    else:\n",
    "        print(\"highest\")\n",
    "else:\n",
    "    print(\"last chance\")"
   ]
  },
  {
   "cell_type": "code",
   "execution_count": null,
   "id": "c2aacf25",
   "metadata": {},
   "outputs": [],
   "source": []
  }
 ],
 "metadata": {
  "kernelspec": {
   "display_name": "Python 3 (ipykernel)",
   "language": "python",
   "name": "python3"
  },
  "language_info": {
   "codemirror_mode": {
    "name": "ipython",
    "version": 3
   },
   "file_extension": ".py",
   "mimetype": "text/x-python",
   "name": "python",
   "nbconvert_exporter": "python",
   "pygments_lexer": "ipython3",
   "version": "3.9.12"
  }
 },
 "nbformat": 4,
 "nbformat_minor": 5
}
