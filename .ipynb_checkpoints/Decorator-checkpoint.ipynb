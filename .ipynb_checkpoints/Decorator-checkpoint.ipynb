{
 "cells": [
  {
   "cell_type": "code",
   "execution_count": 1,
   "id": "a1f124ba",
   "metadata": {},
   "outputs": [
    {
     "name": "stdout",
     "output_type": "stream",
     "text": [
      "Yahoo! Decorators are cool.\n"
     ]
    }
   ],
   "source": [
    "#add functionality to existing code without modify code\n",
    "def print_msg():\n",
    "    print(\"Yahoo! Decorators are cool.\")\n",
    "\n",
    "print_msg()    "
   ]
  },
  {
   "cell_type": "code",
   "execution_count": 3,
   "id": "4d6e5c1b",
   "metadata": {},
   "outputs": [
    {
     "name": "stdout",
     "output_type": "stream",
     "text": [
      "++++++++++++++++++++++++++++++++++++++++++++++++++\n",
      "Yahoo! Decorators are cool.\n",
      "++++++++++++++++++++++++++++++++++++++++++++++++++\n"
     ]
    }
   ],
   "source": [
    "import random\n",
    "def highlight():\n",
    "    annonate=(\"-\",\"+\",\"^\")\n",
    "    anno=random.choice(annonate)\n",
    "    print(anno*50)\n",
    "    print_msg()\n",
    "    print(anno*50)\n",
    "    \n",
    "highlight()"
   ]
  },
  {
   "cell_type": "code",
   "execution_count": 4,
   "id": "39220440",
   "metadata": {},
   "outputs": [],
   "source": [
    "def asterisk(func):\n",
    "    def highlightt():\n",
    "        print(\"*\"*50)\n",
    "        func()\n",
    "        print(\"*\"*50)\n",
    "    return highlightt"
   ]
  },
  {
   "cell_type": "code",
   "execution_count": 5,
   "id": "30cdb80d",
   "metadata": {},
   "outputs": [],
   "source": [
    "def plus_hghlgt(func):\n",
    "    def highlightt():\n",
    "        print(\"+\"*50)\n",
    "        func()\n",
    "        print(\"+\"*50)\n",
    "    return highlightt"
   ]
  },
  {
   "cell_type": "code",
   "execution_count": 6,
   "id": "5d22a561",
   "metadata": {},
   "outputs": [],
   "source": [
    "@asterisk\n",
    "def print_msg():\n",
    "    print(\"It is decorated message.\")"
   ]
  },
  {
   "cell_type": "code",
   "execution_count": 7,
   "id": "ba50fc81",
   "metadata": {},
   "outputs": [
    {
     "name": "stdout",
     "output_type": "stream",
     "text": [
      "**************************************************\n",
      "It is decorated message.\n",
      "**************************************************\n"
     ]
    }
   ],
   "source": [
    "print_msg()"
   ]
  },
  {
   "cell_type": "code",
   "execution_count": 9,
   "id": "a48c90a4",
   "metadata": {},
   "outputs": [
    {
     "name": "stdout",
     "output_type": "stream",
     "text": [
      "**************************************************\n",
      "++++++++++++++++++++++++++++++++++++++++++++++++++\n",
      "It is decorated message.\n",
      "++++++++++++++++++++++++++++++++++++++++++++++++++\n",
      "**************************************************\n"
     ]
    }
   ],
   "source": [
    "@asterisk\n",
    "@plus_hghlgt\n",
    "def print_msg():\n",
    "    print(\"It is decorated message.\")\n",
    "    \n",
    "print_msg()\n",
    "\n",
    "#chained decoration"
   ]
  },
  {
   "cell_type": "code",
   "execution_count": null,
   "id": "a0daf61f",
   "metadata": {},
   "outputs": [],
   "source": []
  }
 ],
 "metadata": {
  "kernelspec": {
   "display_name": "Python 3 (ipykernel)",
   "language": "python",
   "name": "python3"
  },
  "language_info": {
   "codemirror_mode": {
    "name": "ipython",
    "version": 3
   },
   "file_extension": ".py",
   "mimetype": "text/x-python",
   "name": "python",
   "nbconvert_exporter": "python",
   "pygments_lexer": "ipython3",
   "version": "3.9.12"
  }
 },
 "nbformat": 4,
 "nbformat_minor": 5
}
