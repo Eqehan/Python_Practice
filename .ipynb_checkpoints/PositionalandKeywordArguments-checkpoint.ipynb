{
 "cells": [
  {
   "cell_type": "code",
   "execution_count": 1,
   "id": "7b4a679f",
   "metadata": {},
   "outputs": [],
   "source": [
    "def intro(name,city):\n",
    "    print(\"My name\",name)\n",
    "    print(\"i live in\",city)"
   ]
  },
  {
   "cell_type": "code",
   "execution_count": 2,
   "id": "9603742f",
   "metadata": {},
   "outputs": [],
   "source": [
    "# dont write missing or more values when call function"
   ]
  },
  {
   "cell_type": "code",
   "execution_count": 3,
   "id": "87771cd3",
   "metadata": {},
   "outputs": [
    {
     "name": "stdout",
     "output_type": "stream",
     "text": [
      "math 100 physics 65 biology 78 chemistry 13\n"
     ]
    },
    {
     "data": {
      "text/plain": [
       "256"
      ]
     },
     "execution_count": 3,
     "metadata": {},
     "output_type": "execute_result"
    }
   ],
   "source": [
    "def total(math,phy,bio,che):\n",
    "    print(\"math\",math,\"physics\",phy,\"biology\",bio,\"chemistry\",che)\n",
    "    return math+phy+bio+che\n",
    "total(100,65,78,13)"
   ]
  },
  {
   "cell_type": "code",
   "execution_count": 4,
   "id": "223d29de",
   "metadata": {},
   "outputs": [
    {
     "name": "stdout",
     "output_type": "stream",
     "text": [
      "math 100 physics 65 biology 78 chemistry 13\n"
     ]
    },
    {
     "data": {
      "text/plain": [
       "256"
      ]
     },
     "execution_count": 4,
     "metadata": {},
     "output_type": "execute_result"
    }
   ],
   "source": [
    "# Keywords using for make easy to understand\n",
    "total(math=100,phy=65,bio=78,che=13)\n",
    "# keywords must named same as func"
   ]
  },
  {
   "cell_type": "code",
   "execution_count": 5,
   "id": "1f2d6486",
   "metadata": {},
   "outputs": [
    {
     "ename": "SyntaxError",
     "evalue": "positional argument follows keyword argument (3705231977.py, line 1)",
     "output_type": "error",
     "traceback": [
      "\u001b[1;36m  Input \u001b[1;32mIn [5]\u001b[1;36m\u001b[0m\n\u001b[1;33m    total(100,phy=65,78,che=13)\u001b[0m\n\u001b[1;37m                              ^\u001b[0m\n\u001b[1;31mSyntaxError\u001b[0m\u001b[1;31m:\u001b[0m positional argument follows keyword argument\n"
     ]
    }
   ],
   "source": [
    "total(100,phy=65,78,che=13)\n",
    "#positional argument defined from first"
   ]
  },
  {
   "cell_type": "code",
   "execution_count": 6,
   "id": "87c32d6e",
   "metadata": {},
   "outputs": [
    {
     "data": {
      "text/plain": [
       "[1, 2, 4, 7, 9, 35, 563]"
      ]
     },
     "execution_count": 6,
     "metadata": {},
     "output_type": "execute_result"
    }
   ],
   "source": [
    "num_lst=[1,2,35,7,9,563,4]\n",
    "sorted(num_lst)"
   ]
  },
  {
   "cell_type": "code",
   "execution_count": 7,
   "id": "fa2a7459",
   "metadata": {},
   "outputs": [
    {
     "data": {
      "text/plain": [
       "[1, 2, 4, 7, 9, 35, 563]"
      ]
     },
     "execution_count": 7,
     "metadata": {},
     "output_type": "execute_result"
    }
   ],
   "source": [
    "sorted(num_lst, reverse=False)"
   ]
  },
  {
   "cell_type": "code",
   "execution_count": 8,
   "id": "ccbe9fbb",
   "metadata": {},
   "outputs": [
    {
     "data": {
      "text/plain": [
       "[563, 35, 9, 7, 4, 2, 1]"
      ]
     },
     "execution_count": 8,
     "metadata": {},
     "output_type": "execute_result"
    }
   ],
   "source": [
    "sorted(num_lst, reverse=True)"
   ]
  },
  {
   "cell_type": "code",
   "execution_count": 9,
   "id": "f981d2ff",
   "metadata": {},
   "outputs": [
    {
     "name": "stdout",
     "output_type": "stream",
     "text": [
      "egehan/sayan\n"
     ]
    }
   ],
   "source": [
    "print(\"egehan\", \"sayan\", sep=\"/\")"
   ]
  },
  {
   "cell_type": "code",
   "execution_count": 12,
   "id": "dac5fc0d",
   "metadata": {},
   "outputs": [
    {
     "name": "stdout",
     "output_type": "stream",
     "text": [
      "egehan/sayan***"
     ]
    }
   ],
   "source": [
    "print(\"egehan\", \"sayan\", sep=\"/\", end=\"***\")"
   ]
  },
  {
   "cell_type": "code",
   "execution_count": null,
   "id": "762ee2bd",
   "metadata": {},
   "outputs": [],
   "source": []
  }
 ],
 "metadata": {
  "kernelspec": {
   "display_name": "Python 3 (ipykernel)",
   "language": "python",
   "name": "python3"
  },
  "language_info": {
   "codemirror_mode": {
    "name": "ipython",
    "version": 3
   },
   "file_extension": ".py",
   "mimetype": "text/x-python",
   "name": "python",
   "nbconvert_exporter": "python",
   "pygments_lexer": "ipython3",
   "version": "3.9.12"
  }
 },
 "nbformat": 4,
 "nbformat_minor": 5
}
