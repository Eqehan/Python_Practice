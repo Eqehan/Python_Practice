{
 "cells": [
  {
   "cell_type": "code",
   "execution_count": 1,
   "id": "0d82998b",
   "metadata": {},
   "outputs": [
    {
     "name": "stdout",
     "output_type": "stream",
     "text": [
      "20 is greater\n"
     ]
    }
   ],
   "source": [
    "if 10>20:\n",
    "    print(\"10 is greater\")\n",
    "else:\n",
    "    print(\"20 is greater\")\n",
    "#else must be at same column"
   ]
  },
  {
   "cell_type": "code",
   "execution_count": 2,
   "id": "95db2c8b",
   "metadata": {},
   "outputs": [
    {
     "name": "stdout",
     "output_type": "stream",
     "text": [
      "num = 50\n",
      "new num = 30\n"
     ]
    }
   ],
   "source": [
    "num=50\n",
    "print(\"num =\",num)\n",
    "num=num-20 if num>20 else num+20\n",
    "print(\"new num =\", num)"
   ]
  },
  {
   "cell_type": "code",
   "execution_count": 3,
   "id": "6811781f",
   "metadata": {},
   "outputs": [
    {
     "name": "stdout",
     "output_type": "stream",
     "text": [
      "first num= 50\n",
      "new num = 30\n"
     ]
    }
   ],
   "source": [
    "num=50            #same as upper example\n",
    "print(\"first num=\",num)\n",
    "if num>20:\n",
    "    num=num-20\n",
    "else:\n",
    "    num=num+20\n",
    "print(\"new num =\", num)"
   ]
  },
  {
   "cell_type": "code",
   "execution_count": 4,
   "id": "5fe94e8d",
   "metadata": {},
   "outputs": [
    {
     "name": "stdout",
     "output_type": "stream",
     "text": [
      "elif block active\n"
     ]
    }
   ],
   "source": [
    "#elif is using for chain an if-else cond.\n",
    "\n",
    "if 15>20:\n",
    "    print(\"if block active\")\n",
    "elif 15<20:\n",
    "    print(\"elif block active\")\n",
    "else:\n",
    "    print(\"both is active\")"
   ]
  },
  {
   "cell_type": "code",
   "execution_count": null,
   "id": "f57f6efe",
   "metadata": {},
   "outputs": [],
   "source": []
  }
 ],
 "metadata": {
  "kernelspec": {
   "display_name": "Python 3 (ipykernel)",
   "language": "python",
   "name": "python3"
  },
  "language_info": {
   "codemirror_mode": {
    "name": "ipython",
    "version": 3
   },
   "file_extension": ".py",
   "mimetype": "text/x-python",
   "name": "python",
   "nbconvert_exporter": "python",
   "pygments_lexer": "ipython3",
   "version": "3.9.12"
  }
 },
 "nbformat": 4,
 "nbformat_minor": 5
}
