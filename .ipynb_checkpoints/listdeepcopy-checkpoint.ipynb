{
 "cells": [
  {
   "cell_type": "code",
   "execution_count": 6,
   "id": "3f1b54f2",
   "metadata": {},
   "outputs": [
    {
     "data": {
      "text/plain": [
       "['sara', 'david', 'warner', 'sandy']"
      ]
     },
     "execution_count": 6,
     "metadata": {},
     "output_type": "execute_result"
    }
   ],
   "source": [
    "names=[\"sara\",\"david\",\"warner\",\"sandy\"]\n",
    "names\n",
    "#deep copies didnt change other copy. not like shallow"
   ]
  },
  {
   "cell_type": "code",
   "execution_count": 8,
   "id": "29ae224d",
   "metadata": {},
   "outputs": [
    {
     "name": "stdout",
     "output_type": "stream",
     "text": [
      "copied= ['sara', 'david', 'warner', 'sandy']\n"
     ]
    }
   ],
   "source": [
    "new_names=names.copy()\n",
    "print(\"copied=\",new_names)"
   ]
  },
  {
   "cell_type": "code",
   "execution_count": 9,
   "id": "1ae7a7d6",
   "metadata": {},
   "outputs": [
    {
     "data": {
      "text/plain": [
       "['sara', 'ege', 'warner', 'sandy']"
      ]
     },
     "execution_count": 9,
     "metadata": {},
     "output_type": "execute_result"
    }
   ],
   "source": [
    "new_names[1]=\"ege\"\n",
    "new_names"
   ]
  },
  {
   "cell_type": "code",
   "execution_count": 10,
   "id": "31633fe5",
   "metadata": {},
   "outputs": [],
   "source": [
    "import copy"
   ]
  },
  {
   "cell_type": "code",
   "execution_count": 11,
   "id": "a99f07cd",
   "metadata": {},
   "outputs": [
    {
     "name": "stdout",
     "output_type": "stream",
     "text": [
      "['google', 'ww', 'face']\n"
     ]
    }
   ],
   "source": [
    "cmp=[\"google\",\"ww\",\"face\"]\n",
    "new_cmp = copy.deepcopy(cmp)\n",
    "print(new_cmp)"
   ]
  },
  {
   "cell_type": "code",
   "execution_count": 12,
   "id": "1342981c",
   "metadata": {},
   "outputs": [
    {
     "name": "stdout",
     "output_type": "stream",
     "text": [
      "['google', 'ww', 'face']\n"
     ]
    }
   ],
   "source": [
    "cmp[2]=\"microsoft\"\n",
    "print(new_cmp) #deep copies of non-nested lists"
   ]
  },
  {
   "cell_type": "code",
   "execution_count": null,
   "id": "ba729423",
   "metadata": {},
   "outputs": [],
   "source": []
  }
 ],
 "metadata": {
  "kernelspec": {
   "display_name": "Python 3 (ipykernel)",
   "language": "python",
   "name": "python3"
  },
  "language_info": {
   "codemirror_mode": {
    "name": "ipython",
    "version": 3
   },
   "file_extension": ".py",
   "mimetype": "text/x-python",
   "name": "python",
   "nbconvert_exporter": "python",
   "pygments_lexer": "ipython3",
   "version": "3.9.12"
  }
 },
 "nbformat": 4,
 "nbformat_minor": 5
}
