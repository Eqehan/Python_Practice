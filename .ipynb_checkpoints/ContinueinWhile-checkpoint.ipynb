{
 "cells": [
  {
   "cell_type": "code",
   "execution_count": 4,
   "id": "6c78ba97",
   "metadata": {},
   "outputs": [
    {
     "name": "stdout",
     "output_type": "stream",
     "text": [
      "[]\n"
     ]
    }
   ],
   "source": [
    "my_list=[]\n",
    "num=0\n",
    "while num is range(0,50):\n",
    "    num+=1\n",
    "    if num%5==0 or num%7==0:\n",
    "        continue\n",
    "    my_list.append(num)\n",
    "print(my_list)"
   ]
  },
  {
   "cell_type": "code",
   "execution_count": 6,
   "id": "3dd6208d",
   "metadata": {},
   "outputs": [
    {
     "name": "stdout",
     "output_type": "stream",
     "text": [
      "Enter a number: asd\n",
      "Enter integers only\n",
      "Enter a number: 9.0\n",
      "Enter integers only\n",
      "Enter a number: 9\n",
      "Cube of 9 is 729\n",
      "Enter a number: out\n",
      "Break\n"
     ]
    }
   ],
   "source": [
    "while True:\n",
    "    val=input(\"Enter a number: \")\n",
    "    if val ==\"out\":\n",
    "        print(\"Break\")\n",
    "        break\n",
    "    if not val.isdigit():\n",
    "        print(\"Enter integers only\")\n",
    "        continue\n",
    "    val=int(val)\n",
    "    print(\"Cube of %d is %d\" %(val, val**3))"
   ]
  },
  {
   "cell_type": "code",
   "execution_count": null,
   "id": "d38319c0",
   "metadata": {},
   "outputs": [],
   "source": []
  }
 ],
 "metadata": {
  "kernelspec": {
   "display_name": "Python 3 (ipykernel)",
   "language": "python",
   "name": "python3"
  },
  "language_info": {
   "codemirror_mode": {
    "name": "ipython",
    "version": 3
   },
   "file_extension": ".py",
   "mimetype": "text/x-python",
   "name": "python",
   "nbconvert_exporter": "python",
   "pygments_lexer": "ipython3",
   "version": "3.9.12"
  }
 },
 "nbformat": 4,
 "nbformat_minor": 5
}
