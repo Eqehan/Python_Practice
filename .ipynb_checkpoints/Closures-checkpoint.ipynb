{
 "cells": [
  {
   "cell_type": "code",
   "execution_count": 2,
   "id": "a66a8443",
   "metadata": {},
   "outputs": [],
   "source": [
    "#Nested func defined in a func. \n",
    "#If you dont call outer func, inner func will not work.\n",
    "\n",
    "def nested_hello():\n",
    "    def hello():\n",
    "        print(\"Hello World!\")\n",
    "    hello()"
   ]
  },
  {
   "cell_type": "code",
   "execution_count": 3,
   "id": "f29ed8e9",
   "metadata": {},
   "outputs": [
    {
     "name": "stdout",
     "output_type": "stream",
     "text": [
      "Hello World!\n"
     ]
    }
   ],
   "source": [
    "nested_hello()"
   ]
  },
  {
   "cell_type": "code",
   "execution_count": 4,
   "id": "d531987d",
   "metadata": {},
   "outputs": [
    {
     "ename": "NameError",
     "evalue": "name 'hello' is not defined",
     "output_type": "error",
     "traceback": [
      "\u001b[1;31m---------------------------------------------------------------------------\u001b[0m",
      "\u001b[1;31mNameError\u001b[0m                                 Traceback (most recent call last)",
      "Input \u001b[1;32mIn [4]\u001b[0m, in \u001b[0;36m<cell line: 1>\u001b[1;34m()\u001b[0m\n\u001b[1;32m----> 1\u001b[0m \u001b[43mhello\u001b[49m()\n",
      "\u001b[1;31mNameError\u001b[0m: name 'hello' is not defined"
     ]
    }
   ],
   "source": [
    "hello()"
   ]
  },
  {
   "cell_type": "code",
   "execution_count": 5,
   "id": "96bc388a",
   "metadata": {},
   "outputs": [],
   "source": [
    "def get_hello():\n",
    "    def hello():\n",
    "        print(\"Hello World!\")\n",
    "    return hello"
   ]
  },
  {
   "cell_type": "code",
   "execution_count": 7,
   "id": "4fc704f7",
   "metadata": {},
   "outputs": [
    {
     "data": {
      "text/plain": [
       "<function __main__.get_hello.<locals>.hello()>"
      ]
     },
     "execution_count": 7,
     "metadata": {},
     "output_type": "execute_result"
    }
   ],
   "source": [
    "hello_fn =get_hello()\n",
    "hello_fn\n",
    "#Local Function"
   ]
  },
  {
   "cell_type": "code",
   "execution_count": 8,
   "id": "47319874",
   "metadata": {},
   "outputs": [],
   "source": [
    "def greet_by_name(name):\n",
    "    greeting_msg =\"Hi there!\"\n",
    "    def greetings():\n",
    "        print(greeting_msg,name)\n",
    "    return greetings"
   ]
  },
  {
   "cell_type": "code",
   "execution_count": 10,
   "id": "ec3ef046",
   "metadata": {},
   "outputs": [],
   "source": [
    "greet_fn=greet_by_name(\"Egehan\")"
   ]
  },
  {
   "cell_type": "code",
   "execution_count": 11,
   "id": "8809da2f",
   "metadata": {},
   "outputs": [
    {
     "name": "stdout",
     "output_type": "stream",
     "text": [
      "Hi there! Egehan\n"
     ]
    }
   ],
   "source": [
    "greet_fn()"
   ]
  },
  {
   "cell_type": "code",
   "execution_count": 13,
   "id": "20dd84ac",
   "metadata": {},
   "outputs": [
    {
     "ename": "NameError",
     "evalue": "name 'greet_by_name' is not defined",
     "output_type": "error",
     "traceback": [
      "\u001b[1;31m---------------------------------------------------------------------------\u001b[0m",
      "\u001b[1;31mNameError\u001b[0m                                 Traceback (most recent call last)",
      "Input \u001b[1;32mIn [13]\u001b[0m, in \u001b[0;36m<cell line: 1>\u001b[1;34m()\u001b[0m\n\u001b[1;32m----> 1\u001b[0m \u001b[38;5;28;01mdel\u001b[39;00m greet_by_name\n",
      "\u001b[1;31mNameError\u001b[0m: name 'greet_by_name' is not defined"
     ]
    }
   ],
   "source": [
    "del greet_by_name\n",
    "#delete the func"
   ]
  },
  {
   "cell_type": "code",
   "execution_count": null,
   "id": "51c95545",
   "metadata": {},
   "outputs": [],
   "source": []
  }
 ],
 "metadata": {
  "kernelspec": {
   "display_name": "Python 3 (ipykernel)",
   "language": "python",
   "name": "python3"
  },
  "language_info": {
   "codemirror_mode": {
    "name": "ipython",
    "version": 3
   },
   "file_extension": ".py",
   "mimetype": "text/x-python",
   "name": "python",
   "nbconvert_exporter": "python",
   "pygments_lexer": "ipython3",
   "version": "3.9.12"
  }
 },
 "nbformat": 4,
 "nbformat_minor": 5
}
