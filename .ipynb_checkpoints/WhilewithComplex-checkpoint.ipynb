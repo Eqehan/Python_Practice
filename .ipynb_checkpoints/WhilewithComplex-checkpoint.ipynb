{
 "cells": [
  {
   "cell_type": "code",
   "execution_count": 1,
   "id": "12fa0651",
   "metadata": {},
   "outputs": [
    {
     "name": "stdout",
     "output_type": "stream",
     "text": [
      "samsung\n",
      "apple\n",
      "xiaomi\n",
      "huawei\n",
      "sony\n"
     ]
    }
   ],
   "source": [
    "smrt=[\"samsung\",\"apple\",\"xiaomi\",\"huawei\",\"sony\"]\n",
    "cnt=0\n",
    "while cnt < len(smrt):\n",
    "    print(smrt[cnt])\n",
    "    cnt=cnt+1\n",
    "# len function is important, it must be loop as length"
   ]
  },
  {
   "cell_type": "code",
   "execution_count": 4,
   "id": "769c1f87",
   "metadata": {},
   "outputs": [
    {
     "name": "stdout",
     "output_type": "stream",
     "text": [
      "[0, 2, 4, 6, 8, 10, 12, 14, 16, 18, 20, 22, 24, 26, 28, 30, 32, 34, 36, 38, 40, 42, 44, 46, 48, 50]\n",
      "\n",
      " [1, 3, 5, 7, 9, 11, 13, 15, 17, 19, 21, 23, 25, 27, 29, 31, 33, 35, 37, 39, 41, 43, 45, 47, 49]\n"
     ]
    }
   ],
   "source": [
    "# Write even or odd numbers between two value\n",
    "even=[]; odd=[]\n",
    "num =0\n",
    "while num <=50:\n",
    "    if num %2==0:\n",
    "        even.append(num)\n",
    "    else:\n",
    "        odd.append(num)\n",
    "    num +=1\n",
    "\n",
    "print(even)\n",
    "print(\"\\n\",odd)"
   ]
  },
  {
   "cell_type": "code",
   "execution_count": 6,
   "id": "ae141547",
   "metadata": {},
   "outputs": [
    {
     "name": "stdout",
     "output_type": "stream",
     "text": [
      "  C   F\n",
      "-10  14\n",
      " -5  23\n",
      "  0  32\n",
      "  5  41\n",
      " 10  50\n",
      " 15  59\n"
     ]
    }
   ],
   "source": [
    "#Table of Celcius to Fahrenheight Convertion\n",
    "cd=[-10,-5,0,5,10,15]; index=0\n",
    "print(\"  C   F\")\n",
    "while index < len(cd):\n",
    "    C=cd[index]\n",
    "    F=(9.0/5)*C+32\n",
    "    print(\"%3d %3.lf\"%(C,F))\n",
    "    index +=1"
   ]
  },
  {
   "cell_type": "code",
   "execution_count": 8,
   "id": "41d3cb84",
   "metadata": {},
   "outputs": [
    {
     "name": "stdout",
     "output_type": "stream",
     "text": [
      "ege is 20 years old.\n",
      "ibo is 21 years old.\n",
      "tahir is 22 years old.\n"
     ]
    }
   ],
   "source": [
    "#name and age table\n",
    "names=[\"ege\",\"ibo\",\"tahir\"]\n",
    "ages=[20,21,22]\n",
    "index=0\n",
    "while index <len(names):\n",
    "    print(names[index], \"is\", ages[index],\"years old.\")\n",
    "    index+=1"
   ]
  },
  {
   "cell_type": "code",
   "execution_count": null,
   "id": "b9c2cff6",
   "metadata": {},
   "outputs": [],
   "source": []
  }
 ],
 "metadata": {
  "kernelspec": {
   "display_name": "Python 3 (ipykernel)",
   "language": "python",
   "name": "python3"
  },
  "language_info": {
   "codemirror_mode": {
    "name": "ipython",
    "version": 3
   },
   "file_extension": ".py",
   "mimetype": "text/x-python",
   "name": "python",
   "nbconvert_exporter": "python",
   "pygments_lexer": "ipython3",
   "version": "3.9.12"
  }
 },
 "nbformat": 4,
 "nbformat_minor": 5
}
