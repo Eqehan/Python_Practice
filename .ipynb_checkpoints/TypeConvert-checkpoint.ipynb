{
 "cells": [
  {
   "cell_type": "code",
   "execution_count": 1,
   "id": "9ddb3c4d",
   "metadata": {},
   "outputs": [
    {
     "data": {
      "text/plain": [
       "int"
      ]
     },
     "execution_count": 1,
     "metadata": {},
     "output_type": "execute_result"
    }
   ],
   "source": [
    "type(66)"
   ]
  },
  {
   "cell_type": "code",
   "execution_count": 3,
   "id": "d03a2297",
   "metadata": {},
   "outputs": [
    {
     "data": {
      "text/plain": [
       "66.0"
      ]
     },
     "execution_count": 3,
     "metadata": {},
     "output_type": "execute_result"
    }
   ],
   "source": [
    "a=66\n",
    "flo = float(a)\n",
    "flo"
   ]
  },
  {
   "cell_type": "code",
   "execution_count": 4,
   "id": "dd704394",
   "metadata": {},
   "outputs": [
    {
     "data": {
      "text/plain": [
       "390"
      ]
     },
     "execution_count": 4,
     "metadata": {},
     "output_type": "execute_result"
    }
   ],
   "source": [
    "int(390.8)"
   ]
  },
  {
   "cell_type": "code",
   "execution_count": 5,
   "id": "1dbb303f",
   "metadata": {},
   "outputs": [
    {
     "name": "stdout",
     "output_type": "stream",
     "text": [
      "data type of a=  <class 'float'>\n"
     ]
    }
   ],
   "source": [
    "#add operation between int and float shows float result \n",
    "a= 70.2+7\n",
    "print(\"data type of a= \", type(a))"
   ]
  },
  {
   "cell_type": "code",
   "execution_count": 7,
   "id": "c17474b3",
   "metadata": {},
   "outputs": [
    {
     "data": {
      "text/plain": [
       "12"
      ]
     },
     "execution_count": 7,
     "metadata": {},
     "output_type": "execute_result"
    }
   ],
   "source": [
    "#you can convert string to int\n",
    "int(\"12\")"
   ]
  },
  {
   "cell_type": "code",
   "execution_count": 8,
   "id": "2b973e5a",
   "metadata": {},
   "outputs": [
    {
     "data": {
      "text/plain": [
       "str"
      ]
     },
     "execution_count": 8,
     "metadata": {},
     "output_type": "execute_result"
    }
   ],
   "source": [
    "my_str = str(12)\n",
    "type(my_str)"
   ]
  },
  {
   "cell_type": "code",
   "execution_count": 11,
   "id": "347e676c",
   "metadata": {},
   "outputs": [
    {
     "name": "stdout",
     "output_type": "stream",
     "text": [
      "egehan has 5345.123points\n"
     ]
    }
   ],
   "source": [
    "#you can write values with str's like this\n",
    "my_float=5345.123\n",
    "print(\"egehan has \" + str(my_float) + \"points\")"
   ]
  },
  {
   "cell_type": "code",
   "execution_count": 12,
   "id": "afd90211",
   "metadata": {},
   "outputs": [
    {
     "name": "stdout",
     "output_type": "stream",
     "text": [
      "CongratsEgehan! You just wrote 50 lines of code.\n"
     ]
    }
   ],
   "source": [
    "#Using values with Str  ***\n",
    "user=\"Egehan\"; lines=50\n",
    "print(\"Congrats\"+user+\"! You just wrote \"+str(lines)+\" lines of code.\")"
   ]
  },
  {
   "cell_type": "code",
   "execution_count": 13,
   "id": "66882e9e",
   "metadata": {},
   "outputs": [
    {
     "name": "stdout",
     "output_type": "stream",
     "text": [
      "9\n",
      "19\n"
     ]
    }
   ],
   "source": [
    "number= int(input())     \n",
    "#must convert to int, input always str\n",
    "plus_ten=number +10\n",
    "print(plus_ten)"
   ]
  },
  {
   "cell_type": "code",
   "execution_count": 14,
   "id": "0d8cb453",
   "metadata": {},
   "outputs": [
    {
     "name": "stdout",
     "output_type": "stream",
     "text": [
      "Total value of adding ten = 19\n"
     ]
    }
   ],
   "source": [
    "print(\"Total value of adding ten = \"+str(plus_ten))"
   ]
  },
  {
   "cell_type": "code",
   "execution_count": 15,
   "id": "37d44fc7",
   "metadata": {},
   "outputs": [
    {
     "name": "stdout",
     "output_type": "stream",
     "text": [
      "+10 and +20 of number= 19 and 29\n"
     ]
    }
   ],
   "source": [
    "#add values to print \n",
    "plus_tw= number+20\n",
    "print(\"+10 and +20 of number= %s and %s\" %(plus_ten,plus_tw))"
   ]
  },
  {
   "cell_type": "code",
   "execution_count": null,
   "id": "30ced432",
   "metadata": {},
   "outputs": [],
   "source": []
  }
 ],
 "metadata": {
  "kernelspec": {
   "display_name": "Python 3 (ipykernel)",
   "language": "python",
   "name": "python3"
  },
  "language_info": {
   "codemirror_mode": {
    "name": "ipython",
    "version": 3
   },
   "file_extension": ".py",
   "mimetype": "text/x-python",
   "name": "python",
   "nbconvert_exporter": "python",
   "pygments_lexer": "ipython3",
   "version": "3.9.12"
  }
 },
 "nbformat": 4,
 "nbformat_minor": 5
}
