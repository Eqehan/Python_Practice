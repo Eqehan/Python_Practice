{
 "cells": [
  {
   "cell_type": "code",
   "execution_count": 3,
   "id": "44727603",
   "metadata": {},
   "outputs": [
    {
     "name": "stdout",
     "output_type": "stream",
     "text": [
      "10 is less tahn 15\n"
     ]
    }
   ],
   "source": [
    "if 10<15:\n",
    "    print(\"10 is less tahn 15\")"
   ]
  },
  {
   "cell_type": "code",
   "execution_count": 4,
   "id": "fa9c7c78",
   "metadata": {},
   "outputs": [
    {
     "name": "stdout",
     "output_type": "stream",
     "text": [
      "46 is less than 45\n"
     ]
    }
   ],
   "source": [
    "if 46>40+5:\n",
    "    print(\"46 is less than 45\")"
   ]
  },
  {
   "cell_type": "code",
   "execution_count": 5,
   "id": "82bd968d",
   "metadata": {},
   "outputs": [
    {
     "name": "stdout",
     "output_type": "stream",
     "text": [
      "x greater than y\n"
     ]
    }
   ],
   "source": [
    "x=65;y=75\n",
    "if x<y:\n",
    "    print(\"x greater than y\")"
   ]
  },
  {
   "cell_type": "code",
   "execution_count": 8,
   "id": "6581ea01",
   "metadata": {},
   "outputs": [
    {
     "name": "stdout",
     "output_type": "stream",
     "text": [
      "yes, it is\n"
     ]
    }
   ],
   "source": [
    "my_str = \"hello python world\"\n",
    "if \"python\" in my_str:\n",
    "    print(\"yes, it is\")"
   ]
  },
  {
   "cell_type": "code",
   "execution_count": 9,
   "id": "e18db570",
   "metadata": {},
   "outputs": [],
   "source": [
    "if \"pythonworld\" in my_str:\n",
    "    print(\"yes, it is\")\n",
    "#did not work, bcs it contains space"
   ]
  },
  {
   "cell_type": "code",
   "execution_count": 10,
   "id": "85636b4e",
   "metadata": {},
   "outputs": [
    {
     "name": "stdout",
     "output_type": "stream",
     "text": [
      "yes, it is\n"
     ]
    }
   ],
   "source": [
    "if \"python world\" in my_str:\n",
    "    print(\"yes, it is\")"
   ]
  },
  {
   "cell_type": "code",
   "execution_count": 11,
   "id": "c979d0dc",
   "metadata": {},
   "outputs": [
    {
     "name": "stdout",
     "output_type": "stream",
     "text": [
      "true\n"
     ]
    }
   ],
   "source": [
    "std=[\"ege\",\"ibo\",\"tahir\"]\n",
    "if \"ege\" in std:\n",
    "    print(\"true\")"
   ]
  },
  {
   "cell_type": "code",
   "execution_count": null,
   "id": "76284ff2",
   "metadata": {},
   "outputs": [],
   "source": []
  }
 ],
 "metadata": {
  "kernelspec": {
   "display_name": "Python 3 (ipykernel)",
   "language": "python",
   "name": "python3"
  },
  "language_info": {
   "codemirror_mode": {
    "name": "ipython",
    "version": 3
   },
   "file_extension": ".py",
   "mimetype": "text/x-python",
   "name": "python",
   "nbconvert_exporter": "python",
   "pygments_lexer": "ipython3",
   "version": "3.9.12"
  }
 },
 "nbformat": 4,
 "nbformat_minor": 5
}
