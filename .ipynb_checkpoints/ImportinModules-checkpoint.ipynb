{
 "cells": [
  {
   "cell_type": "code",
   "execution_count": 2,
   "id": "5c702bd5",
   "metadata": {},
   "outputs": [
    {
     "name": "stdout",
     "output_type": "stream",
     "text": [
      "\n",
      "Please wait a moment while I gather a list of all available modules...\n",
      "\n"
     ]
    },
    {
     "name": "stderr",
     "output_type": "stream",
     "text": [
      "WARNING: AstropyDeprecationWarning: The private astropy._erfa module has been made into its own package, pyerfa, which is a dependency of astropy and can be imported directly using \"import erfa\" [astropy._erfa]\n",
      "C:\\Users\\esayege\\Anaconda3\\lib\\site-packages\\nltk\\twitter\\__init__.py:20: UserWarning: The twython library has not been installed. Some functionality from the twitter package will not be available.\n",
      "  warnings.warn(\n",
      "C:\\Users\\esayege\\Anaconda3\\lib\\site-packages\\_distutils_hack\\__init__.py:30: UserWarning: Setuptools is replacing distutils.\n",
      "  warnings.warn(\"Setuptools is replacing distutils.\")\n"
     ]
    },
    {
     "name": "stdout",
     "output_type": "stream",
     "text": [
      "Update LANGUAGE_CODES (inside config/base.py) if a new translation has been added to Spyder\n"
     ]
    },
    {
     "name": "stderr",
     "output_type": "stream",
     "text": [
      "No QCoreApplication instance found. Application patches not applied. You have to call load_stylesheet function after instantiation of QApplication to take effect. \n",
      "C:\\Users\\esayege\\Anaconda3\\lib\\pkgutil.py:108: VisibleDeprecationWarning:\n",
      "\n",
      "zmq.eventloop.minitornado is deprecated in pyzmq 14.0 and will be removed.\n",
      "    Install tornado itself to use zmq with the tornado IOLoop.\n",
      "    \n",
      "\n"
     ]
    },
    {
     "name": "stdout",
     "output_type": "stream",
     "text": [
      "Cython              colorsys            mmapfile            sniffio\n",
      "IPython             commctrl            mmsystem            snowballstemmer\n",
      "OpenSSL             compileall          mock                socket\n",
      "PIL                 comtypes            modulefinder        socketserver\n",
      "PyQt5               concurrent          mpmath              socks\n",
      "TBB                 conda               msgpack             sockshandler\n",
      "__future__          conda_build         msilib              sortedcollections\n",
      "_abc                conda_content_trust msvcrt              sortedcontainers\n",
      "_aix_support        conda_env           multidict           soupsieve\n",
      "_argon2_cffi_bindings conda_pack          multipledispatch    sphinx\n",
      "_ast                conda_package_handling multiprocessing     spyder\n",
      "_asyncio            conda_token         munkres             spyder_kernels\n",
      "_bisect             conda_verify        mypy_extensions     sqlalchemy\n",
      "_black_version      configparser        nacl                sqlite3\n",
      "_blake2             constantly          navigator_updater   sre_compile\n",
      "_bootlocale         contextlib          nbclassic           sre_constants\n",
      "_bootsubprocess     contextvars         nbclient            sre_parse\n",
      "_bz2                cookiecutter        nbconvert           ssl\n",
      "_cffi_backend       copy                nbformat            sspi\n",
      "_codecs             copyreg             nest_asyncio        sspicon\n",
      "_codecs_cn          crypt               netbios             stack_data\n",
      "_codecs_hk          cryptography        netrc               stat\n",
      "_codecs_iso2022     cssselect           networkx            statistics\n",
      "_codecs_jp          csv                 nltk                statsmodels\n",
      "_codecs_kr          ctypes              nntplib             string\n",
      "_codecs_tw          curl                nose                stringprep\n",
      "_collections        curses              notebook            struct\n",
      "_collections_abc    cwp                 nt                  subprocess\n",
      "_compat_pickle      cycler              ntpath              sunau\n",
      "_compression        cython              ntsecuritycon       symbol\n",
      "_contextvars        cytoolz             nturl2path          sympy\n",
      "_csv                daal4py             numba               symtable\n",
      "_ctypes             dask                numbergen           sys\n",
      "_ctypes_test        dataclasses         numbers             sysconfig\n",
      "_datetime           datashader          numexpr             tables\n",
      "_decimal            datashape           numpy               tabnanny\n",
      "_distutils_hack     datetime            numpydoc            tabulate\n",
      "_elementtree        dateutil            odbc                tarfile\n",
      "_functools          dbi                 olefile             tbb\n",
      "_hashlib            dbm                 onedal              tblib\n",
      "_heapq              dde                 opcode              telnetlib\n",
      "_imp                debugpy             openpyxl            tempfile\n",
      "_io                 decimal             operator            tenacity\n",
      "_json               decorator           optparse            terminado\n",
      "_locale             defusedxml          os                  test\n",
      "_lsprof             diff_match_patch    packaging           test_pycosat\n",
      "_lzma               difflib             pandas              testpath\n",
      "_markupbase         dis                 pandocfilters       text_unidecode\n",
      "_md5                distributed         panel               textdistance\n",
      "_msi                distutils           param               textwrap\n",
      "_multibytecodec     doctest             paramiko            this\n",
      "_multiprocessing    docutils            parsel              threading\n",
      "_nsis               email               parser              threadpoolctl\n",
      "_opcode             encodings           parso               three_merge\n",
      "_operator           ensurepip           partd               tifffile\n",
      "_osx_support        entrypoints         past                time\n",
      "_overlapped         enum                pathlib             timeit\n",
      "_peg_parser         erfa                pathspec            timer\n",
      "_pickle             errno               patsy               tinycss\n",
      "_plotly_future_     et_xmlfile          pdb                 tkinter\n",
      "_plotly_utils       executing           pep8                tldextract\n",
      "_py_abc             fastjsonschema      perfmon             tlz\n",
      "_pydecimal          faulthandler        pexpect             token\n",
      "_pyio               filecmp             pickle              tokenize\n",
      "_pyrsistent_version fileinput           pickleshare         toml\n",
      "_pytest             filelock            pickletools         tomli\n",
      "_queue              flake8              pip                 toolz\n",
      "_random             flask               pipes               tornado\n",
      "_sha1               fnmatch             pkg_resources       tqdm\n",
      "_sha256             fontTools           pkginfo             trace\n",
      "_sha3               formatter           pkgutil             traceback\n",
      "_sha512             fractions           platform            tracemalloc\n",
      "_signal             frozenlist          plistlib            traitlets\n",
      "_sitebuiltins       fsspec              plotly              tty\n",
      "_socket             ftplib              pluggy              turtle\n",
      "_sqlite3            functools           poplib              turtledemo\n",
      "_sre                future              posixpath           twisted\n",
      "_ssl                gc                  poyo                typed_ast\n",
      "_stat               genericpath         pprint              types\n",
      "_statistics         gensim              profile             typing\n",
      "_string             getopt              prometheus_client   typing_extensions\n",
      "_strptime           getpass             prompt_toolkit      ujson\n",
      "_struct             gettext             protego             unicodedata\n",
      "_symtable           glob                pstats              unidecode\n",
      "_system_path        glob2               psutil              unittest\n",
      "_testbuffer         google_crc32c       pty                 urllib\n",
      "_testcapi           graphlib            ptyprocess          urllib3\n",
      "_testconsole        greenlet            pure_eval           uu\n",
      "_testimportmultiple grpc                pvectorc            uuid\n",
      "_testinternalcapi   gzip                py                  venv\n",
      "_testmultiphase     h5py                py_compile          w3lib\n",
      "_thread             hamcrest            pyasn1              warnings\n",
      "_threading_local    hashlib             pyasn1_modules      watchdog\n",
      "_tkinter            heapdict            pyclbr              wave\n",
      "_tracemalloc        heapq               pycodestyle         wcwidth\n",
      "_uuid               hmac                pycosat             weakref\n",
      "_warnings           holoviews           pycparser           webbrowser\n",
      "_weakref            html                pyct                webencodings\n",
      "_weakrefset         http                pycurl              websocket\n",
      "_win32sysloader     hvplot              pydispatch          werkzeug\n",
      "_winapi             hyperlink           pydoc               wheel\n",
      "_winxptheme         idlelib             pydoc_data          widgetsnbextension\n",
      "_xxsubinterpreters  idna                pydocstyle          win2kras\n",
      "_yaml               imagecodecs         pyexpat             win32api\n",
      "_zoneinfo           imageio             pyflakes            win32clipboard\n",
      "abc                 imagesize           pygments            win32com\n",
      "adodbapi            imaplib             pylab               win32con\n",
      "afxres              imghdr              pylint              win32console\n",
      "aifc                imp                 pyls_spyder         win32cred\n",
      "aiohttp             importlib           pylsp               win32crypt\n",
      "aiosignal           importlib_metadata  pylsp_black         win32cryptcon\n",
      "alabaster           incremental         pylsp_jsonrpc       win32ctypes\n",
      "anaconda_navigator  inflection          pyodbc              win32event\n",
      "anaconda_project    iniconfig           pyparsing           win32evtlog\n",
      "antigravity         inspect             pyreadline          win32evtlogutil\n",
      "anyio               intake              pyrsistent          win32file\n",
      "appdirs             intervaltree        pytest              win32gui\n",
      "argon2              io                  pythoncom           win32gui_struct\n",
      "argparse            ipaddress           pytz                win32help\n",
      "array               ipykernel           pyviz_comms         win32inet\n",
      "arrow               ipykernel_launcher  pywin               win32inetcon\n",
      "ast                 ipython_genutils    pywin32_bootstrap   win32job\n",
      "astroid             ipywidgets          pywin32_testutil    win32lz\n",
      "astropy             isapi               pywintypes          win32net\n",
      "asttokens           isort               pywt                win32netcon\n",
      "async_timeout       isympy              pyximport           win32pdh\n",
      "asynchat            itemadapter         qdarkstyle          win32pdhquery\n",
      "asyncio             itemloaders         qstylizer           win32pdhutil\n",
      "asyncore            itertools           qtawesome           win32pipe\n",
      "atexit              itsdangerous        qtconsole           win32print\n",
      "atomicwrites        jdcal               qtpy                win32process\n",
      "attr                jedi                queue               win32profile\n",
      "attrs               jinja2              queuelib            win32ras\n",
      "audioop             jinja2_time         quopri              win32rcparser\n",
      "automat             jmespath            random              win32security\n",
      "autopep8            joblib              rasutil             win32service\n",
      "babel               json                re                  win32serviceutil\n",
      "backcall            json5               readline            win32timezone\n",
      "backports           jsonschema          regcheck            win32trace\n",
      "base64              jupyter             regex               win32traceutil\n",
      "bcrypt              jupyter_client      regutil             win32transaction\n",
      "bdb                 jupyter_console     repo_cli            win32ts\n",
      "binaryornot         jupyter_core        reprlib             win32ui\n",
      "binascii            jupyter_server      requests            win32uiole\n",
      "binhex              jupyterlab          requests_file       win32verstamp\n",
      "binstar_client      jupyterlab_plotly   rlcompleter         win32wnet\n",
      "bisect              jupyterlab_pygments rope                win_inet_pton\n",
      "bitarray            jupyterlab_server   rsa                 win_unicode_console\n",
      "bkcharts            jupyterlab_widgets  rtree               wincertstore\n",
      "black               jwt                 ruamel_yaml         winerror\n",
      "blackd              keyring             run                 winioctlcon\n",
      "bleach              keyword             runpy               winnt\n",
      "blib2to3            kiwisolver          s3transfer          winperf\n",
      "bokeh               lazy_object_proxy   sched               winpty\n",
      "boto3               lib2to3             scipy               winreg\n",
      "botocore            libarchive          scrapy              winsound\n",
      "bottleneck          libfuturize         seaborn             winxpgui\n",
      "brotli              libpasteurize       secrets             winxptheme\n",
      "bs4                 lief                select              wrapt\n",
      "builtins            linecache           selectors           wsgiref\n",
      "bz2                 llvmlite            send2trash          xarray\n",
      "cProfile            locale              service_identity    xdrlib\n",
      "cachetools          locket              servicemanager      xlrd\n",
      "calendar            logging             setuptools          xlsxwriter\n",
      "certifi             lxml                shelve              xlwings\n",
      "cffi                lzma                shlex               xml\n",
      "cgi                 mailbox             shutil              xmlrpc\n",
      "cgitb               mailcap             signal              xxsubtype\n",
      "chardet             markdown            sip                 yaml\n",
      "charset_normalizer  markupsafe          sipconfig           yapf\n",
      "chunk               marshal             sipdistutils        yapftests\n",
      "click               math                site                yarl\n",
      "cloudpickle         matplotlib          six                 zict\n",
      "clyent              matplotlib_inline   skimage             zipapp\n",
      "cmath               mccabe              sklearn             zipfile\n",
      "cmd                 menuinst            sklearnex           zipimport\n",
      "code                mimetypes           slugify             zipp\n",
      "codecs              mistune             smart_open          zlib\n",
      "codeop              mkl                 smtpd               zmq\n",
      "collections         mkl_fft             smtplib             zoneinfo\n",
      "colorama            mkl_random          snappy              zope\n",
      "colorcet            mmap                sndhdr              \n",
      "\n",
      "Enter any module name to get more help.  Or, type \"modules spam\" to search\n",
      "for modules whose name or summary contain the string \"spam\".\n",
      "\n"
     ]
    }
   ],
   "source": [
    "help(\"modules\")"
   ]
  },
  {
   "cell_type": "code",
   "execution_count": 3,
   "id": "4c9917a7",
   "metadata": {},
   "outputs": [],
   "source": [
    "# Import \n",
    "import math"
   ]
  },
  {
   "cell_type": "code",
   "execution_count": 5,
   "id": "13a439fe",
   "metadata": {},
   "outputs": [
    {
     "name": "stdout",
     "output_type": "stream",
     "text": [
      "Pi: 3.141592653589793\n"
     ]
    }
   ],
   "source": [
    "print(\"Pi:\",math.pi)"
   ]
  },
  {
   "cell_type": "code",
   "execution_count": 6,
   "id": "f94226cb",
   "metadata": {},
   "outputs": [
    {
     "name": "stdout",
     "output_type": "stream",
     "text": [
      "euler:  2.718281828459045\n"
     ]
    }
   ],
   "source": [
    "print(\"euler: \",math.e)"
   ]
  },
  {
   "cell_type": "code",
   "execution_count": 7,
   "id": "4fc4d026",
   "metadata": {},
   "outputs": [
    {
     "data": {
      "text/plain": [
       "9"
      ]
     },
     "execution_count": 7,
     "metadata": {},
     "output_type": "execute_result"
    }
   ],
   "source": [
    "math.ceil(8.3)"
   ]
  },
  {
   "cell_type": "code",
   "execution_count": 8,
   "id": "a7784dd1",
   "metadata": {},
   "outputs": [
    {
     "data": {
      "text/plain": [
       "8"
      ]
     },
     "execution_count": 8,
     "metadata": {},
     "output_type": "execute_result"
    }
   ],
   "source": [
    "math.floor(8.9)"
   ]
  },
  {
   "cell_type": "code",
   "execution_count": 9,
   "id": "5b084253",
   "metadata": {},
   "outputs": [
    {
     "data": {
      "text/plain": [
       "256.0"
      ]
     },
     "execution_count": 9,
     "metadata": {},
     "output_type": "execute_result"
    }
   ],
   "source": [
    "math.pow(2,8)"
   ]
  },
  {
   "cell_type": "code",
   "execution_count": 10,
   "id": "05923981",
   "metadata": {},
   "outputs": [
    {
     "data": {
      "text/plain": [
       "4"
      ]
     },
     "execution_count": 10,
     "metadata": {},
     "output_type": "execute_result"
    }
   ],
   "source": [
    "int(math.sqrt(24))"
   ]
  },
  {
   "cell_type": "code",
   "execution_count": 11,
   "id": "38e46015",
   "metadata": {},
   "outputs": [],
   "source": [
    "import os"
   ]
  },
  {
   "cell_type": "code",
   "execution_count": 12,
   "id": "04b7b0f9",
   "metadata": {},
   "outputs": [
    {
     "data": {
      "text/plain": [
       "'C:\\\\Users\\\\esayege\\\\demos'"
      ]
     },
     "execution_count": 12,
     "metadata": {},
     "output_type": "execute_result"
    }
   ],
   "source": [
    "os.getcwd()"
   ]
  },
  {
   "cell_type": "code",
   "execution_count": 14,
   "id": "0f84caa5",
   "metadata": {},
   "outputs": [
    {
     "data": {
      "text/plain": [
       "environ{'ALLUSERSPROFILE': 'C:\\\\ProgramData',\n",
       "        'APPDATA': 'C:\\\\Users\\\\esayege\\\\AppData\\\\Roaming',\n",
       "        'ATERNITY_AGENT_HOME': 'C:\\\\Program Files (x86)\\\\Aternity Information Systems\\\\Agent\\\\',\n",
       "        'COMMONPROGRAMFILES': 'C:\\\\Program Files\\\\Common Files',\n",
       "        'COMMONPROGRAMFILES(X86)': 'C:\\\\Program Files (x86)\\\\Common Files',\n",
       "        'COMMONPROGRAMW6432': 'C:\\\\Program Files\\\\Common Files',\n",
       "        'COMPUTERNAME': 'E-5CG2280F5W',\n",
       "        'COMSPEC': 'C:\\\\Windows\\\\system32\\\\cmd.exe',\n",
       "        'CONDA_DEFAULT_ENV': 'base',\n",
       "        'CONDA_EXE': 'C:\\\\Users\\\\esayege\\\\Anaconda3\\\\Scripts\\\\conda.exe',\n",
       "        'CONDA_PROMPT_MODIFIER': '(base) ',\n",
       "        'CONDA_PYTHON_EXE': 'C:\\\\Users\\\\esayege\\\\Anaconda3\\\\python.exe',\n",
       "        'CONDA_SHLVL': '1',\n",
       "        'DRIVERDATA': 'C:\\\\Windows\\\\System32\\\\Drivers\\\\DriverData',\n",
       "        'FPS_BROWSER_APP_PROFILE_STRING': 'Internet Explorer',\n",
       "        'FPS_BROWSER_USER_PROFILE_STRING': 'Default',\n",
       "        'HOMEDRIVE': 'C:',\n",
       "        'HOMEPATH': '\\\\Users\\\\esayege',\n",
       "        'LOCALAPPDATA': 'C:\\\\Users\\\\esayege\\\\AppData\\\\Local',\n",
       "        'LOGONSERVER': '\\\\\\\\E-5CG2280F5W',\n",
       "        'NUMBER_OF_PROCESSORS': '8',\n",
       "        'ONEDRIVE': 'C:\\\\Users\\\\esayege\\\\OneDrive - Ericsson',\n",
       "        'ONEDRIVECOMMERCIAL': 'C:\\\\Users\\\\esayege\\\\OneDrive - Ericsson',\n",
       "        'OS': 'Windows_NT',\n",
       "        'PATH': 'C:\\\\Users\\\\esayege\\\\Anaconda3\\\\Lib\\\\site-packages\\\\daal4py\\\\oneapi;C:\\\\Users\\\\esayege\\\\Anaconda3\\\\lib\\\\site-packages\\\\daal4py\\\\oneapi;C:\\\\Users\\\\esayege\\\\Anaconda3;C:\\\\Users\\\\esayege\\\\Anaconda3\\\\Library\\\\mingw-w64\\\\bin;C:\\\\Users\\\\esayege\\\\Anaconda3\\\\Library\\\\usr\\\\bin;C:\\\\Users\\\\esayege\\\\Anaconda3\\\\Library\\\\bin;C:\\\\Users\\\\esayege\\\\Anaconda3\\\\Scripts;C:\\\\Users\\\\esayege\\\\Anaconda3\\\\bin;C:\\\\Users\\\\esayege\\\\Anaconda3\\\\condabin;C:\\\\Users\\\\esayege\\\\Anaconda3;C:\\\\Users\\\\esayege\\\\Anaconda3\\\\Library\\\\mingw-w64\\\\bin;C:\\\\Users\\\\esayege\\\\Anaconda3\\\\Library\\\\usr\\\\bin;C:\\\\Users\\\\esayege\\\\Anaconda3\\\\Library\\\\bin;C:\\\\Users\\\\esayege\\\\Anaconda3\\\\Scripts;C:\\\\Windows\\\\system32;C:\\\\Windows;C:\\\\Windows\\\\System32\\\\Wbem;C:\\\\Windows\\\\System32\\\\WindowsPowerShell\\\\v1.0;C:\\\\Windows\\\\System32\\\\OpenSSH;C:\\\\Program Files\\\\dotnet;C:\\\\Program Files\\\\Microsoft VS Code\\\\bin;C:\\\\Users\\\\esayege\\\\AppData\\\\Local\\\\Microsoft\\\\WindowsApps;.;C:\\\\Users\\\\esayege\\\\Anaconda3\\\\Library\\\\bin;C:\\\\Users\\\\esayege\\\\Anaconda3\\\\Library\\\\bin;C:\\\\Users\\\\esayege\\\\Anaconda3\\\\lib\\\\site-packages\\\\llvmlite\\\\binding',\n",
       "        'PATHEXT': '.COM;.EXE;.BAT;.CMD;.VBS;.VBE;.JS;.JSE;.WSF;.WSH;.MSC',\n",
       "        'PROCESSOR_ARCHITECTURE': 'AMD64',\n",
       "        'PROCESSOR_IDENTIFIER': 'Intel64 Family 6 Model 140 Stepping 1, GenuineIntel',\n",
       "        'PROCESSOR_LEVEL': '6',\n",
       "        'PROCESSOR_REVISION': '8c01',\n",
       "        'PROGRAMDATA': 'C:\\\\ProgramData',\n",
       "        'PROGRAMFILES': 'C:\\\\Program Files',\n",
       "        'PROGRAMFILES(X86)': 'C:\\\\Program Files (x86)',\n",
       "        'PROGRAMW6432': 'C:\\\\Program Files',\n",
       "        'PROMPT': '(base) $P$G',\n",
       "        'PSMODULEPATH': 'C:\\\\Program Files\\\\WindowsPowerShell\\\\Modules;C:\\\\Windows\\\\system32\\\\WindowsPowerShell\\\\v1.0\\\\Modules',\n",
       "        'PUBLIC': 'C:\\\\Users\\\\Public',\n",
       "        'SESSIONNAME': 'Console',\n",
       "        'STEELCENTRAL_ATERNITY_AGENT_HOME': 'C:\\\\Program Files (x86)\\\\Aternity Information Systems\\\\Agent\\\\',\n",
       "        'SYSTEMDRIVE': 'C:',\n",
       "        'SYSTEMROOT': 'C:\\\\Windows',\n",
       "        'TEMP': 'C:\\\\Users\\\\esayege\\\\AppData\\\\Local\\\\Temp',\n",
       "        'TMP': 'C:\\\\Users\\\\esayege\\\\AppData\\\\Local\\\\Temp',\n",
       "        'USERDNSDOMAIN': 'ericsson.se',\n",
       "        'USERDOMAIN': 'ERICSSON',\n",
       "        'USERDOMAIN_ROAMINGPROFILE': 'ERICSSON',\n",
       "        'USERNAME': 'esayege',\n",
       "        'USERPROFILE': 'C:\\\\Users\\\\esayege',\n",
       "        'WINDIR': 'C:\\\\Windows',\n",
       "        'ZES_ENABLE_SYSMAN': '1',\n",
       "        '__PSLOCKDOWNPOLICY': '0',\n",
       "        'CONDA_PREFIX': 'C:\\\\Users\\\\esayege\\\\Anaconda3',\n",
       "        'CONDA_ROOT': 'C:\\\\Users\\\\esayege\\\\Anaconda3',\n",
       "        'PYDEVD_USE_FRAME_EVAL': 'NO',\n",
       "        'JPY_INTERRUPT_EVENT': '3496',\n",
       "        'IPY_INTERRUPT_EVENT': '3496',\n",
       "        'JPY_PARENT_PID': '3868',\n",
       "        'TERM': 'xterm-color',\n",
       "        'CLICOLOR': '1',\n",
       "        'PAGER': 'cat',\n",
       "        'GIT_PAGER': 'cat',\n",
       "        'MPLBACKEND': 'module://matplotlib_inline.backend_inline',\n",
       "        'QT_API': 'pyqt5',\n",
       "        'KMP_DUPLICATE_LIB_OK': 'True',\n",
       "        'KMP_INIT_AT_FORK': 'FALSE',\n",
       "        'LANG': 'en'}"
      ]
     },
     "execution_count": 14,
     "metadata": {},
     "output_type": "execute_result"
    }
   ],
   "source": [
    "os.environ"
   ]
  },
  {
   "cell_type": "code",
   "execution_count": 16,
   "id": "34bc1a70",
   "metadata": {},
   "outputs": [
    {
     "name": "stdout",
     "output_type": "stream",
     "text": [
      "User: esayege\n"
     ]
    }
   ],
   "source": [
    "user=os.environ[\"USERNAME\"]\n",
    "print(\"User:\",user)"
   ]
  },
  {
   "cell_type": "code",
   "execution_count": 17,
   "id": "28aa8fc5",
   "metadata": {},
   "outputs": [
    {
     "data": {
      "text/plain": [
       "['.ipynb_checkpoints',\n",
       " 'ArgumentPassingByReferences.ipynb',\n",
       " 'ArgumentPassingByValue.ipynb',\n",
       " 'assignments.ipynb',\n",
       " 'Basic_List_Operations.ipynb',\n",
       " 'Basic_Program.ipynb',\n",
       " 'BreaknPassinWhile.ipynb',\n",
       " 'BreakStatement.ipynb',\n",
       " 'change variables.ipynb',\n",
       " 'Comprehensions.ipynb',\n",
       " 'Conditions.ipynb',\n",
       " 'ContinueinWhile.ipynb',\n",
       " 'ContinueStateinFor.ipynb',\n",
       " 'creating_variables.ipynb',\n",
       " 'data_types.ipynb',\n",
       " 'DefaultArguments.ipynb',\n",
       " 'deneme1.ipynb',\n",
       " 'dictionary.ipynb',\n",
       " 'DictShallowCopy.ipynb',\n",
       " 'dicts_2.ipynb',\n",
       " 'firstcalculator.ipynb',\n",
       " 'funcs_in_strings.ipynb',\n",
       " 'funcs_n_methods_dictionary.ipynb',\n",
       " 'Functionsv1.ipynb',\n",
       " 'IfElse_Cplx.ipynb',\n",
       " 'ifelse_elif.ipynb',\n",
       " 'ifelse_elif_v2.ipynb',\n",
       " 'If_Statement.ipynb',\n",
       " 'If_State_Cplx.ipynb',\n",
       " 'ImportinModules.ipynb',\n",
       " 'InputArguments_Funcv2.ipynb',\n",
       " 'IntroToFor.ipynb',\n",
       " 'listdeepcopy.ipynb',\n",
       " 'lists.ipynb',\n",
       " 'LocalandGlobalVariables.ipynb',\n",
       " 'methods_nlists2.ipynb',\n",
       " 'Methods_n_Lists.ipynb',\n",
       " 'nested_conversation_lsit.ipynb',\n",
       " 'nested_lists.ipynb',\n",
       " 'PassStatementFor.ipynb',\n",
       " 'PositionalandKeywordArguments.ipynb',\n",
       " 'rangeFuncinFor.ipynb',\n",
       " 'ReturnValues_funcv3.ipynb',\n",
       " 'setCopy.ipynb',\n",
       " 'sets.ipynb',\n",
       " 'set_operations.ipynb',\n",
       " 'simple math.ipynb',\n",
       " 'slice_lists.ipynb',\n",
       " 'slicing_ops_strings.ipynb',\n",
       " 'strings_and_funcs_n_lists.ipynb',\n",
       " 'strings_lines.ipynb',\n",
       " 'tupleCopy.ipynb',\n",
       " 'Tuples.ipynb',\n",
       " 'tuple_immmutable.ipynb',\n",
       " 'type convert3.ipynb',\n",
       " 'Type Convertv2.ipynb',\n",
       " 'TypeConvert.ipynb',\n",
       " 'Untitled.ipynb',\n",
       " 'variableLengthArgs.ipynb',\n",
       " 'variables_bool.ipynb',\n",
       " 'WhileLoop.ipynb',\n",
       " 'WhilewithComplex.ipynb',\n",
       " 'words.ipynb']"
      ]
     },
     "execution_count": 17,
     "metadata": {},
     "output_type": "execute_result"
    }
   ],
   "source": [
    "os.listdir()"
   ]
  },
  {
   "cell_type": "code",
   "execution_count": 18,
   "id": "cdc95fc6",
   "metadata": {},
   "outputs": [],
   "source": [
    "cwd=os.getcwd()"
   ]
  },
  {
   "cell_type": "code",
   "execution_count": 19,
   "id": "991a8ce5",
   "metadata": {},
   "outputs": [
    {
     "data": {
      "text/plain": [
       "True"
      ]
     },
     "execution_count": 19,
     "metadata": {},
     "output_type": "execute_result"
    }
   ],
   "source": [
    "os.path.isdir(cwd)\n",
    "#It is verify your directory"
   ]
  },
  {
   "cell_type": "code",
   "execution_count": 20,
   "id": "81a97356",
   "metadata": {},
   "outputs": [],
   "source": [
    "import random"
   ]
  },
  {
   "cell_type": "code",
   "execution_count": 21,
   "id": "7728c2c1",
   "metadata": {},
   "outputs": [
    {
     "data": {
      "text/plain": [
       "0.05606968120268707"
      ]
     },
     "execution_count": 21,
     "metadata": {},
     "output_type": "execute_result"
    }
   ],
   "source": [
    "random.random()"
   ]
  },
  {
   "cell_type": "code",
   "execution_count": 23,
   "id": "8c3a725f",
   "metadata": {},
   "outputs": [
    {
     "data": {
      "text/plain": [
       "10"
      ]
     },
     "execution_count": 23,
     "metadata": {},
     "output_type": "execute_result"
    }
   ],
   "source": [
    "random.randint(0,10)"
   ]
  },
  {
   "cell_type": "code",
   "execution_count": 24,
   "id": "804d5c52",
   "metadata": {},
   "outputs": [
    {
     "data": {
      "text/plain": [
       "899.1"
      ]
     },
     "execution_count": 24,
     "metadata": {},
     "output_type": "execute_result"
    }
   ],
   "source": [
    "#Random choice from list \n",
    "my_list=[\"Egehan\",12,25,\"rose\",\"roy\",899.1]\n",
    "random.choice(my_list)"
   ]
  },
  {
   "cell_type": "code",
   "execution_count": 25,
   "id": "20be4916",
   "metadata": {},
   "outputs": [],
   "source": [
    "import datetime "
   ]
  },
  {
   "cell_type": "code",
   "execution_count": 27,
   "id": "ee6f3054",
   "metadata": {},
   "outputs": [
    {
     "data": {
      "text/plain": [
       "datetime.date(2022, 10, 5)"
      ]
     },
     "execution_count": 27,
     "metadata": {},
     "output_type": "execute_result"
    }
   ],
   "source": [
    "datetime.date.today()\n",
    "#datetime is module, date is namespace, today is function"
   ]
  },
  {
   "cell_type": "code",
   "execution_count": 29,
   "id": "dec151c4",
   "metadata": {},
   "outputs": [
    {
     "data": {
      "text/plain": [
       "datetime.datetime(2022, 10, 5, 9, 49, 52, 302830)"
      ]
     },
     "execution_count": 29,
     "metadata": {},
     "output_type": "execute_result"
    }
   ],
   "source": [
    "datetime.datetime.now()"
   ]
  },
  {
   "cell_type": "code",
   "execution_count": null,
   "id": "7e7a62ce",
   "metadata": {},
   "outputs": [],
   "source": []
  }
 ],
 "metadata": {
  "kernelspec": {
   "display_name": "Python 3 (ipykernel)",
   "language": "python",
   "name": "python3"
  },
  "language_info": {
   "codemirror_mode": {
    "name": "ipython",
    "version": 3
   },
   "file_extension": ".py",
   "mimetype": "text/x-python",
   "name": "python",
   "nbconvert_exporter": "python",
   "pygments_lexer": "ipython3",
   "version": "3.9.12"
  }
 },
 "nbformat": 4,
 "nbformat_minor": 5
}
