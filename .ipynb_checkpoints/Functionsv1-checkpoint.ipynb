{
 "cells": [
  {
   "cell_type": "code",
   "execution_count": 1,
   "id": "9aed3b6d",
   "metadata": {},
   "outputs": [],
   "source": [
    "# def = for defining fucntion\n",
    "\n",
    "def my_intro():\n",
    "    print(\"Egehan Sayan\")\n",
    "    print(\"0531 422 1011\")\n",
    "    print(\"Integration Engineer @Ericsson\")"
   ]
  },
  {
   "cell_type": "code",
   "execution_count": 2,
   "id": "a053471d",
   "metadata": {},
   "outputs": [
    {
     "name": "stdout",
     "output_type": "stream",
     "text": [
      "Egehan Sayan\n",
      "0531 422 1011\n",
      "Integration Engineer @Ericsson\n"
     ]
    }
   ],
   "source": [
    "my_intro()"
   ]
  },
  {
   "cell_type": "code",
   "execution_count": 3,
   "id": "047d6328",
   "metadata": {},
   "outputs": [
    {
     "name": "stdout",
     "output_type": "stream",
     "text": [
      "This is outside the func.\n",
      "Hello World!\n"
     ]
    }
   ],
   "source": [
    "def hello_world():\n",
    "    print(\"Hello World!\")\n",
    "print(\"This is outside the func.\")\n",
    "hello_world()"
   ]
  },
  {
   "cell_type": "code",
   "execution_count": 4,
   "id": "c7fb7d27",
   "metadata": {},
   "outputs": [
    {
     "ename": "IndentationError",
     "evalue": "expected an indented block (3822077534.py, line 2)",
     "output_type": "error",
     "traceback": [
      "\u001b[1;36m  Input \u001b[1;32mIn [4]\u001b[1;36m\u001b[0m\n\u001b[1;33m    print(\"this is wrong way\")\u001b[0m\n\u001b[1;37m    ^\u001b[0m\n\u001b[1;31mIndentationError\u001b[0m\u001b[1;31m:\u001b[0m expected an indented block\n"
     ]
    }
   ],
   "source": [
    "def will_not_work():\n",
    "print(\"this is wrong way\")"
   ]
  },
  {
   "cell_type": "code",
   "execution_count": 5,
   "id": "f87f9596",
   "metadata": {},
   "outputs": [
    {
     "name": "stdout",
     "output_type": "stream",
     "text": [
      "this is right way\n",
      "well, 10 is greater\n"
     ]
    }
   ],
   "source": [
    "def will_work():\n",
    "    print(\"this is right way\")\n",
    "    if 10>5:\n",
    "        print(\"well, 10 is greater\")\n",
    "will_work()"
   ]
  },
  {
   "cell_type": "code",
   "execution_count": 7,
   "id": "e84c2e50",
   "metadata": {},
   "outputs": [
    {
     "name": "stdout",
     "output_type": "stream",
     "text": [
      "i is now  0\n",
      "i is now  1\n",
      "i is now  2\n",
      "i is now  3\n",
      "i is now  4\n",
      "i is now  5\n",
      "i is now  6\n",
      "i is now  7\n",
      "i is now  8\n",
      "i is now  9\n"
     ]
    }
   ],
   "source": [
    "def more_complex():\n",
    "    for i in range(10):\n",
    "        print(\"i is now \",i)\n",
    "more_complex()"
   ]
  },
  {
   "cell_type": "code",
   "execution_count": null,
   "id": "2e20e756",
   "metadata": {},
   "outputs": [],
   "source": [
    "#function names will start with underscore(_), \n",
    "#but can not start with numbers \"def 123function\" is wrong "
   ]
  },
  {
   "cell_type": "code",
   "execution_count": 8,
   "id": "8dc61dae",
   "metadata": {},
   "outputs": [],
   "source": [
    "def documented_func():\n",
    "    \"\"\"This Function does something as documented\"\"\"\n",
    "    print(\"Hello.\")\n",
    "#For documentation, you must use this scheme"
   ]
  },
  {
   "cell_type": "code",
   "execution_count": 9,
   "id": "d8f01948",
   "metadata": {},
   "outputs": [
    {
     "data": {
      "text/plain": [
       "<function __main__.documented_func()>"
      ]
     },
     "execution_count": 9,
     "metadata": {},
     "output_type": "execute_result"
    }
   ],
   "source": [
    "documented_func #shows metadata of func"
   ]
  },
  {
   "cell_type": "code",
   "execution_count": 10,
   "id": "4763122f",
   "metadata": {},
   "outputs": [
    {
     "data": {
      "text/plain": [
       "'This Function does something as documented'"
      ]
     },
     "execution_count": 10,
     "metadata": {},
     "output_type": "execute_result"
    }
   ],
   "source": [
    "#shows recorded Documentation to screen\n",
    "documented_func.__doc__ "
   ]
  },
  {
   "cell_type": "code",
   "execution_count": 12,
   "id": "dbe62a5e",
   "metadata": {},
   "outputs": [
    {
     "data": {
      "text/plain": [
       "<function __main__.documented_func()>"
      ]
     },
     "execution_count": 12,
     "metadata": {},
     "output_type": "execute_result"
    }
   ],
   "source": [
    "#you can describe the func to another func\n",
    "another_func=documented_func\n",
    "another_func"
   ]
  },
  {
   "cell_type": "code",
   "execution_count": 13,
   "id": "725d8ea5",
   "metadata": {},
   "outputs": [
    {
     "name": "stdout",
     "output_type": "stream",
     "text": [
      "Hello.\n"
     ]
    }
   ],
   "source": [
    "another_func()"
   ]
  },
  {
   "cell_type": "code",
   "execution_count": 14,
   "id": "82e9d7cb",
   "metadata": {},
   "outputs": [
    {
     "name": "stdout",
     "output_type": "stream",
     "text": [
      "my name is egehan\n",
      "my city is  bursa\n"
     ]
    }
   ],
   "source": [
    "name=\"egehan\";city=\"bursa\"\n",
    "#these are global variables\n",
    "def intro():\n",
    "    print(\"my name is\",name)\n",
    "    print(\"my city is \",city)\n",
    "intro()"
   ]
  },
  {
   "cell_type": "code",
   "execution_count": null,
   "id": "48c7441d",
   "metadata": {},
   "outputs": [],
   "source": []
  }
 ],
 "metadata": {
  "kernelspec": {
   "display_name": "Python 3 (ipykernel)",
   "language": "python",
   "name": "python3"
  },
  "language_info": {
   "codemirror_mode": {
    "name": "ipython",
    "version": 3
   },
   "file_extension": ".py",
   "mimetype": "text/x-python",
   "name": "python",
   "nbconvert_exporter": "python",
   "pygments_lexer": "ipython3",
   "version": "3.9.12"
  }
 },
 "nbformat": 4,
 "nbformat_minor": 5
}
