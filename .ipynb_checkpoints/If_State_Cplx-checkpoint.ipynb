{
 "cells": [
  {
   "cell_type": "code",
   "execution_count": 1,
   "id": "4f020902",
   "metadata": {},
   "outputs": [
    {
     "data": {
      "text/plain": [
       "{'ege': 100, 'ece': 67, 'onur': 82}"
      ]
     },
     "execution_count": 1,
     "metadata": {},
     "output_type": "execute_result"
    }
   ],
   "source": [
    "tuple_tch=(\"ibrahim\",\"hakkı\",\"tahir\",\"baris\") #tuple\n",
    "std_scr={\"ege\":100,\"ece\":67,\"onur\":82} #dict\n",
    "std_scr"
   ]
  },
  {
   "cell_type": "code",
   "execution_count": 3,
   "id": "01350d39",
   "metadata": {},
   "outputs": [
    {
     "name": "stdout",
     "output_type": "stream",
     "text": [
      "ege's score is:  100\n"
     ]
    }
   ],
   "source": [
    "if \"ege\" in std_scr:      #print score from dict\n",
    "    print(\"ege's score is: \",std_scr[\"ege\"])"
   ]
  },
  {
   "cell_type": "code",
   "execution_count": 4,
   "id": "b39e2590",
   "metadata": {},
   "outputs": [],
   "source": [
    "a =60; b=35"
   ]
  },
  {
   "cell_type": "code",
   "execution_count": 5,
   "id": "a1cc48f2",
   "metadata": {},
   "outputs": [
    {
     "name": "stdout",
     "output_type": "stream",
     "text": [
      "a is greater\n"
     ]
    }
   ],
   "source": [
    "if a>b and b<a:      #check multiple conditions\n",
    "    print(\"a is greater\")"
   ]
  },
  {
   "cell_type": "code",
   "execution_count": 6,
   "id": "3b489c4b",
   "metadata": {},
   "outputs": [
    {
     "name": "stdout",
     "output_type": "stream",
     "text": [
      "at least one true condition\n"
     ]
    }
   ],
   "source": [
    "if a>b or b<a:         #logical OR\n",
    "    print(\"at least one true condition\")"
   ]
  },
  {
   "cell_type": "code",
   "execution_count": 9,
   "id": "087f3623",
   "metadata": {},
   "outputs": [
    {
     "name": "stdout",
     "output_type": "stream",
     "text": [
      "at least one true condition\n"
     ]
    }
   ],
   "source": [
    "price= 716\n",
    "electric = False\n",
    "if price > 500 or electric:\n",
    "    print(\"at least one true condition\")"
   ]
  },
  {
   "cell_type": "code",
   "execution_count": 10,
   "id": "6e0117e1",
   "metadata": {},
   "outputs": [],
   "source": [
    "if price > 1000 or electric:\n",
    "    print(\"at least one true condition\")"
   ]
  },
  {
   "cell_type": "code",
   "execution_count": 11,
   "id": "6742f72e",
   "metadata": {},
   "outputs": [
    {
     "name": "stdout",
     "output_type": "stream",
     "text": [
      "both conditions false\n"
     ]
    }
   ],
   "source": [
    "if not price > 1000 or electric:\n",
    "    print(\"both conditions false\")"
   ]
  },
  {
   "cell_type": "code",
   "execution_count": 13,
   "id": "9d5cd958",
   "metadata": {},
   "outputs": [
    {
     "name": "stdout",
     "output_type": "stream",
     "text": [
      "falsee\n"
     ]
    }
   ],
   "source": [
    "if not a<b:\n",
    "    print(\"falsee\")"
   ]
  },
  {
   "cell_type": "code",
   "execution_count": null,
   "id": "d6f6b88d",
   "metadata": {},
   "outputs": [],
   "source": []
  }
 ],
 "metadata": {
  "kernelspec": {
   "display_name": "Python 3 (ipykernel)",
   "language": "python",
   "name": "python3"
  },
  "language_info": {
   "codemirror_mode": {
    "name": "ipython",
    "version": 3
   },
   "file_extension": ".py",
   "mimetype": "text/x-python",
   "name": "python",
   "nbconvert_exporter": "python",
   "pygments_lexer": "ipython3",
   "version": "3.9.12"
  }
 },
 "nbformat": 4,
 "nbformat_minor": 5
}
