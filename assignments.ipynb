{
 "cells": [
  {
   "cell_type": "code",
   "execution_count": 1,
   "id": "f4429daf",
   "metadata": {},
   "outputs": [
    {
     "name": "stdout",
     "output_type": "stream",
     "text": [
      "True\n"
     ]
    }
   ],
   "source": [
    "x = \"python\"\n",
    "y=\"python\"\n",
    "z=\"python\"\n",
    "c= x==y\n",
    "print(c)"
   ]
  },
  {
   "cell_type": "code",
   "execution_count": 2,
   "id": "34fd4122",
   "metadata": {},
   "outputs": [],
   "source": [
    "a=5; b=3.2;c=\"gello\""
   ]
  },
  {
   "cell_type": "code",
   "execution_count": 4,
   "id": "5665409e",
   "metadata": {},
   "outputs": [],
   "source": [
    "color_a = \"red\"\n",
    "color_b= \"blue\""
   ]
  },
  {
   "cell_type": "code",
   "execution_count": null,
   "id": "3c242354",
   "metadata": {},
   "outputs": [],
   "source": []
  }
 ],
 "metadata": {
  "kernelspec": {
   "display_name": "Python 3 (ipykernel)",
   "language": "python",
   "name": "python3"
  },
  "language_info": {
   "codemirror_mode": {
    "name": "ipython",
    "version": 3
   },
   "file_extension": ".py",
   "mimetype": "text/x-python",
   "name": "python",
   "nbconvert_exporter": "python",
   "pygments_lexer": "ipython3",
   "version": "3.9.12"
  }
 },
 "nbformat": 4,
 "nbformat_minor": 5
}
