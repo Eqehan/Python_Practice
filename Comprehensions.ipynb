{
 "cells": [
  {
   "cell_type": "code",
   "execution_count": 1,
   "id": "5547d1e8",
   "metadata": {},
   "outputs": [],
   "source": [
    "num=range(10)"
   ]
  },
  {
   "cell_type": "code",
   "execution_count": 3,
   "id": "6fee5f83",
   "metadata": {},
   "outputs": [
    {
     "data": {
      "text/plain": [
       "[0, 1, 4, 9, 16, 25, 36, 49, 64, 81]"
      ]
     },
     "execution_count": 3,
     "metadata": {},
     "output_type": "execute_result"
    }
   ],
   "source": [
    "[x * x for x in num]"
   ]
  },
  {
   "cell_type": "code",
   "execution_count": 5,
   "id": "f33b140f",
   "metadata": {},
   "outputs": [
    {
     "name": "stdout",
     "output_type": "stream",
     "text": [
      "['a', 'n', 'x', 'i', 'e', 't', 'y']\n"
     ]
    }
   ],
   "source": [
    "letters = [letter for letter in \"anxiety\"]\n",
    "print(letters)"
   ]
  },
  {
   "cell_type": "code",
   "execution_count": 7,
   "id": "b8fb8a78",
   "metadata": {},
   "outputs": [
    {
     "name": "stdout",
     "output_type": "stream",
     "text": [
      "['t', 'i', 'a', 'l']\n"
     ]
    }
   ],
   "source": [
    "list_word = [\"this\",\"is\",\"a\",\"list\"]\n",
    "items =[word[0] for word in list_word]\n",
    "print(items)"
   ]
  },
  {
   "cell_type": "code",
   "execution_count": 8,
   "id": "4b1fdb43",
   "metadata": {},
   "outputs": [
    {
     "data": {
      "text/plain": [
       "['T', 'I', 'A', 'L']"
      ]
     },
     "execution_count": 8,
     "metadata": {},
     "output_type": "execute_result"
    }
   ],
   "source": [
    "[word[0].upper() for word in list_word]"
   ]
  },
  {
   "cell_type": "code",
   "execution_count": 9,
   "id": "54e663b9",
   "metadata": {},
   "outputs": [
    {
     "data": {
      "text/plain": [
       "['THIS', 'IS', 'A', 'LIST']"
      ]
     },
     "execution_count": 9,
     "metadata": {},
     "output_type": "execute_result"
    }
   ],
   "source": [
    "[word.upper() for word in list_word]"
   ]
  },
  {
   "cell_type": "code",
   "execution_count": 10,
   "id": "e2d84502",
   "metadata": {},
   "outputs": [
    {
     "data": {
      "text/plain": [
       "[1, 9, 25, 49, 81]"
      ]
     },
     "execution_count": 10,
     "metadata": {},
     "output_type": "execute_result"
    }
   ],
   "source": [
    "[x*x for x in num if x %2 !=0]"
   ]
  },
  {
   "cell_type": "code",
   "execution_count": 11,
   "id": "6936507d",
   "metadata": {},
   "outputs": [
    {
     "name": "stdout",
     "output_type": "stream",
     "text": [
      "[0, 2, 4, 6, 8, 10, 12, 14, 16, 18]\n"
     ]
    }
   ],
   "source": [
    "number_list = [number for number in range(20) if number %2 ==0]\n",
    "print(number_list)"
   ]
  },
  {
   "cell_type": "code",
   "execution_count": 13,
   "id": "69ae885c",
   "metadata": {},
   "outputs": [
    {
     "name": "stdout",
     "output_type": "stream",
     "text": [
      "[1, 2, 3, 4, 5]\n"
     ]
    }
   ],
   "source": [
    "# find digits in whole string\n",
    "string=\"Hello 12345 WOrld!\"\n",
    "num=[int(x) for x in string if x.isdigit()]\n",
    "print(num)"
   ]
  },
  {
   "cell_type": "code",
   "execution_count": 17,
   "id": "17f0f873",
   "metadata": {},
   "outputs": [
    {
     "name": "stdout",
     "output_type": "stream",
     "text": [
      "['H', 'e', 'l', 'l', 'o', 'W', 'O', 'r', 'l', 'd']\n"
     ]
    }
   ],
   "source": [
    "# find letters in whole string\n",
    "alpha=[x for x in string if x.isalpha()]\n",
    "print(alpha)"
   ]
  },
  {
   "cell_type": "code",
   "execution_count": 19,
   "id": "883e95ad",
   "metadata": {},
   "outputs": [
    {
     "data": {
      "text/plain": [
       "[('red', 'pen'),\n",
       " ('blue', 'pen'),\n",
       " ('green', 'pen'),\n",
       " ('red', 'marker'),\n",
       " ('blue', 'marker'),\n",
       " ('green', 'marker'),\n",
       " ('red', 'ink'),\n",
       " ('blue', 'ink'),\n",
       " ('green', 'ink')]"
      ]
     },
     "execution_count": 19,
     "metadata": {},
     "output_type": "execute_result"
    }
   ],
   "source": [
    "sta=[\"pen\",\"marker\",\"ink\"]\n",
    "clr=[\"red\",\"blue\",\"green\"]\n",
    "combined=[(i,j) for j in sta for i in clr]\n",
    "combined"
   ]
  },
  {
   "cell_type": "code",
   "execution_count": 21,
   "id": "daf8846a",
   "metadata": {},
   "outputs": [
    {
     "data": {
      "text/plain": [
       "[27, 1235, 57, 909, 313, 50, 5]"
      ]
     },
     "execution_count": 21,
     "metadata": {},
     "output_type": "execute_result"
    }
   ],
   "source": [
    "numbers=[22,1234,56,908,312,45,0]\n",
    "[x+1 if x>=46 else x+5 for x in numbers]"
   ]
  },
  {
   "cell_type": "code",
   "execution_count": null,
   "id": "52e61291",
   "metadata": {},
   "outputs": [],
   "source": []
  }
 ],
 "metadata": {
  "kernelspec": {
   "display_name": "Python 3 (ipykernel)",
   "language": "python",
   "name": "python3"
  },
  "language_info": {
   "codemirror_mode": {
    "name": "ipython",
    "version": 3
   },
   "file_extension": ".py",
   "mimetype": "text/x-python",
   "name": "python",
   "nbconvert_exporter": "python",
   "pygments_lexer": "ipython3",
   "version": "3.9.12"
  }
 },
 "nbformat": 4,
 "nbformat_minor": 5
}
