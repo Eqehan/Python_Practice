{
 "cells": [
  {
   "cell_type": "code",
   "execution_count": 1,
   "id": "54747421",
   "metadata": {},
   "outputs": [
    {
     "data": {
      "text/plain": [
       "[10, 20, 35, 8657, 12, 89, 23, 90]"
      ]
     },
     "execution_count": 1,
     "metadata": {},
     "output_type": "execute_result"
    }
   ],
   "source": [
    "nums=[10,20,35,8657,12,89,23,90]; nums"
   ]
  },
  {
   "cell_type": "code",
   "execution_count": 2,
   "id": "47059f6d",
   "metadata": {},
   "outputs": [
    {
     "data": {
      "text/plain": [
       "8657"
      ]
     },
     "execution_count": 2,
     "metadata": {},
     "output_type": "execute_result"
    }
   ],
   "source": [
    "max(nums)"
   ]
  },
  {
   "cell_type": "code",
   "execution_count": 3,
   "id": "7ed07f89",
   "metadata": {},
   "outputs": [
    {
     "data": {
      "text/plain": [
       "10"
      ]
     },
     "execution_count": 3,
     "metadata": {},
     "output_type": "execute_result"
    }
   ],
   "source": [
    "min(nums)"
   ]
  },
  {
   "cell_type": "code",
   "execution_count": 5,
   "id": "2f4d4491",
   "metadata": {},
   "outputs": [
    {
     "data": {
      "text/plain": [
       "{10, 12, 20, 23, 35, 89, 90, 8657}"
      ]
     },
     "execution_count": 5,
     "metadata": {},
     "output_type": "execute_result"
    }
   ],
   "source": [
    "set(nums)"
   ]
  },
  {
   "cell_type": "code",
   "execution_count": 6,
   "id": "34790e57",
   "metadata": {},
   "outputs": [
    {
     "data": {
      "text/plain": [
       "8"
      ]
     },
     "execution_count": 6,
     "metadata": {},
     "output_type": "execute_result"
    }
   ],
   "source": [
    "len(nums)"
   ]
  },
  {
   "cell_type": "code",
   "execution_count": 7,
   "id": "7a7857db",
   "metadata": {},
   "outputs": [
    {
     "data": {
      "text/plain": [
       "[10, 12, 20, 23, 35, 89, 90, 8657]"
      ]
     },
     "execution_count": 7,
     "metadata": {},
     "output_type": "execute_result"
    }
   ],
   "source": [
    "nums.sort();nums"
   ]
  },
  {
   "cell_type": "code",
   "execution_count": 9,
   "id": "9414d74a",
   "metadata": {},
   "outputs": [
    {
     "data": {
      "text/plain": [
       "[10, 12, 20, 23, 35, 89, 90, 8657, 31]"
      ]
     },
     "execution_count": 9,
     "metadata": {},
     "output_type": "execute_result"
    }
   ],
   "source": [
    "nums.append(31);nums"
   ]
  },
  {
   "cell_type": "code",
   "execution_count": 13,
   "id": "db5c7607",
   "metadata": {},
   "outputs": [
    {
     "data": {
      "text/plain": [
       "[10, 12, 20, 23, 31, 35, 89, 90, 8657]"
      ]
     },
     "execution_count": 13,
     "metadata": {},
     "output_type": "execute_result"
    }
   ],
   "source": [
    "sort_nums= sorted(nums); sort_nums"
   ]
  },
  {
   "cell_type": "code",
   "execution_count": 14,
   "id": "aba6995e",
   "metadata": {},
   "outputs": [
    {
     "data": {
      "text/plain": [
       "8967"
      ]
     },
     "execution_count": 14,
     "metadata": {},
     "output_type": "execute_result"
    }
   ],
   "source": [
    "sum(nums)"
   ]
  },
  {
   "cell_type": "code",
   "execution_count": 16,
   "id": "27fdba8b",
   "metadata": {},
   "outputs": [
    {
     "data": {
      "text/plain": [
       "[10,\n",
       " 12,\n",
       " 20,\n",
       " 23,\n",
       " 35,\n",
       " 89,\n",
       " 90,\n",
       " 8657,\n",
       " 31,\n",
       " 10,\n",
       " 12,\n",
       " 20,\n",
       " 23,\n",
       " 35,\n",
       " 89,\n",
       " 90,\n",
       " 8657,\n",
       " 31,\n",
       " 10,\n",
       " 12,\n",
       " 20,\n",
       " 23,\n",
       " 35,\n",
       " 89,\n",
       " 90,\n",
       " 8657,\n",
       " 31,\n",
       " 10,\n",
       " 12,\n",
       " 20,\n",
       " 23,\n",
       " 35,\n",
       " 89,\n",
       " 90,\n",
       " 8657,\n",
       " 31,\n",
       " 10,\n",
       " 12,\n",
       " 20,\n",
       " 23,\n",
       " 35,\n",
       " 89,\n",
       " 90,\n",
       " 8657,\n",
       " 31,\n",
       " 10,\n",
       " 12,\n",
       " 20,\n",
       " 23,\n",
       " 35,\n",
       " 89,\n",
       " 90,\n",
       " 8657,\n",
       " 31,\n",
       " 10,\n",
       " 12,\n",
       " 20,\n",
       " 23,\n",
       " 35,\n",
       " 89,\n",
       " 90,\n",
       " 8657,\n",
       " 31,\n",
       " 10,\n",
       " 12,\n",
       " 20,\n",
       " 23,\n",
       " 35,\n",
       " 89,\n",
       " 90,\n",
       " 8657,\n",
       " 31,\n",
       " 10,\n",
       " 12,\n",
       " 20,\n",
       " 23,\n",
       " 35,\n",
       " 89,\n",
       " 90,\n",
       " 8657,\n",
       " 31]"
      ]
     },
     "execution_count": 16,
     "metadata": {},
     "output_type": "execute_result"
    }
   ],
   "source": [
    "nums *=3\n"
   ]
  },
  {
   "cell_type": "code",
   "execution_count": 17,
   "id": "5021aa0c",
   "metadata": {},
   "outputs": [
    {
     "data": {
      "text/plain": [
       "True"
      ]
     },
     "execution_count": 17,
     "metadata": {},
     "output_type": "execute_result"
    }
   ],
   "source": [
    "any([1])"
   ]
  },
  {
   "cell_type": "code",
   "execution_count": 18,
   "id": "e2985722",
   "metadata": {},
   "outputs": [
    {
     "data": {
      "text/plain": [
       "False"
      ]
     },
     "execution_count": 18,
     "metadata": {},
     "output_type": "execute_result"
    }
   ],
   "source": [
    "any([0])"
   ]
  },
  {
   "cell_type": "code",
   "execution_count": 19,
   "id": "ca4bde28",
   "metadata": {},
   "outputs": [
    {
     "data": {
      "text/plain": [
       "True"
      ]
     },
     "execution_count": 19,
     "metadata": {},
     "output_type": "execute_result"
    }
   ],
   "source": [
    "any(nums)"
   ]
  },
  {
   "cell_type": "code",
   "execution_count": null,
   "id": "b0a2eebe",
   "metadata": {},
   "outputs": [],
   "source": []
  }
 ],
 "metadata": {
  "kernelspec": {
   "display_name": "Python 3 (ipykernel)",
   "language": "python",
   "name": "python3"
  },
  "language_info": {
   "codemirror_mode": {
    "name": "ipython",
    "version": 3
   },
   "file_extension": ".py",
   "mimetype": "text/x-python",
   "name": "python",
   "nbconvert_exporter": "python",
   "pygments_lexer": "ipython3",
   "version": "3.9.12"
  }
 },
 "nbformat": 4,
 "nbformat_minor": 5
}
