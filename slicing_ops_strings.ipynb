{
 "cells": [
  {
   "cell_type": "code",
   "execution_count": 2,
   "id": "5220c75d",
   "metadata": {},
   "outputs": [
    {
     "name": "stdout",
     "output_type": "stream",
     "text": [
      "hello world of python!\n"
     ]
    }
   ],
   "source": [
    "my_str=\"hello world of python!\"; print(my_str[0:22])"
   ]
  },
  {
   "cell_type": "code",
   "execution_count": 3,
   "id": "40c781d4",
   "metadata": {},
   "outputs": [
    {
     "name": "stdout",
     "output_type": "stream",
     "text": [
      "hello \n"
     ]
    }
   ],
   "source": [
    "print(my_str[0:6])"
   ]
  },
  {
   "cell_type": "code",
   "execution_count": 4,
   "id": "8229aa71",
   "metadata": {},
   "outputs": [
    {
     "name": "stdout",
     "output_type": "stream",
     "text": [
      "hlowrdo y\n"
     ]
    }
   ],
   "source": [
    "print(my_str[0:17:2])"
   ]
  },
  {
   "cell_type": "code",
   "execution_count": 5,
   "id": "786dc0e7",
   "metadata": {},
   "outputs": [
    {
     "name": "stdout",
     "output_type": "stream",
     "text": [
      "!hpolw\n"
     ]
    }
   ],
   "source": [
    "print(my_str[21:3:-3])"
   ]
  },
  {
   "cell_type": "code",
   "execution_count": 6,
   "id": "35b3e100",
   "metadata": {},
   "outputs": [
    {
     "name": "stdout",
     "output_type": "stream",
     "text": [
      "!nohtyp fo dlrow olleh\n"
     ]
    }
   ],
   "source": [
    "print(my_str[::-1])"
   ]
  },
  {
   "cell_type": "code",
   "execution_count": 8,
   "id": "0e256b9c",
   "metadata": {},
   "outputs": [
    {
     "data": {
      "text/plain": [
       "['hello', 'world', 'of', 'python!']"
      ]
     },
     "execution_count": 8,
     "metadata": {},
     "output_type": "execute_result"
    }
   ],
   "source": [
    "some_str=my_str.split(); some_str #divide words"
   ]
  },
  {
   "cell_type": "code",
   "execution_count": 10,
   "id": "e95e32e2",
   "metadata": {},
   "outputs": [
    {
     "data": {
      "text/plain": [
       "'HELLO WORLD OF PYTHON!'"
      ]
     },
     "execution_count": 10,
     "metadata": {},
     "output_type": "execute_result"
    }
   ],
   "source": [
    "my_str.upper()"
   ]
  },
  {
   "cell_type": "code",
   "execution_count": 13,
   "id": "a9c25d33",
   "metadata": {},
   "outputs": [
    {
     "data": {
      "text/plain": [
       "True"
      ]
     },
     "execution_count": 13,
     "metadata": {},
     "output_type": "execute_result"
    }
   ],
   "source": [
    "'HELLO WORLD OF PYTHON!'.isupper()"
   ]
  },
  {
   "cell_type": "code",
   "execution_count": 14,
   "id": "1737b250",
   "metadata": {},
   "outputs": [
    {
     "data": {
      "text/plain": [
       "'hello world of python!'"
      ]
     },
     "execution_count": 14,
     "metadata": {},
     "output_type": "execute_result"
    }
   ],
   "source": [
    "my_str.lower()"
   ]
  },
  {
   "cell_type": "code",
   "execution_count": null,
   "id": "d39425d5",
   "metadata": {},
   "outputs": [],
   "source": []
  }
 ],
 "metadata": {
  "kernelspec": {
   "display_name": "Python 3 (ipykernel)",
   "language": "python",
   "name": "python3"
  },
  "language_info": {
   "codemirror_mode": {
    "name": "ipython",
    "version": 3
   },
   "file_extension": ".py",
   "mimetype": "text/x-python",
   "name": "python",
   "nbconvert_exporter": "python",
   "pygments_lexer": "ipython3",
   "version": "3.9.12"
  }
 },
 "nbformat": 4,
 "nbformat_minor": 5
}
